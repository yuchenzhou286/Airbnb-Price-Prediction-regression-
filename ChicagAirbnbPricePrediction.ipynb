{
 "cells": [
  {
   "cell_type": "markdown",
   "metadata": {},
   "source": [
    "# Part 1 Introduction of the project:\n",
    "project source: https://www.kaggle.com/datasets/jinbonnie/chicago-airbnb-open-data\n",
    "\n",
    "Airbnb has been a trending product that people use to book living and it is a good substitute of other hotel booking websites. \n",
    "\n",
    "This dataset including the Chicago airbnb information about the hosts, the information about the position of the Airbnb( neighborhood, latitude, longitude) which can use for map plot, describe of the room, and price, etc. Which will be a good dataset for data visualization and prediction. This public dataset is part of Airbnb, and the original source can be found from Airbnb Open Data.\n",
    "\n",
    "The main question I want to explore in this project: \n",
    "What factors influence the price and which model performs the best in price prediction?\n",
    "\n"
   ]
  },
  {
   "cell_type": "markdown",
   "metadata": {},
   "source": [
    "## Variable Definition:\n",
    "### Numerical:\n",
    "latitude - The latitude of the position\n",
    "\n",
    "longitude - The longitude of the position\n",
    "\n",
    "price - The price of the apartment(per day)\n",
    "\n",
    "minimum_nights - The least nights you need to book\n",
    "\n",
    "numberofreviews - The total number of the reviews on this dataset\n",
    "\n",
    "reviewspermonth - How many reviews the airbnb can receive per month\n",
    "\n",
    "calculatedhostlistings_count - The total listing number of the host\n",
    "\n",
    "availability_365 - The available days\n",
    "\n",
    "id - The id of the airbnb\n",
    "\n",
    "host_id - The id of the host\n",
    "\n",
    "\n",
    "### Categorical:\n",
    "\n",
    "neighborhood - Which area is the airbnb belongs to\n",
    "\n",
    "room_type - Entire home/apt, Private room or Other\n",
    "\n",
    "\n",
    "### Text:\n",
    "name - The name of the airbnb\n",
    "\n",
    "host_name - The name of the host\n",
    "\n",
    "### Date:\n",
    "last_review - the last review time\n",
    "\n",
    "### Vacant:\n",
    "neighbourhood_group \n"
   ]
  },
  {
   "cell_type": "markdown",
   "metadata": {},
   "source": [
    "# Part 2 Data Exploration:\n"
   ]
  },
  {
   "cell_type": "code",
   "execution_count": 1,
   "metadata": {},
   "outputs": [],
   "source": [
    "import pandas as pd\n",
    "import numpy as np\n",
    "from collections import Counter\n",
    "import plotly.express as px\n",
    "import matplotlib.pyplot as plt\n",
    "import seaborn as sns\n",
    "\n",
    "from sklearn.preprocessing import LabelEncoder\n",
    "from sklearn.preprocessing import OneHotEncoder\n",
    "from sklearn.preprocessing import OrdinalEncoder\n",
    "\n",
    "import sklearn.preprocessing\n",
    "from sklearn.impute import SimpleImputer\n",
    "\n",
    "from sklearn.preprocessing import StandardScaler\n",
    "from sklearn.model_selection import train_test_split\n",
    "\n",
    "from sklearn import tree\n",
    "import graphviz\n",
    "from sklearn.ensemble import RandomForestClassifier\n",
    "\n",
    "\n",
    "import re\n",
    "from nltk.corpus import stopwords\n",
    "\n",
    "from sklearn.feature_extraction.text import CountVectorizer\n",
    "from sklearn.linear_model import LinearRegression, Ridge, Lasso\n",
    "from sklearn.metrics import mean_squared_error\n",
    "from sklearn.metrics import mean_absolute_error"
   ]
  },
  {
   "cell_type": "code",
   "execution_count": 2,
   "metadata": {},
   "outputs": [
    {
     "data": {
      "text/html": [
       "<div>\n",
       "<style scoped>\n",
       "    .dataframe tbody tr th:only-of-type {\n",
       "        vertical-align: middle;\n",
       "    }\n",
       "\n",
       "    .dataframe tbody tr th {\n",
       "        vertical-align: top;\n",
       "    }\n",
       "\n",
       "    .dataframe thead th {\n",
       "        text-align: right;\n",
       "    }\n",
       "</style>\n",
       "<table border=\"1\" class=\"dataframe\">\n",
       "  <thead>\n",
       "    <tr style=\"text-align: right;\">\n",
       "      <th></th>\n",
       "      <th>id</th>\n",
       "      <th>name</th>\n",
       "      <th>host_id</th>\n",
       "      <th>host_name</th>\n",
       "      <th>neighbourhood_group</th>\n",
       "      <th>neighbourhood</th>\n",
       "      <th>latitude</th>\n",
       "      <th>longitude</th>\n",
       "      <th>room_type</th>\n",
       "      <th>price</th>\n",
       "      <th>minimum_nights</th>\n",
       "      <th>number_of_reviews</th>\n",
       "      <th>last_review</th>\n",
       "      <th>reviews_per_month</th>\n",
       "      <th>calculated_host_listings_count</th>\n",
       "      <th>availability_365</th>\n",
       "    </tr>\n",
       "  </thead>\n",
       "  <tbody>\n",
       "    <tr>\n",
       "      <th>0</th>\n",
       "      <td>2384</td>\n",
       "      <td>Hyde Park - Walk to UChicago, 10 min to McCormick</td>\n",
       "      <td>2613</td>\n",
       "      <td>Rebecca</td>\n",
       "      <td>NaN</td>\n",
       "      <td>Hyde Park</td>\n",
       "      <td>41.78790</td>\n",
       "      <td>-87.58780</td>\n",
       "      <td>Private room</td>\n",
       "      <td>60</td>\n",
       "      <td>2</td>\n",
       "      <td>178</td>\n",
       "      <td>2019-12-15</td>\n",
       "      <td>2.56</td>\n",
       "      <td>1</td>\n",
       "      <td>353</td>\n",
       "    </tr>\n",
       "    <tr>\n",
       "      <th>1</th>\n",
       "      <td>4505</td>\n",
       "      <td>394 Great Reviews. 127 y/o House. 40 yds to tr...</td>\n",
       "      <td>5775</td>\n",
       "      <td>Craig &amp; Kathleen</td>\n",
       "      <td>NaN</td>\n",
       "      <td>South Lawndale</td>\n",
       "      <td>41.85495</td>\n",
       "      <td>-87.69696</td>\n",
       "      <td>Entire home/apt</td>\n",
       "      <td>105</td>\n",
       "      <td>2</td>\n",
       "      <td>395</td>\n",
       "      <td>2020-07-14</td>\n",
       "      <td>2.81</td>\n",
       "      <td>1</td>\n",
       "      <td>155</td>\n",
       "    </tr>\n",
       "    <tr>\n",
       "      <th>2</th>\n",
       "      <td>7126</td>\n",
       "      <td>Tiny Studio Apartment 94 Walk Score</td>\n",
       "      <td>17928</td>\n",
       "      <td>Sarah</td>\n",
       "      <td>NaN</td>\n",
       "      <td>West Town</td>\n",
       "      <td>41.90289</td>\n",
       "      <td>-87.68182</td>\n",
       "      <td>Entire home/apt</td>\n",
       "      <td>60</td>\n",
       "      <td>2</td>\n",
       "      <td>384</td>\n",
       "      <td>2020-03-08</td>\n",
       "      <td>2.81</td>\n",
       "      <td>1</td>\n",
       "      <td>321</td>\n",
       "    </tr>\n",
       "    <tr>\n",
       "      <th>3</th>\n",
       "      <td>9811</td>\n",
       "      <td>Barbara's Hideaway - Old Town</td>\n",
       "      <td>33004</td>\n",
       "      <td>At Home Inn</td>\n",
       "      <td>NaN</td>\n",
       "      <td>Lincoln Park</td>\n",
       "      <td>41.91769</td>\n",
       "      <td>-87.63788</td>\n",
       "      <td>Entire home/apt</td>\n",
       "      <td>65</td>\n",
       "      <td>4</td>\n",
       "      <td>49</td>\n",
       "      <td>2019-10-23</td>\n",
       "      <td>0.63</td>\n",
       "      <td>9</td>\n",
       "      <td>300</td>\n",
       "    </tr>\n",
       "    <tr>\n",
       "      <th>4</th>\n",
       "      <td>10610</td>\n",
       "      <td>3 Comforts of Cooperative Living</td>\n",
       "      <td>2140</td>\n",
       "      <td>Lois</td>\n",
       "      <td>NaN</td>\n",
       "      <td>Hyde Park</td>\n",
       "      <td>41.79612</td>\n",
       "      <td>-87.59261</td>\n",
       "      <td>Private room</td>\n",
       "      <td>21</td>\n",
       "      <td>1</td>\n",
       "      <td>44</td>\n",
       "      <td>2020-02-14</td>\n",
       "      <td>0.61</td>\n",
       "      <td>5</td>\n",
       "      <td>168</td>\n",
       "    </tr>\n",
       "  </tbody>\n",
       "</table>\n",
       "</div>"
      ],
      "text/plain": [
       "      id                                               name  host_id  \\\n",
       "0   2384  Hyde Park - Walk to UChicago, 10 min to McCormick     2613   \n",
       "1   4505  394 Great Reviews. 127 y/o House. 40 yds to tr...     5775   \n",
       "2   7126                Tiny Studio Apartment 94 Walk Score    17928   \n",
       "3   9811                      Barbara's Hideaway - Old Town    33004   \n",
       "4  10610                   3 Comforts of Cooperative Living     2140   \n",
       "\n",
       "          host_name  neighbourhood_group   neighbourhood  latitude  longitude  \\\n",
       "0           Rebecca                  NaN       Hyde Park  41.78790  -87.58780   \n",
       "1  Craig & Kathleen                  NaN  South Lawndale  41.85495  -87.69696   \n",
       "2             Sarah                  NaN       West Town  41.90289  -87.68182   \n",
       "3       At Home Inn                  NaN    Lincoln Park  41.91769  -87.63788   \n",
       "4              Lois                  NaN       Hyde Park  41.79612  -87.59261   \n",
       "\n",
       "         room_type  price  minimum_nights  number_of_reviews last_review  \\\n",
       "0     Private room     60               2                178  2019-12-15   \n",
       "1  Entire home/apt    105               2                395  2020-07-14   \n",
       "2  Entire home/apt     60               2                384  2020-03-08   \n",
       "3  Entire home/apt     65               4                 49  2019-10-23   \n",
       "4     Private room     21               1                 44  2020-02-14   \n",
       "\n",
       "   reviews_per_month  calculated_host_listings_count  availability_365  \n",
       "0               2.56                               1               353  \n",
       "1               2.81                               1               155  \n",
       "2               2.81                               1               321  \n",
       "3               0.63                               9               300  \n",
       "4               0.61                               5               168  "
      ]
     },
     "execution_count": 2,
     "metadata": {},
     "output_type": "execute_result"
    }
   ],
   "source": [
    "data = pd.read_csv('/Users/yuchenzhou/Desktop/MachineLearning/final_project/listings.csv')\n",
    "data.head(5)"
   ]
  },
  {
   "cell_type": "code",
   "execution_count": 3,
   "metadata": {},
   "outputs": [
    {
     "data": {
      "text/plain": [
       "(6397, 16)"
      ]
     },
     "execution_count": 3,
     "metadata": {},
     "output_type": "execute_result"
    }
   ],
   "source": [
    "data.shape "
   ]
  },
  {
   "cell_type": "code",
   "execution_count": 4,
   "metadata": {},
   "outputs": [
    {
     "data": {
      "text/plain": [
       "id                                   0\n",
       "name                                 0\n",
       "host_id                              0\n",
       "host_name                            0\n",
       "neighbourhood_group               6397\n",
       "neighbourhood                        0\n",
       "latitude                             0\n",
       "longitude                            0\n",
       "room_type                            0\n",
       "price                                0\n",
       "minimum_nights                       0\n",
       "number_of_reviews                    0\n",
       "last_review                       1132\n",
       "reviews_per_month                 1132\n",
       "calculated_host_listings_count       0\n",
       "availability_365                     0\n",
       "dtype: int64"
      ]
     },
     "execution_count": 4,
     "metadata": {},
     "output_type": "execute_result"
    }
   ],
   "source": [
    "# check missing values\n",
    "data.isna().sum(axis=0)"
   ]
  },
  {
   "cell_type": "code",
   "execution_count": 5,
   "metadata": {},
   "outputs": [
    {
     "name": "stdout",
     "output_type": "stream",
     "text": [
      "<class 'pandas.core.frame.DataFrame'>\n",
      "RangeIndex: 6397 entries, 0 to 6396\n",
      "Data columns (total 16 columns):\n",
      " #   Column                          Non-Null Count  Dtype  \n",
      "---  ------                          --------------  -----  \n",
      " 0   id                              6397 non-null   int64  \n",
      " 1   name                            6397 non-null   object \n",
      " 2   host_id                         6397 non-null   int64  \n",
      " 3   host_name                       6397 non-null   object \n",
      " 4   neighbourhood_group             0 non-null      float64\n",
      " 5   neighbourhood                   6397 non-null   object \n",
      " 6   latitude                        6397 non-null   float64\n",
      " 7   longitude                       6397 non-null   float64\n",
      " 8   room_type                       6397 non-null   object \n",
      " 9   price                           6397 non-null   int64  \n",
      " 10  minimum_nights                  6397 non-null   int64  \n",
      " 11  number_of_reviews               6397 non-null   int64  \n",
      " 12  last_review                     5265 non-null   object \n",
      " 13  reviews_per_month               5265 non-null   float64\n",
      " 14  calculated_host_listings_count  6397 non-null   int64  \n",
      " 15  availability_365                6397 non-null   int64  \n",
      "dtypes: float64(4), int64(7), object(5)\n",
      "memory usage: 799.8+ KB\n"
     ]
    }
   ],
   "source": [
    "# check feature types\n",
    "data.info()"
   ]
  },
  {
   "cell_type": "markdown",
   "metadata": {},
   "source": [
    "### 2.1 Numerical Features\n",
    "I checked the distribution of numerical variables and see if there are any outliers. "
   ]
  },
  {
   "cell_type": "markdown",
   "metadata": {},
   "source": [
    "#### 1) price"
   ]
  },
  {
   "cell_type": "code",
   "execution_count": 6,
   "metadata": {},
   "outputs": [
    {
     "data": {
      "image/png": "[encoded data removed]",
      "text/plain": [
       "<Figure size 576x288 with 1 Axes>"
      ]
     },
     "metadata": {
      "needs_background": "light"
     },
     "output_type": "display_data"
    },
    {
     "data": {
      "image/png": "[encoded data removed]",
      "text/plain": [
       "<Figure size 576x288 with 1 Axes>"
      ]
     },
     "metadata": {
      "needs_background": "light"
     },
     "output_type": "display_data"
    }
   ],
   "source": [
    "# show all the disribution of values\n",
    "fig = plt.figure(figsize=(8,4))\n",
    "sns.kdeplot(data['price'],color = 'r')\n",
    "plt.title('Distribution of all the price')\n",
    "plt.show()\n",
    "\n",
    "# remove the outliers\n",
    "def three_sigma(ser):\n",
    "    rule = (ser.mean() - 3*ser.std() > ser) | (ser.mean() + 3*ser.std() < ser)\n",
    "    fig = plt.figure(figsize=(8,4))\n",
    "    sns.kdeplot(ser[-rule])\n",
    "    plt.title('Distribution of price (removed the values out of 3 standard deviation from the mean)')\n",
    "    plt.show()\n",
    "\n",
    "\n",
    "three_sigma(data['price'])"
   ]
  },
  {
   "cell_type": "markdown",
   "metadata": {},
   "source": [
    "After removing the data whose price lies 3 standard deviation away from the mean, the data is still right skewed, so I decide to drop rows whose price >=200 or <=0. "
   ]
  },
  {
   "cell_type": "code",
   "execution_count": 7,
   "metadata": {},
   "outputs": [
    {
     "data": {
      "text/plain": [
       "(5350, 16)"
      ]
     },
     "execution_count": 7,
     "metadata": {},
     "output_type": "execute_result"
    }
   ],
   "source": [
    "#ser_price = data['price']\n",
    "#rule_price = (ser_price.mean() - 3*ser_price.std() > ser_price) | (ser_price.mean() + 3*ser_price.std() < ser_price)\n",
    "\n",
    "\n",
    "index_1 = data[data['price']>=200].index.tolist()\n",
    "index_2 = data[data['price'] <=0].index.tolist()\n",
    "for a in index_1:\n",
    "    data = data.drop(index=a)\n",
    "\n",
    "for a in index_2:\n",
    "    data = data.drop(index=a)\n",
    "data.shape\n"
   ]
  },
  {
   "cell_type": "markdown",
   "metadata": {},
   "source": [
    "To make the price approach normal distribution, I dropped many values that distribute at the long right tail, and this sacrifice the sample size, especially the overall sample size in the modeling process. But this improves the model performance and made the predicted prices closer to the true prices."
   ]
  },
  {
   "cell_type": "code",
   "execution_count": 8,
   "metadata": {},
   "outputs": [
    {
     "data": {
      "image/png": "[encoded data removed]",
      "text/plain": [
       "<Figure size 576x288 with 1 Axes>"
      ]
     },
     "metadata": {
      "needs_background": "light"
     },
     "output_type": "display_data"
    }
   ],
   "source": [
    "fig = plt.figure(figsize=(8,4))\n",
    "sns.kdeplot(data['price'],color = 'r')\n",
    "plt.title('Distribution of all the price')\n",
    "plt.show()"
   ]
  },
  {
   "cell_type": "markdown",
   "metadata": {},
   "source": [
    "#### 2) minimum nights"
   ]
  },
  {
   "cell_type": "code",
   "execution_count": 9,
   "metadata": {},
   "outputs": [],
   "source": [
    "# x2 = data['minimum_nights']\n",
    "# x2.plot.box(title = 'boxplot of min_nights')\n",
    "# plt.show()"
   ]
  },
  {
   "cell_type": "code",
   "execution_count": 10,
   "metadata": {},
   "outputs": [
    {
     "data": {
      "image/png": "[encoded data removed]",
      "text/plain": [
       "<Figure size 576x288 with 1 Axes>"
      ]
     },
     "metadata": {
      "needs_background": "light"
     },
     "output_type": "display_data"
    },
    {
     "data": {
      "image/png": "[encoded data removed]",
      "text/plain": [
       "<Figure size 576x288 with 1 Axes>"
      ]
     },
     "metadata": {
      "needs_background": "light"
     },
     "output_type": "display_data"
    }
   ],
   "source": [
    "# show all the disribution of values\n",
    "fig = plt.figure(figsize=(8,4))\n",
    "sns.kdeplot(data['minimum_nights'],color = 'r')\n",
    "plt.title('Distribution of all the minimum_nights')\n",
    "plt.show()\n",
    "\n",
    "# remove the outliers\n",
    "def three_sigma(ser):\n",
    "    rule = (ser.mean() - 3*ser.std() > ser) | (ser.mean() + 3*ser.std() < ser)\n",
    "    fig = plt.figure(figsize=(8,4))\n",
    "    sns.kdeplot(ser[-rule])\n",
    "    plt.title('Distribution of minimum_nights (removed the values out of 3 standard deviation from the mean)')\n",
    "    plt.show()\n",
    "\n",
    "\n",
    "three_sigma(data['minimum_nights'])"
   ]
  },
  {
   "cell_type": "markdown",
   "metadata": {},
   "source": [
    "It looks like that records of minimum nights >= 20 and minimum_nights <0 are far from the distribution, so I delete them."
   ]
  },
  {
   "cell_type": "code",
   "execution_count": 11,
   "metadata": {},
   "outputs": [
    {
     "data": {
      "text/plain": [
       "(4537, 16)"
      ]
     },
     "execution_count": 11,
     "metadata": {},
     "output_type": "execute_result"
    }
   ],
   "source": [
    "index_3 = data[data['minimum_nights'] >= 20].index.tolist()\n",
    "index_4 = data[data['minimum_nights'] <= 0].index.tolist()\n",
    "for a in index_3:\n",
    "    data = data.drop(index=a)\n",
    "    \n",
    "for a in index_4:\n",
    "    data = data.drop(index=a)\n",
    "data.shape"
   ]
  },
  {
   "cell_type": "markdown",
   "metadata": {},
   "source": [
    "#### 3) number of reviews"
   ]
  },
  {
   "cell_type": "code",
   "execution_count": 12,
   "metadata": {},
   "outputs": [
    {
     "data": {
      "image/png": "[encoded data removed]",
      "text/plain": [
       "<Figure size 576x288 with 1 Axes>"
      ]
     },
     "metadata": {
      "needs_background": "light"
     },
     "output_type": "display_data"
    },
    {
     "data": {
      "image/png": "[encoded data removed]",
      "text/plain": [
       "<Figure size 576x288 with 1 Axes>"
      ]
     },
     "metadata": {
      "needs_background": "light"
     },
     "output_type": "display_data"
    }
   ],
   "source": [
    "# show all the disribution of values\n",
    "fig = plt.figure(figsize=(8,4))\n",
    "sns.kdeplot(data['number_of_reviews'],color = 'r')\n",
    "plt.title('Distribution of all the number_of_reviews')\n",
    "plt.show()\n",
    "\n",
    "# remove the outliers\n",
    "def three_sigma(ser):\n",
    "    rule = (ser.mean() - 3*ser.std() > ser) | (ser.mean() + 3*ser.std() < ser)\n",
    "    fig = plt.figure(figsize=(8,4))\n",
    "    sns.kdeplot(ser[-rule])\n",
    "    plt.title('Distribution of number_of_reviews (removed the values out of 3 standard deviation from the mean)')\n",
    "    plt.show()\n",
    "\n",
    "\n",
    "three_sigma(data['number_of_reviews'])"
   ]
  },
  {
   "cell_type": "markdown",
   "metadata": {},
   "source": [
    "Although the data is right skewed, the right tail is not too long. So I decide to not to delete any rows in terms of number of reviews. "
   ]
  },
  {
   "cell_type": "markdown",
   "metadata": {},
   "source": [
    "#### 4）reviews per month "
   ]
  },
  {
   "cell_type": "code",
   "execution_count": 13,
   "metadata": {},
   "outputs": [
    {
     "data": {
      "image/png": "[encoded data removed]",
      "text/plain": [
       "<Figure size 576x288 with 1 Axes>"
      ]
     },
     "metadata": {
      "needs_background": "light"
     },
     "output_type": "display_data"
    },
    {
     "data": {
      "image/png": "[encoded data removed]",
      "text/plain": [
       "<Figure size 576x288 with 1 Axes>"
      ]
     },
     "metadata": {
      "needs_background": "light"
     },
     "output_type": "display_data"
    }
   ],
   "source": [
    "# show all the disribution of values\n",
    "fig = plt.figure(figsize=(8,4))\n",
    "sns.kdeplot(data['reviews_per_month'],color = 'r')\n",
    "plt.title('Distribution of all the reviews_per_month')\n",
    "plt.show()\n",
    "\n",
    "# remove the outliers\n",
    "def three_sigma(ser):\n",
    "    rule = (ser.mean() - 3*ser.std() > ser) | (ser.mean() + 3*ser.std() < ser)\n",
    "    fig = plt.figure(figsize=(8,4))\n",
    "    sns.kdeplot(ser[-rule])\n",
    "    plt.title('Distribution of reviews_per_month (removed the values out of 3 standard deviation from the mean)')\n",
    "    plt.show()\n",
    "\n",
    "\n",
    "three_sigma(data['reviews_per_month'])"
   ]
  },
  {
   "cell_type": "markdown",
   "metadata": {},
   "source": [
    "Although the data is right skewed, the right tail is not too long. So I decide to not to delete any rows in terms of reviews per month. "
   ]
  },
  {
   "cell_type": "markdown",
   "metadata": {},
   "source": [
    "#### 5) calculated_host_listings_count"
   ]
  },
  {
   "cell_type": "code",
   "execution_count": 14,
   "metadata": {},
   "outputs": [
    {
     "data": {
      "image/png": "[encoded data removed]",
      "text/plain": [
       "<Figure size 576x288 with 1 Axes>"
      ]
     },
     "metadata": {
      "needs_background": "light"
     },
     "output_type": "display_data"
    },
    {
     "data": {
      "image/png": "[encoded data removed]",
      "text/plain": [
       "<Figure size 576x288 with 1 Axes>"
      ]
     },
     "metadata": {
      "needs_background": "light"
     },
     "output_type": "display_data"
    }
   ],
   "source": [
    "# show all the disribution of values\n",
    "fig = plt.figure(figsize=(8,4))\n",
    "sns.kdeplot(data['calculated_host_listings_count'],color='r')\n",
    "plt.title('Distribution of all the calculated_host_listings_count ')\n",
    "plt.show()\n",
    "\n",
    "# remove the outliers\n",
    "def three_sigma(ser):\n",
    "    rule = (ser.mean() - 3*ser.std() > ser) | (ser.mean() + 3*ser.std() < ser)\n",
    "    fig = plt.figure(figsize=(8,4))\n",
    "    sns.kdeplot(ser[-rule])\n",
    "    plt.title('Distribution of calculated_host_listings_count  (removed the values out of 3 standard deviation from the mean)')\n",
    "    plt.show()\n",
    "\n",
    "\n",
    "three_sigma(data['calculated_host_listings_count'])"
   ]
  },
  {
   "cell_type": "markdown",
   "metadata": {},
   "source": [
    "After removing the outliers which are 3 standard deviation away from the mean, the data is still right skewed. So that I decide to move the tail part, which is calculated_host_listings_count > 20"
   ]
  },
  {
   "cell_type": "code",
   "execution_count": 15,
   "metadata": {},
   "outputs": [
    {
     "data": {
      "text/plain": [
       "(4255, 16)"
      ]
     },
     "execution_count": 15,
     "metadata": {},
     "output_type": "execute_result"
    }
   ],
   "source": [
    "index_8 = data[data['calculated_host_listings_count'] > 20].index.tolist()\n",
    "\n",
    "for a in index_8:\n",
    "    data = data.drop(index=a)\n",
    "data.shape"
   ]
  },
  {
   "cell_type": "markdown",
   "metadata": {},
   "source": [
    "#### 6) availability_365"
   ]
  },
  {
   "cell_type": "code",
   "execution_count": 16,
   "metadata": {},
   "outputs": [
    {
     "data": {
      "image/png": "[encoded data removed]",
      "text/plain": [
       "<Figure size 576x288 with 1 Axes>"
      ]
     },
     "metadata": {
      "needs_background": "light"
     },
     "output_type": "display_data"
    },
    {
     "data": {
      "image/png": "[encoded data removed]",
      "text/plain": [
       "<Figure size 576x288 with 1 Axes>"
      ]
     },
     "metadata": {
      "needs_background": "light"
     },
     "output_type": "display_data"
    }
   ],
   "source": [
    "# show all the disribution of values\n",
    "fig = plt.figure(figsize=(8,4))\n",
    "sns.kdeplot(data['availability_365'],color='r')\n",
    "plt.title('Distribution of all the availability_365')\n",
    "plt.show()\n",
    "\n",
    "# remove the outliers\n",
    "def three_sigma(ser):\n",
    "    rule = (ser.mean() - 3*ser.std() > ser) | (ser.mean() + 3*ser.std() < ser)\n",
    "    fig = plt.figure(figsize=(8,4))\n",
    "    sns.kdeplot(ser[-rule])\n",
    "    plt.title('Distribution of availability_365 (removed the values out of 3 standard deviation from the mean)')\n",
    "    plt.show()\n",
    "\n",
    "\n",
    "three_sigma(data['availability_365'])"
   ]
  },
  {
   "cell_type": "markdown",
   "metadata": {},
   "source": [
    "After seeing the distribution of availability 365 whose outliers has been removed, it is not a normal distribution, however, there are no obvious outliers. So I decide not to drop any rows."
   ]
  },
  {
   "cell_type": "markdown",
   "metadata": {},
   "source": [
    "### 2.2 Features that contains no meaning. \n",
    "Next I saw the distribution of categorical variables = id, host_id, host_name"
   ]
  },
  {
   "cell_type": "markdown",
   "metadata": {},
   "source": [
    "#### 1) id"
   ]
  },
  {
   "cell_type": "code",
   "execution_count": 17,
   "metadata": {},
   "outputs": [
    {
     "data": {
      "text/plain": [
       "(4255, 2)"
      ]
     },
     "execution_count": 17,
     "metadata": {},
     "output_type": "execute_result"
    }
   ],
   "source": [
    "df_id = data.copy()\n",
    "plot_data_id = df_id.groupby('id')['id'].agg(['count']).reset_index()\n",
    "plot_data_id.shape"
   ]
  },
  {
   "cell_type": "markdown",
   "metadata": {},
   "source": [
    "There are too many counts of id (6009) and it does not have any exact meanings, so I will drop it later. "
   ]
  },
  {
   "cell_type": "markdown",
   "metadata": {},
   "source": [
    "#### 2) host_id"
   ]
  },
  {
   "cell_type": "code",
   "execution_count": 18,
   "metadata": {},
   "outputs": [
    {
     "data": {
      "text/plain": [
       "(2834, 2)"
      ]
     },
     "execution_count": 18,
     "metadata": {},
     "output_type": "execute_result"
    }
   ],
   "source": [
    "df_hostid = data.copy()\n",
    "plot_data_hostid = df_hostid.groupby('host_id')['host_id'].agg(['count']).reset_index()\n",
    "plot_data_hostid.shape"
   ]
  },
  {
   "cell_type": "markdown",
   "metadata": {},
   "source": [
    "The same thing happends for host id (3370 counts) and since the ids does not have meanings if I explore the features which are correlated with room price. So I will drop this variable later. "
   ]
  },
  {
   "cell_type": "markdown",
   "metadata": {},
   "source": [
    "#### 3) host_name"
   ]
  },
  {
   "cell_type": "code",
   "execution_count": 19,
   "metadata": {},
   "outputs": [
    {
     "data": {
      "text/plain": [
       "(1600, 2)"
      ]
     },
     "execution_count": 19,
     "metadata": {},
     "output_type": "execute_result"
    }
   ],
   "source": [
    "df_hostname = data.copy()\n",
    "plot_data_hostname = df_hostname.groupby('host_name')['host_name'].agg(['count']).reset_index()\n",
    "plot_data_hostname.shape"
   ]
  },
  {
   "cell_type": "markdown",
   "metadata": {},
   "source": [
    "Since host name also does not contain any exact meaning if we want to predict the room price, and there are still too many different values inside (1817 counts), I will drop this variable later. "
   ]
  },
  {
   "cell_type": "code",
   "execution_count": 20,
   "metadata": {},
   "outputs": [],
   "source": [
    "data=data.drop(columns=['id','host_id','host_name','neighbourhood_group'])"
   ]
  },
  {
   "cell_type": "markdown",
   "metadata": {},
   "source": [
    "### 2.3 Categorical features\n",
    "Next I will see the distribution of the categorical features - neighbourhood and room type. \n",
    "#### 1) neighbourhood"
   ]
  },
  {
   "cell_type": "code",
   "execution_count": 21,
   "metadata": {},
   "outputs": [
    {
     "data": {
      "text/plain": [
       "(77, 2)"
      ]
     },
     "execution_count": 21,
     "metadata": {},
     "output_type": "execute_result"
    }
   ],
   "source": [
    "df_nb = data.copy()\n",
    "\n",
    "plot_data_nb = df_nb.groupby('neighbourhood')['neighbourhood'].agg(['count']).reset_index()\n",
    "plot_data_nb.shape\n"
   ]
  },
  {
   "cell_type": "markdown",
   "metadata": {},
   "source": [
    "We can see that there are 77 types of neighbourhood, and we will encode them in the data processing part. "
   ]
  },
  {
   "cell_type": "markdown",
   "metadata": {},
   "source": [
    "#### 2) Room type"
   ]
  },
  {
   "cell_type": "markdown",
   "metadata": {},
   "source": [
    "Then we plotted the distribution of room type."
   ]
  },
  {
   "cell_type": "code",
   "execution_count": 22,
   "metadata": {},
   "outputs": [
    {
     "data": {
      "image/png": "[encoded data removed]",
      "text/plain": [
       "<Figure size 432x288 with 1 Axes>"
      ]
     },
     "metadata": {
      "needs_background": "light"
     },
     "output_type": "display_data"
    }
   ],
   "source": [
    "df_room = data.copy()\n",
    "plot_data = df_room.groupby('room_type')['room_type'].agg(['count']).reset_index()\n",
    "plt.bar(plot_data['room_type'], plot_data['count'], color ='firebrick',\n",
    "        width = 0.4)\n",
    " \n",
    "plt.xlabel(\"Room Type\",fontsize = 12)\n",
    "plt.ylabel(\"Frequency\",fontsize = 12)\n",
    "plt.title(\"Distribution of Room Type\",fontsize = 18)\n",
    "plt.show()\n"
   ]
  },
  {
   "cell_type": "markdown",
   "metadata": {},
   "source": [
    "There are four types of rooms in the data set. Most of them are entire home, follows by private room."
   ]
  },
  {
   "cell_type": "markdown",
   "metadata": {},
   "source": [
    "####  Now check the data set again. "
   ]
  },
  {
   "cell_type": "code",
   "execution_count": 23,
   "metadata": {},
   "outputs": [
    {
     "data": {
      "text/html": [
       "<div>\n",
       "<style scoped>\n",
       "    .dataframe tbody tr th:only-of-type {\n",
       "        vertical-align: middle;\n",
       "    }\n",
       "\n",
       "    .dataframe tbody tr th {\n",
       "        vertical-align: top;\n",
       "    }\n",
       "\n",
       "    .dataframe thead th {\n",
       "        text-align: right;\n",
       "    }\n",
       "</style>\n",
       "<table border=\"1\" class=\"dataframe\">\n",
       "  <thead>\n",
       "    <tr style=\"text-align: right;\">\n",
       "      <th></th>\n",
       "      <th>name</th>\n",
       "      <th>neighbourhood</th>\n",
       "      <th>latitude</th>\n",
       "      <th>longitude</th>\n",
       "      <th>room_type</th>\n",
       "      <th>price</th>\n",
       "      <th>minimum_nights</th>\n",
       "      <th>number_of_reviews</th>\n",
       "      <th>last_review</th>\n",
       "      <th>reviews_per_month</th>\n",
       "      <th>calculated_host_listings_count</th>\n",
       "      <th>availability_365</th>\n",
       "    </tr>\n",
       "  </thead>\n",
       "  <tbody>\n",
       "    <tr>\n",
       "      <th>0</th>\n",
       "      <td>Hyde Park - Walk to UChicago, 10 min to McCormick</td>\n",
       "      <td>Hyde Park</td>\n",
       "      <td>41.78790</td>\n",
       "      <td>-87.58780</td>\n",
       "      <td>Private room</td>\n",
       "      <td>60</td>\n",
       "      <td>2</td>\n",
       "      <td>178</td>\n",
       "      <td>2019-12-15</td>\n",
       "      <td>2.56</td>\n",
       "      <td>1</td>\n",
       "      <td>353</td>\n",
       "    </tr>\n",
       "    <tr>\n",
       "      <th>1</th>\n",
       "      <td>394 Great Reviews. 127 y/o House. 40 yds to tr...</td>\n",
       "      <td>South Lawndale</td>\n",
       "      <td>41.85495</td>\n",
       "      <td>-87.69696</td>\n",
       "      <td>Entire home/apt</td>\n",
       "      <td>105</td>\n",
       "      <td>2</td>\n",
       "      <td>395</td>\n",
       "      <td>2020-07-14</td>\n",
       "      <td>2.81</td>\n",
       "      <td>1</td>\n",
       "      <td>155</td>\n",
       "    </tr>\n",
       "    <tr>\n",
       "      <th>2</th>\n",
       "      <td>Tiny Studio Apartment 94 Walk Score</td>\n",
       "      <td>West Town</td>\n",
       "      <td>41.90289</td>\n",
       "      <td>-87.68182</td>\n",
       "      <td>Entire home/apt</td>\n",
       "      <td>60</td>\n",
       "      <td>2</td>\n",
       "      <td>384</td>\n",
       "      <td>2020-03-08</td>\n",
       "      <td>2.81</td>\n",
       "      <td>1</td>\n",
       "      <td>321</td>\n",
       "    </tr>\n",
       "    <tr>\n",
       "      <th>3</th>\n",
       "      <td>Barbara's Hideaway - Old Town</td>\n",
       "      <td>Lincoln Park</td>\n",
       "      <td>41.91769</td>\n",
       "      <td>-87.63788</td>\n",
       "      <td>Entire home/apt</td>\n",
       "      <td>65</td>\n",
       "      <td>4</td>\n",
       "      <td>49</td>\n",
       "      <td>2019-10-23</td>\n",
       "      <td>0.63</td>\n",
       "      <td>9</td>\n",
       "      <td>300</td>\n",
       "    </tr>\n",
       "    <tr>\n",
       "      <th>4</th>\n",
       "      <td>3 Comforts of Cooperative Living</td>\n",
       "      <td>Hyde Park</td>\n",
       "      <td>41.79612</td>\n",
       "      <td>-87.59261</td>\n",
       "      <td>Private room</td>\n",
       "      <td>21</td>\n",
       "      <td>1</td>\n",
       "      <td>44</td>\n",
       "      <td>2020-02-14</td>\n",
       "      <td>0.61</td>\n",
       "      <td>5</td>\n",
       "      <td>168</td>\n",
       "    </tr>\n",
       "  </tbody>\n",
       "</table>\n",
       "</div>"
      ],
      "text/plain": [
       "                                                name   neighbourhood  \\\n",
       "0  Hyde Park - Walk to UChicago, 10 min to McCormick       Hyde Park   \n",
       "1  394 Great Reviews. 127 y/o House. 40 yds to tr...  South Lawndale   \n",
       "2                Tiny Studio Apartment 94 Walk Score       West Town   \n",
       "3                      Barbara's Hideaway - Old Town    Lincoln Park   \n",
       "4                   3 Comforts of Cooperative Living       Hyde Park   \n",
       "\n",
       "   latitude  longitude        room_type  price  minimum_nights  \\\n",
       "0  41.78790  -87.58780     Private room     60               2   \n",
       "1  41.85495  -87.69696  Entire home/apt    105               2   \n",
       "2  41.90289  -87.68182  Entire home/apt     60               2   \n",
       "3  41.91769  -87.63788  Entire home/apt     65               4   \n",
       "4  41.79612  -87.59261     Private room     21               1   \n",
       "\n",
       "   number_of_reviews last_review  reviews_per_month  \\\n",
       "0                178  2019-12-15               2.56   \n",
       "1                395  2020-07-14               2.81   \n",
       "2                384  2020-03-08               2.81   \n",
       "3                 49  2019-10-23               0.63   \n",
       "4                 44  2020-02-14               0.61   \n",
       "\n",
       "   calculated_host_listings_count  availability_365  \n",
       "0                               1               353  \n",
       "1                               1               155  \n",
       "2                               1               321  \n",
       "3                               9               300  \n",
       "4                               5               168  "
      ]
     },
     "execution_count": 23,
     "metadata": {},
     "output_type": "execute_result"
    }
   ],
   "source": [
    "data.head()"
   ]
  },
  {
   "cell_type": "code",
   "execution_count": 24,
   "metadata": {},
   "outputs": [
    {
     "data": {
      "text/plain": [
       "name                                0\n",
       "neighbourhood                       0\n",
       "latitude                            0\n",
       "longitude                           0\n",
       "room_type                           0\n",
       "price                               0\n",
       "minimum_nights                      0\n",
       "number_of_reviews                   0\n",
       "last_review                       453\n",
       "reviews_per_month                 453\n",
       "calculated_host_listings_count      0\n",
       "availability_365                    0\n",
       "dtype: int64"
      ]
     },
     "execution_count": 24,
     "metadata": {},
     "output_type": "execute_result"
    }
   ],
   "source": [
    "# check the missing values\n",
    "data.isna().sum(axis=0)"
   ]
  },
  {
   "cell_type": "code",
   "execution_count": 25,
   "metadata": {},
   "outputs": [
    {
     "data": {
      "text/plain": [
       "(4255, 12)"
      ]
     },
     "execution_count": 25,
     "metadata": {},
     "output_type": "execute_result"
    }
   ],
   "source": [
    "data.shape"
   ]
  },
  {
   "cell_type": "markdown",
   "metadata": {},
   "source": [
    "### Data exploration conclusion: \n",
    "1) From the above exploration we found that there are 6397 rows and 16 columns in the original data sample. \n",
    "\n",
    "2) I drop the outliers whose value are 3 standard deviation away from the mean. \n",
    "\n",
    "3) 'neighbourhood_group' contains no values at all so that is is not a useful variable, I drop it. \n",
    "\n",
    "4) 'last_review' and 'reviews_per_month'  both contain 587 null variables, roughly 11.7% (587/5021) of the sample size.  \n",
    "\n",
    "5) Since both id and host_id have two many categories and they do not actually contain any exact meanings, I decide to drop them. \n"
   ]
  },
  {
   "cell_type": "markdown",
   "metadata": {},
   "source": [
    "#### Till now, we have 11 features left in the dataset, and price is the target variable. \n",
    "\n",
    "#### 1) categorical features: \n",
    "neighbourhood, room_type \n",
    "#### 2) numerical features: \n",
    "latitude, longitude, minimum_nights, number_of_reviews, reviews_per_month, calculated_host_listings_count, availability_365\n",
    "#### 3) text feature: \n",
    "name\n",
    "#### 4) date:\n",
    "last_review\n",
    "\n",
    "\n"
   ]
  },
  {
   "cell_type": "markdown",
   "metadata": {},
   "source": [
    "## 2.3 Correlation Exploration"
   ]
  },
  {
   "cell_type": "code",
   "execution_count": 26,
   "metadata": {},
   "outputs": [],
   "source": [
    "# class features\n",
    "categorical_features = ['neighbourhood','room_type']\n",
    "numerical_features = ['latitude','longitude','minimum_nights','number_of_reviews','price',\n",
    "    'calculated_host_listings_count','availability_365']\n",
    "text_features = ['name']\n",
    "date_features = ['last_review']"
   ]
  },
  {
   "cell_type": "markdown",
   "metadata": {},
   "source": [
    "### 2.3.1 Bivariate Analysis of Numerical Features"
   ]
  },
  {
   "cell_type": "code",
   "execution_count": 27,
   "metadata": {},
   "outputs": [],
   "source": [
    "# transform categorical attributes for correlation\n",
    "data_cor = data.copy()\n",
    "for feature in categorical_features:\n",
    "    le = LabelEncoder()\n",
    "    le.fit(data_cor[feature])\n",
    "    data_cor[feature] = le.transform(data_cor[feature])"
   ]
  },
  {
   "cell_type": "code",
   "execution_count": 28,
   "metadata": {},
   "outputs": [
    {
     "data": {
      "image/png": "[encoded data removed]",
      "text/plain": [
       "<Figure size 720x432 with 2 Axes>"
      ]
     },
     "metadata": {
      "needs_background": "light"
     },
     "output_type": "display_data"
    }
   ],
   "source": [
    "plt.figure(figsize=(10, 6))\n",
    "corr_mat = data_cor[numerical_features].corr()\n",
    "sns.heatmap(round(corr_mat, 3),annot=True, cmap='RdYlGn')\n",
    "plt.show()"
   ]
  },
  {
   "cell_type": "markdown",
   "metadata": {},
   "source": [
    "#### From the results we can see longitude and latitude have high correlation, which make sense since both of them indicate a location. "
   ]
  },
  {
   "cell_type": "markdown",
   "metadata": {},
   "source": [
    "### 2.3.2 Bivariate Analysis of Categorical Features"
   ]
  },
  {
   "cell_type": "code",
   "execution_count": 29,
   "metadata": {},
   "outputs": [
    {
     "data": {
      "image/png": "[encoded data removed]",
      "text/plain": [
       "<Figure size 720x432 with 2 Axes>"
      ]
     },
     "metadata": {
      "needs_background": "light"
     },
     "output_type": "display_data"
    }
   ],
   "source": [
    "plt.figure(figsize=(10,6))\n",
    "sns.heatmap(round(data_cor[categorical_features + numerical_features + date_features].corr(method='spearman'), 3), \n",
    "            annot=True,mask=None, cmap='RdYlGn')\n",
    "plt.show()"
   ]
  },
  {
   "cell_type": "markdown",
   "metadata": {},
   "source": [
    "#### price and room_type are highly correlated, but since price is the target variable so this strong correlation will not lead to multicollinearity issues.\n"
   ]
  },
  {
   "cell_type": "markdown",
   "metadata": {},
   "source": [
    "## 2.2 Drop/Impute the Missing Variables"
   ]
  },
  {
   "cell_type": "markdown",
   "metadata": {},
   "source": [
    "\n",
    "As for last_review, which is a date, it is hard to fill in the missing values by using prediction from other variables. It also makes no sense to fill the null values by mean, min, or max. Since the missing values occupy 17% of sample size in this variable, I decide to drop last_review. "
   ]
  },
  {
   "cell_type": "code",
   "execution_count": 30,
   "metadata": {},
   "outputs": [
    {
     "data": {
      "text/html": [
       "<div>\n",
       "<style scoped>\n",
       "    .dataframe tbody tr th:only-of-type {\n",
       "        vertical-align: middle;\n",
       "    }\n",
       "\n",
       "    .dataframe tbody tr th {\n",
       "        vertical-align: top;\n",
       "    }\n",
       "\n",
       "    .dataframe thead th {\n",
       "        text-align: right;\n",
       "    }\n",
       "</style>\n",
       "<table border=\"1\" class=\"dataframe\">\n",
       "  <thead>\n",
       "    <tr style=\"text-align: right;\">\n",
       "      <th></th>\n",
       "      <th>name</th>\n",
       "      <th>neighbourhood</th>\n",
       "      <th>latitude</th>\n",
       "      <th>longitude</th>\n",
       "      <th>room_type</th>\n",
       "      <th>price</th>\n",
       "      <th>minimum_nights</th>\n",
       "      <th>number_of_reviews</th>\n",
       "      <th>reviews_per_month</th>\n",
       "      <th>calculated_host_listings_count</th>\n",
       "      <th>availability_365</th>\n",
       "    </tr>\n",
       "  </thead>\n",
       "  <tbody>\n",
       "    <tr>\n",
       "      <th>0</th>\n",
       "      <td>Hyde Park - Walk to UChicago, 10 min to McCormick</td>\n",
       "      <td>Hyde Park</td>\n",
       "      <td>41.78790</td>\n",
       "      <td>-87.58780</td>\n",
       "      <td>Private room</td>\n",
       "      <td>60</td>\n",
       "      <td>2</td>\n",
       "      <td>178</td>\n",
       "      <td>2.56</td>\n",
       "      <td>1</td>\n",
       "      <td>353</td>\n",
       "    </tr>\n",
       "    <tr>\n",
       "      <th>1</th>\n",
       "      <td>394 Great Reviews. 127 y/o House. 40 yds to tr...</td>\n",
       "      <td>South Lawndale</td>\n",
       "      <td>41.85495</td>\n",
       "      <td>-87.69696</td>\n",
       "      <td>Entire home/apt</td>\n",
       "      <td>105</td>\n",
       "      <td>2</td>\n",
       "      <td>395</td>\n",
       "      <td>2.81</td>\n",
       "      <td>1</td>\n",
       "      <td>155</td>\n",
       "    </tr>\n",
       "    <tr>\n",
       "      <th>2</th>\n",
       "      <td>Tiny Studio Apartment 94 Walk Score</td>\n",
       "      <td>West Town</td>\n",
       "      <td>41.90289</td>\n",
       "      <td>-87.68182</td>\n",
       "      <td>Entire home/apt</td>\n",
       "      <td>60</td>\n",
       "      <td>2</td>\n",
       "      <td>384</td>\n",
       "      <td>2.81</td>\n",
       "      <td>1</td>\n",
       "      <td>321</td>\n",
       "    </tr>\n",
       "    <tr>\n",
       "      <th>3</th>\n",
       "      <td>Barbara's Hideaway - Old Town</td>\n",
       "      <td>Lincoln Park</td>\n",
       "      <td>41.91769</td>\n",
       "      <td>-87.63788</td>\n",
       "      <td>Entire home/apt</td>\n",
       "      <td>65</td>\n",
       "      <td>4</td>\n",
       "      <td>49</td>\n",
       "      <td>0.63</td>\n",
       "      <td>9</td>\n",
       "      <td>300</td>\n",
       "    </tr>\n",
       "    <tr>\n",
       "      <th>4</th>\n",
       "      <td>3 Comforts of Cooperative Living</td>\n",
       "      <td>Hyde Park</td>\n",
       "      <td>41.79612</td>\n",
       "      <td>-87.59261</td>\n",
       "      <td>Private room</td>\n",
       "      <td>21</td>\n",
       "      <td>1</td>\n",
       "      <td>44</td>\n",
       "      <td>0.61</td>\n",
       "      <td>5</td>\n",
       "      <td>168</td>\n",
       "    </tr>\n",
       "  </tbody>\n",
       "</table>\n",
       "</div>"
      ],
      "text/plain": [
       "                                                name   neighbourhood  \\\n",
       "0  Hyde Park - Walk to UChicago, 10 min to McCormick       Hyde Park   \n",
       "1  394 Great Reviews. 127 y/o House. 40 yds to tr...  South Lawndale   \n",
       "2                Tiny Studio Apartment 94 Walk Score       West Town   \n",
       "3                      Barbara's Hideaway - Old Town    Lincoln Park   \n",
       "4                   3 Comforts of Cooperative Living       Hyde Park   \n",
       "\n",
       "   latitude  longitude        room_type  price  minimum_nights  \\\n",
       "0  41.78790  -87.58780     Private room     60               2   \n",
       "1  41.85495  -87.69696  Entire home/apt    105               2   \n",
       "2  41.90289  -87.68182  Entire home/apt     60               2   \n",
       "3  41.91769  -87.63788  Entire home/apt     65               4   \n",
       "4  41.79612  -87.59261     Private room     21               1   \n",
       "\n",
       "   number_of_reviews  reviews_per_month  calculated_host_listings_count  \\\n",
       "0                178               2.56                               1   \n",
       "1                395               2.81                               1   \n",
       "2                384               2.81                               1   \n",
       "3                 49               0.63                               9   \n",
       "4                 44               0.61                               5   \n",
       "\n",
       "   availability_365  \n",
       "0               353  \n",
       "1               155  \n",
       "2               321  \n",
       "3               300  \n",
       "4               168  "
      ]
     },
     "execution_count": 30,
     "metadata": {},
     "output_type": "execute_result"
    }
   ],
   "source": [
    "data=data.drop(columns=['last_review'])\n",
    "data.head()"
   ]
  },
  {
   "cell_type": "markdown",
   "metadata": {},
   "source": [
    "As for number_of_reviews, I filled the null by using the mean value."
   ]
  },
  {
   "cell_type": "code",
   "execution_count": 31,
   "metadata": {},
   "outputs": [
    {
     "data": {
      "text/html": [
       "<div>\n",
       "<style scoped>\n",
       "    .dataframe tbody tr th:only-of-type {\n",
       "        vertical-align: middle;\n",
       "    }\n",
       "\n",
       "    .dataframe tbody tr th {\n",
       "        vertical-align: top;\n",
       "    }\n",
       "\n",
       "    .dataframe thead th {\n",
       "        text-align: right;\n",
       "    }\n",
       "</style>\n",
       "<table border=\"1\" class=\"dataframe\">\n",
       "  <thead>\n",
       "    <tr style=\"text-align: right;\">\n",
       "      <th></th>\n",
       "      <th>index</th>\n",
       "      <th>name</th>\n",
       "      <th>neighbourhood</th>\n",
       "      <th>latitude</th>\n",
       "      <th>longitude</th>\n",
       "      <th>room_type</th>\n",
       "      <th>price</th>\n",
       "      <th>minimum_nights</th>\n",
       "      <th>number_of_reviews</th>\n",
       "      <th>calculated_host_listings_count</th>\n",
       "      <th>availability_365</th>\n",
       "      <th>index</th>\n",
       "    </tr>\n",
       "  </thead>\n",
       "  <tbody>\n",
       "    <tr>\n",
       "      <th>0</th>\n",
       "      <td>0</td>\n",
       "      <td>Hyde Park - Walk to UChicago, 10 min to McCormick</td>\n",
       "      <td>Hyde Park</td>\n",
       "      <td>41.78790</td>\n",
       "      <td>-87.58780</td>\n",
       "      <td>Private room</td>\n",
       "      <td>60</td>\n",
       "      <td>2</td>\n",
       "      <td>178</td>\n",
       "      <td>1</td>\n",
       "      <td>353</td>\n",
       "      <td>0</td>\n",
       "    </tr>\n",
       "    <tr>\n",
       "      <th>1</th>\n",
       "      <td>1</td>\n",
       "      <td>394 Great Reviews. 127 y/o House. 40 yds to tr...</td>\n",
       "      <td>South Lawndale</td>\n",
       "      <td>41.85495</td>\n",
       "      <td>-87.69696</td>\n",
       "      <td>Entire home/apt</td>\n",
       "      <td>105</td>\n",
       "      <td>2</td>\n",
       "      <td>395</td>\n",
       "      <td>1</td>\n",
       "      <td>155</td>\n",
       "      <td>1</td>\n",
       "    </tr>\n",
       "    <tr>\n",
       "      <th>2</th>\n",
       "      <td>2</td>\n",
       "      <td>Tiny Studio Apartment 94 Walk Score</td>\n",
       "      <td>West Town</td>\n",
       "      <td>41.90289</td>\n",
       "      <td>-87.68182</td>\n",
       "      <td>Entire home/apt</td>\n",
       "      <td>60</td>\n",
       "      <td>2</td>\n",
       "      <td>384</td>\n",
       "      <td>1</td>\n",
       "      <td>321</td>\n",
       "      <td>2</td>\n",
       "    </tr>\n",
       "    <tr>\n",
       "      <th>3</th>\n",
       "      <td>3</td>\n",
       "      <td>Barbara's Hideaway - Old Town</td>\n",
       "      <td>Lincoln Park</td>\n",
       "      <td>41.91769</td>\n",
       "      <td>-87.63788</td>\n",
       "      <td>Entire home/apt</td>\n",
       "      <td>65</td>\n",
       "      <td>4</td>\n",
       "      <td>49</td>\n",
       "      <td>9</td>\n",
       "      <td>300</td>\n",
       "      <td>3</td>\n",
       "    </tr>\n",
       "    <tr>\n",
       "      <th>4</th>\n",
       "      <td>4</td>\n",
       "      <td>3 Comforts of Cooperative Living</td>\n",
       "      <td>Hyde Park</td>\n",
       "      <td>41.79612</td>\n",
       "      <td>-87.59261</td>\n",
       "      <td>Private room</td>\n",
       "      <td>21</td>\n",
       "      <td>1</td>\n",
       "      <td>44</td>\n",
       "      <td>5</td>\n",
       "      <td>168</td>\n",
       "      <td>4</td>\n",
       "    </tr>\n",
       "  </tbody>\n",
       "</table>\n",
       "</div>"
      ],
      "text/plain": [
       "   index                                               name   neighbourhood  \\\n",
       "0      0  Hyde Park - Walk to UChicago, 10 min to McCormick       Hyde Park   \n",
       "1      1  394 Great Reviews. 127 y/o House. 40 yds to tr...  South Lawndale   \n",
       "2      2                Tiny Studio Apartment 94 Walk Score       West Town   \n",
       "3      3                      Barbara's Hideaway - Old Town    Lincoln Park   \n",
       "4      4                   3 Comforts of Cooperative Living       Hyde Park   \n",
       "\n",
       "   latitude  longitude        room_type  price  minimum_nights  \\\n",
       "0  41.78790  -87.58780     Private room     60               2   \n",
       "1  41.85495  -87.69696  Entire home/apt    105               2   \n",
       "2  41.90289  -87.68182  Entire home/apt     60               2   \n",
       "3  41.91769  -87.63788  Entire home/apt     65               4   \n",
       "4  41.79612  -87.59261     Private room     21               1   \n",
       "\n",
       "   number_of_reviews  calculated_host_listings_count  availability_365  index  \n",
       "0                178                               1               353      0  \n",
       "1                395                               1               155      1  \n",
       "2                384                               1               321      2  \n",
       "3                 49                               9               300      3  \n",
       "4                 44                               5               168      4  "
      ]
     },
     "execution_count": 31,
     "metadata": {},
     "output_type": "execute_result"
    }
   ],
   "source": [
    "# fill the missing values of number_of_reviews\n",
    "\n",
    "fam = data['reviews_per_month'].values.reshape(-1,1)\n",
    "imp = SimpleImputer(missing_values=np.nan, strategy='mean')\n",
    "imp.fit_transform(fam)\n",
    "fam_result = pd.DataFrame(imp.fit_transform(fam),columns=['reviews_per_month'])\n",
    "data = data.reset_index()\n",
    "fam_result = fam_result.reset_index()\n",
    "data = pd.concat([data,fam_result],axis=1)\n",
    "data = data.drop(columns=['reviews_per_month'])\n",
    "data.head()\n",
    "\n"
   ]
  },
  {
   "cell_type": "code",
   "execution_count": 32,
   "metadata": {},
   "outputs": [
    {
     "data": {
      "text/plain": [
       "index                             0\n",
       "name                              0\n",
       "neighbourhood                     0\n",
       "latitude                          0\n",
       "longitude                         0\n",
       "room_type                         0\n",
       "price                             0\n",
       "minimum_nights                    0\n",
       "number_of_reviews                 0\n",
       "calculated_host_listings_count    0\n",
       "availability_365                  0\n",
       "index                             0\n",
       "dtype: int64"
      ]
     },
     "execution_count": 32,
     "metadata": {},
     "output_type": "execute_result"
    }
   ],
   "source": [
    "data.isna().sum(axis=0)"
   ]
  },
  {
   "cell_type": "markdown",
   "metadata": {},
   "source": [
    "Now the data set has no missing values."
   ]
  },
  {
   "cell_type": "markdown",
   "metadata": {},
   "source": [
    "# Part 3 Data Processing"
   ]
  },
  {
   "cell_type": "markdown",
   "metadata": {},
   "source": [
    "### Feature space\n",
    "Now there are 10 features in the data set, which include 1 text feature, 2 categorical features, and 7 numerical features. \n",
    "\n",
    "As for the text feature, it is name.\n",
    "\n",
    "As for the categorical features, they include:\n",
    "neighbourhood, room_type\n",
    "\n",
    "As for numeric features, they include:\n",
    "latitude, longitude, price, minimum_nights, number_of_reviews, calculated_host_listings_count, availability_365"
   ]
  },
  {
   "cell_type": "markdown",
   "metadata": {},
   "source": [
    "###  2.1 Process categorical features:\n",
    "#### neighbourhood, room_type"
   ]
  },
  {
   "cell_type": "code",
   "execution_count": 33,
   "metadata": {},
   "outputs": [],
   "source": [
    "# class features\n",
    "categorical_features = ['neighbourhood','room_type']\n",
    "numerical_features = ['latitude','longitude','minimum_nights','number_of_reviews','price'\n",
    "    'calculated_host_listings_count','availability_365']\n",
    "text_features = ['name']\n"
   ]
  },
  {
   "cell_type": "code",
   "execution_count": 34,
   "metadata": {},
   "outputs": [
    {
     "data": {
      "text/html": [
       "<div>\n",
       "<style scoped>\n",
       "    .dataframe tbody tr th:only-of-type {\n",
       "        vertical-align: middle;\n",
       "    }\n",
       "\n",
       "    .dataframe tbody tr th {\n",
       "        vertical-align: top;\n",
       "    }\n",
       "\n",
       "    .dataframe thead th {\n",
       "        text-align: right;\n",
       "    }\n",
       "</style>\n",
       "<table border=\"1\" class=\"dataframe\">\n",
       "  <thead>\n",
       "    <tr style=\"text-align: right;\">\n",
       "      <th></th>\n",
       "      <th>index</th>\n",
       "      <th>name</th>\n",
       "      <th>latitude</th>\n",
       "      <th>longitude</th>\n",
       "      <th>room_type</th>\n",
       "      <th>price</th>\n",
       "      <th>minimum_nights</th>\n",
       "      <th>number_of_reviews</th>\n",
       "      <th>calculated_host_listings_count</th>\n",
       "      <th>availability_365</th>\n",
       "      <th>...</th>\n",
       "      <th>loc_Washington Heights</th>\n",
       "      <th>loc_Washington Park</th>\n",
       "      <th>loc_West Elsdon</th>\n",
       "      <th>loc_West Englewood</th>\n",
       "      <th>loc_West Garfield Park</th>\n",
       "      <th>loc_West Lawn</th>\n",
       "      <th>loc_West Pullman</th>\n",
       "      <th>loc_West Ridge</th>\n",
       "      <th>loc_West Town</th>\n",
       "      <th>loc_Woodlawn</th>\n",
       "    </tr>\n",
       "  </thead>\n",
       "  <tbody>\n",
       "    <tr>\n",
       "      <th>0</th>\n",
       "      <td>0</td>\n",
       "      <td>Hyde Park - Walk to UChicago, 10 min to McCormick</td>\n",
       "      <td>41.78790</td>\n",
       "      <td>-87.58780</td>\n",
       "      <td>Private room</td>\n",
       "      <td>60</td>\n",
       "      <td>2</td>\n",
       "      <td>178</td>\n",
       "      <td>1</td>\n",
       "      <td>353</td>\n",
       "      <td>...</td>\n",
       "      <td>0</td>\n",
       "      <td>0</td>\n",
       "      <td>0</td>\n",
       "      <td>0</td>\n",
       "      <td>0</td>\n",
       "      <td>0</td>\n",
       "      <td>0</td>\n",
       "      <td>0</td>\n",
       "      <td>0</td>\n",
       "      <td>0</td>\n",
       "    </tr>\n",
       "    <tr>\n",
       "      <th>1</th>\n",
       "      <td>1</td>\n",
       "      <td>394 Great Reviews. 127 y/o House. 40 yds to tr...</td>\n",
       "      <td>41.85495</td>\n",
       "      <td>-87.69696</td>\n",
       "      <td>Entire home/apt</td>\n",
       "      <td>105</td>\n",
       "      <td>2</td>\n",
       "      <td>395</td>\n",
       "      <td>1</td>\n",
       "      <td>155</td>\n",
       "      <td>...</td>\n",
       "      <td>0</td>\n",
       "      <td>0</td>\n",
       "      <td>0</td>\n",
       "      <td>0</td>\n",
       "      <td>0</td>\n",
       "      <td>0</td>\n",
       "      <td>0</td>\n",
       "      <td>0</td>\n",
       "      <td>0</td>\n",
       "      <td>0</td>\n",
       "    </tr>\n",
       "    <tr>\n",
       "      <th>2</th>\n",
       "      <td>2</td>\n",
       "      <td>Tiny Studio Apartment 94 Walk Score</td>\n",
       "      <td>41.90289</td>\n",
       "      <td>-87.68182</td>\n",
       "      <td>Entire home/apt</td>\n",
       "      <td>60</td>\n",
       "      <td>2</td>\n",
       "      <td>384</td>\n",
       "      <td>1</td>\n",
       "      <td>321</td>\n",
       "      <td>...</td>\n",
       "      <td>0</td>\n",
       "      <td>0</td>\n",
       "      <td>0</td>\n",
       "      <td>0</td>\n",
       "      <td>0</td>\n",
       "      <td>0</td>\n",
       "      <td>0</td>\n",
       "      <td>0</td>\n",
       "      <td>1</td>\n",
       "      <td>0</td>\n",
       "    </tr>\n",
       "    <tr>\n",
       "      <th>3</th>\n",
       "      <td>3</td>\n",
       "      <td>Barbara's Hideaway - Old Town</td>\n",
       "      <td>41.91769</td>\n",
       "      <td>-87.63788</td>\n",
       "      <td>Entire home/apt</td>\n",
       "      <td>65</td>\n",
       "      <td>4</td>\n",
       "      <td>49</td>\n",
       "      <td>9</td>\n",
       "      <td>300</td>\n",
       "      <td>...</td>\n",
       "      <td>0</td>\n",
       "      <td>0</td>\n",
       "      <td>0</td>\n",
       "      <td>0</td>\n",
       "      <td>0</td>\n",
       "      <td>0</td>\n",
       "      <td>0</td>\n",
       "      <td>0</td>\n",
       "      <td>0</td>\n",
       "      <td>0</td>\n",
       "    </tr>\n",
       "    <tr>\n",
       "      <th>4</th>\n",
       "      <td>4</td>\n",
       "      <td>3 Comforts of Cooperative Living</td>\n",
       "      <td>41.79612</td>\n",
       "      <td>-87.59261</td>\n",
       "      <td>Private room</td>\n",
       "      <td>21</td>\n",
       "      <td>1</td>\n",
       "      <td>44</td>\n",
       "      <td>5</td>\n",
       "      <td>168</td>\n",
       "      <td>...</td>\n",
       "      <td>0</td>\n",
       "      <td>0</td>\n",
       "      <td>0</td>\n",
       "      <td>0</td>\n",
       "      <td>0</td>\n",
       "      <td>0</td>\n",
       "      <td>0</td>\n",
       "      <td>0</td>\n",
       "      <td>0</td>\n",
       "      <td>0</td>\n",
       "    </tr>\n",
       "  </tbody>\n",
       "</table>\n",
       "<p>5 rows × 88 columns</p>\n",
       "</div>"
      ],
      "text/plain": [
       "   index                                               name  latitude  \\\n",
       "0      0  Hyde Park - Walk to UChicago, 10 min to McCormick  41.78790   \n",
       "1      1  394 Great Reviews. 127 y/o House. 40 yds to tr...  41.85495   \n",
       "2      2                Tiny Studio Apartment 94 Walk Score  41.90289   \n",
       "3      3                      Barbara's Hideaway - Old Town  41.91769   \n",
       "4      4                   3 Comforts of Cooperative Living  41.79612   \n",
       "\n",
       "   longitude        room_type  price  minimum_nights  number_of_reviews  \\\n",
       "0  -87.58780     Private room     60               2                178   \n",
       "1  -87.69696  Entire home/apt    105               2                395   \n",
       "2  -87.68182  Entire home/apt     60               2                384   \n",
       "3  -87.63788  Entire home/apt     65               4                 49   \n",
       "4  -87.59261     Private room     21               1                 44   \n",
       "\n",
       "   calculated_host_listings_count  availability_365  ...  \\\n",
       "0                               1               353  ...   \n",
       "1                               1               155  ...   \n",
       "2                               1               321  ...   \n",
       "3                               9               300  ...   \n",
       "4                               5               168  ...   \n",
       "\n",
       "   loc_Washington Heights  loc_Washington Park  loc_West Elsdon  \\\n",
       "0                       0                    0                0   \n",
       "1                       0                    0                0   \n",
       "2                       0                    0                0   \n",
       "3                       0                    0                0   \n",
       "4                       0                    0                0   \n",
       "\n",
       "   loc_West Englewood  loc_West Garfield Park  loc_West Lawn  \\\n",
       "0                   0                       0              0   \n",
       "1                   0                       0              0   \n",
       "2                   0                       0              0   \n",
       "3                   0                       0              0   \n",
       "4                   0                       0              0   \n",
       "\n",
       "   loc_West Pullman  loc_West Ridge  loc_West Town  loc_Woodlawn  \n",
       "0                 0               0              0             0  \n",
       "1                 0               0              0             0  \n",
       "2                 0               0              1             0  \n",
       "3                 0               0              0             0  \n",
       "4                 0               0              0             0  \n",
       "\n",
       "[5 rows x 88 columns]"
      ]
     },
     "execution_count": 34,
     "metadata": {},
     "output_type": "execute_result"
    }
   ],
   "source": [
    "#create dummy variables\n",
    "loc_classDf = pd.get_dummies(data['neighbourhood'],prefix = 'loc') \n",
    "# add the dummy variables into the table\n",
    "data = pd.concat([data,loc_classDf],axis=1)\n",
    "data=data.drop(columns=['neighbourhood'])\n",
    "data.head()"
   ]
  },
  {
   "cell_type": "code",
   "execution_count": 35,
   "metadata": {},
   "outputs": [
    {
     "data": {
      "text/html": [
       "<div>\n",
       "<style scoped>\n",
       "    .dataframe tbody tr th:only-of-type {\n",
       "        vertical-align: middle;\n",
       "    }\n",
       "\n",
       "    .dataframe tbody tr th {\n",
       "        vertical-align: top;\n",
       "    }\n",
       "\n",
       "    .dataframe thead th {\n",
       "        text-align: right;\n",
       "    }\n",
       "</style>\n",
       "<table border=\"1\" class=\"dataframe\">\n",
       "  <thead>\n",
       "    <tr style=\"text-align: right;\">\n",
       "      <th></th>\n",
       "      <th>name</th>\n",
       "      <th>latitude</th>\n",
       "      <th>longitude</th>\n",
       "      <th>price</th>\n",
       "      <th>minimum_nights</th>\n",
       "      <th>number_of_reviews</th>\n",
       "      <th>calculated_host_listings_count</th>\n",
       "      <th>availability_365</th>\n",
       "      <th>loc_Albany Park</th>\n",
       "      <th>loc_Archer Heights</th>\n",
       "      <th>...</th>\n",
       "      <th>loc_West Garfield Park</th>\n",
       "      <th>loc_West Lawn</th>\n",
       "      <th>loc_West Pullman</th>\n",
       "      <th>loc_West Ridge</th>\n",
       "      <th>loc_West Town</th>\n",
       "      <th>loc_Woodlawn</th>\n",
       "      <th>room_Entire home/apt</th>\n",
       "      <th>room_Hotel room</th>\n",
       "      <th>room_Private room</th>\n",
       "      <th>room_Shared room</th>\n",
       "    </tr>\n",
       "  </thead>\n",
       "  <tbody>\n",
       "    <tr>\n",
       "      <th>0</th>\n",
       "      <td>Hyde Park - Walk to UChicago, 10 min to McCormick</td>\n",
       "      <td>41.78790</td>\n",
       "      <td>-87.58780</td>\n",
       "      <td>60</td>\n",
       "      <td>2</td>\n",
       "      <td>178</td>\n",
       "      <td>1</td>\n",
       "      <td>353</td>\n",
       "      <td>0</td>\n",
       "      <td>0</td>\n",
       "      <td>...</td>\n",
       "      <td>0</td>\n",
       "      <td>0</td>\n",
       "      <td>0</td>\n",
       "      <td>0</td>\n",
       "      <td>0</td>\n",
       "      <td>0</td>\n",
       "      <td>0</td>\n",
       "      <td>0</td>\n",
       "      <td>1</td>\n",
       "      <td>0</td>\n",
       "    </tr>\n",
       "    <tr>\n",
       "      <th>1</th>\n",
       "      <td>394 Great Reviews. 127 y/o House. 40 yds to tr...</td>\n",
       "      <td>41.85495</td>\n",
       "      <td>-87.69696</td>\n",
       "      <td>105</td>\n",
       "      <td>2</td>\n",
       "      <td>395</td>\n",
       "      <td>1</td>\n",
       "      <td>155</td>\n",
       "      <td>0</td>\n",
       "      <td>0</td>\n",
       "      <td>...</td>\n",
       "      <td>0</td>\n",
       "      <td>0</td>\n",
       "      <td>0</td>\n",
       "      <td>0</td>\n",
       "      <td>0</td>\n",
       "      <td>0</td>\n",
       "      <td>1</td>\n",
       "      <td>0</td>\n",
       "      <td>0</td>\n",
       "      <td>0</td>\n",
       "    </tr>\n",
       "    <tr>\n",
       "      <th>2</th>\n",
       "      <td>Tiny Studio Apartment 94 Walk Score</td>\n",
       "      <td>41.90289</td>\n",
       "      <td>-87.68182</td>\n",
       "      <td>60</td>\n",
       "      <td>2</td>\n",
       "      <td>384</td>\n",
       "      <td>1</td>\n",
       "      <td>321</td>\n",
       "      <td>0</td>\n",
       "      <td>0</td>\n",
       "      <td>...</td>\n",
       "      <td>0</td>\n",
       "      <td>0</td>\n",
       "      <td>0</td>\n",
       "      <td>0</td>\n",
       "      <td>1</td>\n",
       "      <td>0</td>\n",
       "      <td>1</td>\n",
       "      <td>0</td>\n",
       "      <td>0</td>\n",
       "      <td>0</td>\n",
       "    </tr>\n",
       "    <tr>\n",
       "      <th>3</th>\n",
       "      <td>Barbara's Hideaway - Old Town</td>\n",
       "      <td>41.91769</td>\n",
       "      <td>-87.63788</td>\n",
       "      <td>65</td>\n",
       "      <td>4</td>\n",
       "      <td>49</td>\n",
       "      <td>9</td>\n",
       "      <td>300</td>\n",
       "      <td>0</td>\n",
       "      <td>0</td>\n",
       "      <td>...</td>\n",
       "      <td>0</td>\n",
       "      <td>0</td>\n",
       "      <td>0</td>\n",
       "      <td>0</td>\n",
       "      <td>0</td>\n",
       "      <td>0</td>\n",
       "      <td>1</td>\n",
       "      <td>0</td>\n",
       "      <td>0</td>\n",
       "      <td>0</td>\n",
       "    </tr>\n",
       "    <tr>\n",
       "      <th>4</th>\n",
       "      <td>3 Comforts of Cooperative Living</td>\n",
       "      <td>41.79612</td>\n",
       "      <td>-87.59261</td>\n",
       "      <td>21</td>\n",
       "      <td>1</td>\n",
       "      <td>44</td>\n",
       "      <td>5</td>\n",
       "      <td>168</td>\n",
       "      <td>0</td>\n",
       "      <td>0</td>\n",
       "      <td>...</td>\n",
       "      <td>0</td>\n",
       "      <td>0</td>\n",
       "      <td>0</td>\n",
       "      <td>0</td>\n",
       "      <td>0</td>\n",
       "      <td>0</td>\n",
       "      <td>0</td>\n",
       "      <td>0</td>\n",
       "      <td>1</td>\n",
       "      <td>0</td>\n",
       "    </tr>\n",
       "  </tbody>\n",
       "</table>\n",
       "<p>5 rows × 89 columns</p>\n",
       "</div>"
      ],
      "text/plain": [
       "                                                name  latitude  longitude  \\\n",
       "0  Hyde Park - Walk to UChicago, 10 min to McCormick  41.78790  -87.58780   \n",
       "1  394 Great Reviews. 127 y/o House. 40 yds to tr...  41.85495  -87.69696   \n",
       "2                Tiny Studio Apartment 94 Walk Score  41.90289  -87.68182   \n",
       "3                      Barbara's Hideaway - Old Town  41.91769  -87.63788   \n",
       "4                   3 Comforts of Cooperative Living  41.79612  -87.59261   \n",
       "\n",
       "   price  minimum_nights  number_of_reviews  calculated_host_listings_count  \\\n",
       "0     60               2                178                               1   \n",
       "1    105               2                395                               1   \n",
       "2     60               2                384                               1   \n",
       "3     65               4                 49                               9   \n",
       "4     21               1                 44                               5   \n",
       "\n",
       "   availability_365  loc_Albany Park  loc_Archer Heights  ...  \\\n",
       "0               353                0                   0  ...   \n",
       "1               155                0                   0  ...   \n",
       "2               321                0                   0  ...   \n",
       "3               300                0                   0  ...   \n",
       "4               168                0                   0  ...   \n",
       "\n",
       "   loc_West Garfield Park  loc_West Lawn  loc_West Pullman  loc_West Ridge  \\\n",
       "0                       0              0                 0               0   \n",
       "1                       0              0                 0               0   \n",
       "2                       0              0                 0               0   \n",
       "3                       0              0                 0               0   \n",
       "4                       0              0                 0               0   \n",
       "\n",
       "   loc_West Town  loc_Woodlawn  room_Entire home/apt  room_Hotel room  \\\n",
       "0              0             0                     0                0   \n",
       "1              0             0                     1                0   \n",
       "2              1             0                     1                0   \n",
       "3              0             0                     1                0   \n",
       "4              0             0                     0                0   \n",
       "\n",
       "   room_Private room  room_Shared room  \n",
       "0                  1                 0  \n",
       "1                  0                 0  \n",
       "2                  0                 0  \n",
       "3                  0                 0  \n",
       "4                  1                 0  \n",
       "\n",
       "[5 rows x 89 columns]"
      ]
     },
     "execution_count": 35,
     "metadata": {},
     "output_type": "execute_result"
    }
   ],
   "source": [
    "#create dummy variables\n",
    "room_classDf = pd.get_dummies(data['room_type'],prefix = 'room') \n",
    "# add the dummy variables into the table\n",
    "data = pd.concat([data,room_classDf],axis=1)\n",
    "data=data.drop(columns=['room_type'])\n",
    "data = data.drop(columns = 'index')\n",
    "data.head()\n"
   ]
  },
  {
   "cell_type": "markdown",
   "metadata": {},
   "source": [
    "### 2.2 Process numerical features:\n",
    "#### Numerical features include: latitude, longitude, price, minimum_nights, number_of_reviews, calculated_host_listings_count, availability_365\n",
    "\n",
    "Since there are no missing values in these numerical variables, we do not do any data processing and will rescale them later. "
   ]
  },
  {
   "cell_type": "markdown",
   "metadata": {},
   "source": [
    "### 2.3 Process the text feature (name):"
   ]
  },
  {
   "cell_type": "code",
   "execution_count": 36,
   "metadata": {},
   "outputs": [],
   "source": [
    "stop_words = ['to','with','w','of','&','and','-','the','off','1','2','3','4','5','6',\n",
    "             '7','8','9','10','11','12','13','14','15','16','17','18','20','21','1st',\n",
    "              'you','your','zen','zencity','zoo','ｏｆｆ','price','40','from','أهلا']"
   ]
  },
  {
   "cell_type": "markdown",
   "metadata": {},
   "source": [
    "I set the min_df as 100 and want to include the words only appear over 100 times."
   ]
  },
  {
   "cell_type": "code",
   "execution_count": 37,
   "metadata": {},
   "outputs": [
    {
     "data": {
      "text/html": [
       "<div>\n",
       "<style scoped>\n",
       "    .dataframe tbody tr th:only-of-type {\n",
       "        vertical-align: middle;\n",
       "    }\n",
       "\n",
       "    .dataframe tbody tr th {\n",
       "        vertical-align: top;\n",
       "    }\n",
       "\n",
       "    .dataframe thead th {\n",
       "        text-align: right;\n",
       "    }\n",
       "</style>\n",
       "<table border=\"1\" class=\"dataframe\">\n",
       "  <thead>\n",
       "    <tr style=\"text-align: right;\">\n",
       "      <th></th>\n",
       "      <th>2br</th>\n",
       "      <th>apartment</th>\n",
       "      <th>apt</th>\n",
       "      <th>bath</th>\n",
       "      <th>beautiful</th>\n",
       "      <th>bed</th>\n",
       "      <th>bedroom</th>\n",
       "      <th>charming</th>\n",
       "      <th>chicago</th>\n",
       "      <th>clean</th>\n",
       "      <th>...</th>\n",
       "      <th>room</th>\n",
       "      <th>spacious</th>\n",
       "      <th>square</th>\n",
       "      <th>studio</th>\n",
       "      <th>suite</th>\n",
       "      <th>village</th>\n",
       "      <th>walk</th>\n",
       "      <th>west</th>\n",
       "      <th>wicker</th>\n",
       "      <th>wrigley</th>\n",
       "    </tr>\n",
       "  </thead>\n",
       "  <tbody>\n",
       "    <tr>\n",
       "      <th>0</th>\n",
       "      <td>0</td>\n",
       "      <td>0</td>\n",
       "      <td>0</td>\n",
       "      <td>0</td>\n",
       "      <td>0</td>\n",
       "      <td>0</td>\n",
       "      <td>0</td>\n",
       "      <td>0</td>\n",
       "      <td>0</td>\n",
       "      <td>0</td>\n",
       "      <td>...</td>\n",
       "      <td>0</td>\n",
       "      <td>0</td>\n",
       "      <td>0</td>\n",
       "      <td>0</td>\n",
       "      <td>0</td>\n",
       "      <td>0</td>\n",
       "      <td>1</td>\n",
       "      <td>0</td>\n",
       "      <td>0</td>\n",
       "      <td>0</td>\n",
       "    </tr>\n",
       "    <tr>\n",
       "      <th>1</th>\n",
       "      <td>0</td>\n",
       "      <td>0</td>\n",
       "      <td>0</td>\n",
       "      <td>0</td>\n",
       "      <td>0</td>\n",
       "      <td>0</td>\n",
       "      <td>0</td>\n",
       "      <td>0</td>\n",
       "      <td>0</td>\n",
       "      <td>0</td>\n",
       "      <td>...</td>\n",
       "      <td>0</td>\n",
       "      <td>0</td>\n",
       "      <td>0</td>\n",
       "      <td>0</td>\n",
       "      <td>0</td>\n",
       "      <td>0</td>\n",
       "      <td>0</td>\n",
       "      <td>0</td>\n",
       "      <td>0</td>\n",
       "      <td>0</td>\n",
       "    </tr>\n",
       "    <tr>\n",
       "      <th>2</th>\n",
       "      <td>0</td>\n",
       "      <td>1</td>\n",
       "      <td>0</td>\n",
       "      <td>0</td>\n",
       "      <td>0</td>\n",
       "      <td>0</td>\n",
       "      <td>0</td>\n",
       "      <td>0</td>\n",
       "      <td>0</td>\n",
       "      <td>0</td>\n",
       "      <td>...</td>\n",
       "      <td>0</td>\n",
       "      <td>0</td>\n",
       "      <td>0</td>\n",
       "      <td>1</td>\n",
       "      <td>0</td>\n",
       "      <td>0</td>\n",
       "      <td>1</td>\n",
       "      <td>0</td>\n",
       "      <td>0</td>\n",
       "      <td>0</td>\n",
       "    </tr>\n",
       "    <tr>\n",
       "      <th>3</th>\n",
       "      <td>0</td>\n",
       "      <td>0</td>\n",
       "      <td>0</td>\n",
       "      <td>0</td>\n",
       "      <td>0</td>\n",
       "      <td>0</td>\n",
       "      <td>0</td>\n",
       "      <td>0</td>\n",
       "      <td>0</td>\n",
       "      <td>0</td>\n",
       "      <td>...</td>\n",
       "      <td>0</td>\n",
       "      <td>0</td>\n",
       "      <td>0</td>\n",
       "      <td>0</td>\n",
       "      <td>0</td>\n",
       "      <td>0</td>\n",
       "      <td>0</td>\n",
       "      <td>0</td>\n",
       "      <td>0</td>\n",
       "      <td>0</td>\n",
       "    </tr>\n",
       "    <tr>\n",
       "      <th>4</th>\n",
       "      <td>0</td>\n",
       "      <td>0</td>\n",
       "      <td>0</td>\n",
       "      <td>0</td>\n",
       "      <td>0</td>\n",
       "      <td>0</td>\n",
       "      <td>0</td>\n",
       "      <td>0</td>\n",
       "      <td>0</td>\n",
       "      <td>0</td>\n",
       "      <td>...</td>\n",
       "      <td>0</td>\n",
       "      <td>0</td>\n",
       "      <td>0</td>\n",
       "      <td>0</td>\n",
       "      <td>0</td>\n",
       "      <td>0</td>\n",
       "      <td>0</td>\n",
       "      <td>0</td>\n",
       "      <td>0</td>\n",
       "      <td>0</td>\n",
       "    </tr>\n",
       "  </tbody>\n",
       "</table>\n",
       "<p>5 rows × 43 columns</p>\n",
       "</div>"
      ],
      "text/plain": [
       "   2br  apartment  apt  bath  beautiful  bed  bedroom  charming  chicago  \\\n",
       "0    0          0    0     0          0    0        0         0        0   \n",
       "1    0          0    0     0          0    0        0         0        0   \n",
       "2    0          1    0     0          0    0        0         0        0   \n",
       "3    0          0    0     0          0    0        0         0        0   \n",
       "4    0          0    0     0          0    0        0         0        0   \n",
       "\n",
       "   clean  ...  room  spacious  square  studio  suite  village  walk  west  \\\n",
       "0      0  ...     0         0       0       0      0        0     1     0   \n",
       "1      0  ...     0         0       0       0      0        0     0     0   \n",
       "2      0  ...     0         0       0       1      0        0     1     0   \n",
       "3      0  ...     0         0       0       0      0        0     0     0   \n",
       "4      0  ...     0         0       0       0      0        0     0     0   \n",
       "\n",
       "   wicker  wrigley  \n",
       "0       0        0  \n",
       "1       0        0  \n",
       "2       0        0  \n",
       "3       0        0  \n",
       "4       0        0  \n",
       "\n",
       "[5 rows x 43 columns]"
      ]
     },
     "execution_count": 37,
     "metadata": {},
     "output_type": "execute_result"
    }
   ],
   "source": [
    "ct_vec = CountVectorizer(stop_words=stop_words,min_df = 100) \n",
    "\n",
    "# Learn the vocabulary dictionary and return document-term matrix\n",
    "X = ct_vec.fit_transform(list(data['name'])) \n",
    "\n",
    "words_df = pd.DataFrame(X.toarray()).rename(columns={i: w \n",
    "                              for w,i in ct_vec.vocabulary_.items()})\n",
    "\n",
    "words_df.head()"
   ]
  },
  {
   "cell_type": "markdown",
   "metadata": {},
   "source": [
    "Now we have selected words that appear at least 100 times. There are 484 words selected. "
   ]
  },
  {
   "cell_type": "code",
   "execution_count": 38,
   "metadata": {},
   "outputs": [
    {
     "data": {
      "text/html": [
       "<div>\n",
       "<style scoped>\n",
       "    .dataframe tbody tr th:only-of-type {\n",
       "        vertical-align: middle;\n",
       "    }\n",
       "\n",
       "    .dataframe tbody tr th {\n",
       "        vertical-align: top;\n",
       "    }\n",
       "\n",
       "    .dataframe thead th {\n",
       "        text-align: right;\n",
       "    }\n",
       "</style>\n",
       "<table border=\"1\" class=\"dataframe\">\n",
       "  <thead>\n",
       "    <tr style=\"text-align: right;\">\n",
       "      <th></th>\n",
       "      <th>latitude</th>\n",
       "      <th>longitude</th>\n",
       "      <th>price</th>\n",
       "      <th>minimum_nights</th>\n",
       "      <th>number_of_reviews</th>\n",
       "      <th>calculated_host_listings_count</th>\n",
       "      <th>availability_365</th>\n",
       "      <th>loc_Albany Park</th>\n",
       "      <th>loc_Archer Heights</th>\n",
       "      <th>loc_Armour Square</th>\n",
       "      <th>...</th>\n",
       "      <th>room</th>\n",
       "      <th>spacious</th>\n",
       "      <th>square</th>\n",
       "      <th>studio</th>\n",
       "      <th>suite</th>\n",
       "      <th>village</th>\n",
       "      <th>walk</th>\n",
       "      <th>west</th>\n",
       "      <th>wicker</th>\n",
       "      <th>wrigley</th>\n",
       "    </tr>\n",
       "  </thead>\n",
       "  <tbody>\n",
       "    <tr>\n",
       "      <th>0</th>\n",
       "      <td>41.78790</td>\n",
       "      <td>-87.58780</td>\n",
       "      <td>60</td>\n",
       "      <td>2</td>\n",
       "      <td>178</td>\n",
       "      <td>1</td>\n",
       "      <td>353</td>\n",
       "      <td>0</td>\n",
       "      <td>0</td>\n",
       "      <td>0</td>\n",
       "      <td>...</td>\n",
       "      <td>0</td>\n",
       "      <td>0</td>\n",
       "      <td>0</td>\n",
       "      <td>0</td>\n",
       "      <td>0</td>\n",
       "      <td>0</td>\n",
       "      <td>1</td>\n",
       "      <td>0</td>\n",
       "      <td>0</td>\n",
       "      <td>0</td>\n",
       "    </tr>\n",
       "    <tr>\n",
       "      <th>1</th>\n",
       "      <td>41.85495</td>\n",
       "      <td>-87.69696</td>\n",
       "      <td>105</td>\n",
       "      <td>2</td>\n",
       "      <td>395</td>\n",
       "      <td>1</td>\n",
       "      <td>155</td>\n",
       "      <td>0</td>\n",
       "      <td>0</td>\n",
       "      <td>0</td>\n",
       "      <td>...</td>\n",
       "      <td>0</td>\n",
       "      <td>0</td>\n",
       "      <td>0</td>\n",
       "      <td>0</td>\n",
       "      <td>0</td>\n",
       "      <td>0</td>\n",
       "      <td>0</td>\n",
       "      <td>0</td>\n",
       "      <td>0</td>\n",
       "      <td>0</td>\n",
       "    </tr>\n",
       "    <tr>\n",
       "      <th>2</th>\n",
       "      <td>41.90289</td>\n",
       "      <td>-87.68182</td>\n",
       "      <td>60</td>\n",
       "      <td>2</td>\n",
       "      <td>384</td>\n",
       "      <td>1</td>\n",
       "      <td>321</td>\n",
       "      <td>0</td>\n",
       "      <td>0</td>\n",
       "      <td>0</td>\n",
       "      <td>...</td>\n",
       "      <td>0</td>\n",
       "      <td>0</td>\n",
       "      <td>0</td>\n",
       "      <td>1</td>\n",
       "      <td>0</td>\n",
       "      <td>0</td>\n",
       "      <td>1</td>\n",
       "      <td>0</td>\n",
       "      <td>0</td>\n",
       "      <td>0</td>\n",
       "    </tr>\n",
       "    <tr>\n",
       "      <th>3</th>\n",
       "      <td>41.91769</td>\n",
       "      <td>-87.63788</td>\n",
       "      <td>65</td>\n",
       "      <td>4</td>\n",
       "      <td>49</td>\n",
       "      <td>9</td>\n",
       "      <td>300</td>\n",
       "      <td>0</td>\n",
       "      <td>0</td>\n",
       "      <td>0</td>\n",
       "      <td>...</td>\n",
       "      <td>0</td>\n",
       "      <td>0</td>\n",
       "      <td>0</td>\n",
       "      <td>0</td>\n",
       "      <td>0</td>\n",
       "      <td>0</td>\n",
       "      <td>0</td>\n",
       "      <td>0</td>\n",
       "      <td>0</td>\n",
       "      <td>0</td>\n",
       "    </tr>\n",
       "    <tr>\n",
       "      <th>4</th>\n",
       "      <td>41.79612</td>\n",
       "      <td>-87.59261</td>\n",
       "      <td>21</td>\n",
       "      <td>1</td>\n",
       "      <td>44</td>\n",
       "      <td>5</td>\n",
       "      <td>168</td>\n",
       "      <td>0</td>\n",
       "      <td>0</td>\n",
       "      <td>0</td>\n",
       "      <td>...</td>\n",
       "      <td>0</td>\n",
       "      <td>0</td>\n",
       "      <td>0</td>\n",
       "      <td>0</td>\n",
       "      <td>0</td>\n",
       "      <td>0</td>\n",
       "      <td>0</td>\n",
       "      <td>0</td>\n",
       "      <td>0</td>\n",
       "      <td>0</td>\n",
       "    </tr>\n",
       "  </tbody>\n",
       "</table>\n",
       "<p>5 rows × 131 columns</p>\n",
       "</div>"
      ],
      "text/plain": [
       "   latitude  longitude  price  minimum_nights  number_of_reviews  \\\n",
       "0  41.78790  -87.58780     60               2                178   \n",
       "1  41.85495  -87.69696    105               2                395   \n",
       "2  41.90289  -87.68182     60               2                384   \n",
       "3  41.91769  -87.63788     65               4                 49   \n",
       "4  41.79612  -87.59261     21               1                 44   \n",
       "\n",
       "   calculated_host_listings_count  availability_365  loc_Albany Park  \\\n",
       "0                               1               353                0   \n",
       "1                               1               155                0   \n",
       "2                               1               321                0   \n",
       "3                               9               300                0   \n",
       "4                               5               168                0   \n",
       "\n",
       "   loc_Archer Heights  loc_Armour Square  ...  room  spacious  square  studio  \\\n",
       "0                   0                  0  ...     0         0       0       0   \n",
       "1                   0                  0  ...     0         0       0       0   \n",
       "2                   0                  0  ...     0         0       0       1   \n",
       "3                   0                  0  ...     0         0       0       0   \n",
       "4                   0                  0  ...     0         0       0       0   \n",
       "\n",
       "   suite  village  walk  west  wicker  wrigley  \n",
       "0      0        0     1     0       0        0  \n",
       "1      0        0     0     0       0        0  \n",
       "2      0        0     1     0       0        0  \n",
       "3      0        0     0     0       0        0  \n",
       "4      0        0     0     0       0        0  \n",
       "\n",
       "[5 rows x 131 columns]"
      ]
     },
     "execution_count": 38,
     "metadata": {},
     "output_type": "execute_result"
    }
   ],
   "source": [
    "data = pd.concat([data,words_df],axis=1)\n",
    "data = data.drop(columns='name')\n",
    "data.head()"
   ]
  },
  {
   "cell_type": "markdown",
   "metadata": {},
   "source": [
    "# Part 4 Rescale the data and split train-test data set"
   ]
  },
  {
   "cell_type": "markdown",
   "metadata": {},
   "source": [
    "####  I split the train and test data set. I had 30% as the test set and set random_state as 42."
   ]
  },
  {
   "cell_type": "code",
   "execution_count": 39,
   "metadata": {},
   "outputs": [
    {
     "data": {
      "text/plain": [
       "((2978, 130), (1277, 130))"
      ]
     },
     "execution_count": 39,
     "metadata": {},
     "output_type": "execute_result"
    }
   ],
   "source": [
    "from sklearn.model_selection import train_test_split\n",
    "\n",
    "a = list(data.columns.values)\n",
    "a.pop(2)\n",
    "\n",
    "X = data[a] # X is all the features except for 'price'\n",
    "y = data['price'] # y is 'price'\n",
    "\n",
    "X_train, X_test, y_train, y_test = train_test_split(X, y, \n",
    "                                                    test_size=0.3,  # I want to have 30% as test set. \n",
    "                                                random_state=42)\n",
    "X_train.shape, X_test.shape"
   ]
  },
  {
   "cell_type": "markdown",
   "metadata": {},
   "source": [
    "#### To rescale the data, I use StandardScaler."
   ]
  },
  {
   "cell_type": "code",
   "execution_count": 40,
   "metadata": {},
   "outputs": [
    {
     "data": {
      "text/html": [
       "<div>\n",
       "<style scoped>\n",
       "    .dataframe tbody tr th:only-of-type {\n",
       "        vertical-align: middle;\n",
       "    }\n",
       "\n",
       "    .dataframe tbody tr th {\n",
       "        vertical-align: top;\n",
       "    }\n",
       "\n",
       "    .dataframe thead th {\n",
       "        text-align: right;\n",
       "    }\n",
       "</style>\n",
       "<table border=\"1\" class=\"dataframe\">\n",
       "  <thead>\n",
       "    <tr style=\"text-align: right;\">\n",
       "      <th></th>\n",
       "      <th>latitude</th>\n",
       "      <th>longitude</th>\n",
       "      <th>minimum_nights</th>\n",
       "      <th>number_of_reviews</th>\n",
       "      <th>calculated_host_listings_count</th>\n",
       "      <th>availability_365</th>\n",
       "    </tr>\n",
       "  </thead>\n",
       "  <tbody>\n",
       "    <tr>\n",
       "      <th>184</th>\n",
       "      <td>41.94177</td>\n",
       "      <td>-87.65147</td>\n",
       "      <td>2</td>\n",
       "      <td>0</td>\n",
       "      <td>2</td>\n",
       "      <td>88</td>\n",
       "    </tr>\n",
       "    <tr>\n",
       "      <th>1018</th>\n",
       "      <td>41.94872</td>\n",
       "      <td>-87.65189</td>\n",
       "      <td>1</td>\n",
       "      <td>61</td>\n",
       "      <td>1</td>\n",
       "      <td>178</td>\n",
       "    </tr>\n",
       "    <tr>\n",
       "      <th>2909</th>\n",
       "      <td>41.80133</td>\n",
       "      <td>-87.58495</td>\n",
       "      <td>2</td>\n",
       "      <td>6</td>\n",
       "      <td>1</td>\n",
       "      <td>41</td>\n",
       "    </tr>\n",
       "    <tr>\n",
       "      <th>2704</th>\n",
       "      <td>41.91190</td>\n",
       "      <td>-87.63854</td>\n",
       "      <td>4</td>\n",
       "      <td>23</td>\n",
       "      <td>9</td>\n",
       "      <td>323</td>\n",
       "    </tr>\n",
       "    <tr>\n",
       "      <th>602</th>\n",
       "      <td>41.85523</td>\n",
       "      <td>-87.67427</td>\n",
       "      <td>2</td>\n",
       "      <td>48</td>\n",
       "      <td>1</td>\n",
       "      <td>301</td>\n",
       "    </tr>\n",
       "    <tr>\n",
       "      <th>...</th>\n",
       "      <td>...</td>\n",
       "      <td>...</td>\n",
       "      <td>...</td>\n",
       "      <td>...</td>\n",
       "      <td>...</td>\n",
       "      <td>...</td>\n",
       "    </tr>\n",
       "    <tr>\n",
       "      <th>1550</th>\n",
       "      <td>41.95061</td>\n",
       "      <td>-87.67199</td>\n",
       "      <td>6</td>\n",
       "      <td>110</td>\n",
       "      <td>1</td>\n",
       "      <td>21</td>\n",
       "    </tr>\n",
       "    <tr>\n",
       "      <th>1767</th>\n",
       "      <td>41.82011</td>\n",
       "      <td>-87.62129</td>\n",
       "      <td>1</td>\n",
       "      <td>28</td>\n",
       "      <td>3</td>\n",
       "      <td>364</td>\n",
       "    </tr>\n",
       "    <tr>\n",
       "      <th>2643</th>\n",
       "      <td>41.76458</td>\n",
       "      <td>-87.57169</td>\n",
       "      <td>3</td>\n",
       "      <td>15</td>\n",
       "      <td>7</td>\n",
       "      <td>338</td>\n",
       "    </tr>\n",
       "    <tr>\n",
       "      <th>3603</th>\n",
       "      <td>42.00750</td>\n",
       "      <td>-87.66123</td>\n",
       "      <td>1</td>\n",
       "      <td>16</td>\n",
       "      <td>1</td>\n",
       "      <td>168</td>\n",
       "    </tr>\n",
       "    <tr>\n",
       "      <th>883</th>\n",
       "      <td>41.89523</td>\n",
       "      <td>-87.70820</td>\n",
       "      <td>1</td>\n",
       "      <td>40</td>\n",
       "      <td>1</td>\n",
       "      <td>67</td>\n",
       "    </tr>\n",
       "  </tbody>\n",
       "</table>\n",
       "<p>1277 rows × 6 columns</p>\n",
       "</div>"
      ],
      "text/plain": [
       "      latitude  longitude  minimum_nights  number_of_reviews  \\\n",
       "184   41.94177  -87.65147               2                  0   \n",
       "1018  41.94872  -87.65189               1                 61   \n",
       "2909  41.80133  -87.58495               2                  6   \n",
       "2704  41.91190  -87.63854               4                 23   \n",
       "602   41.85523  -87.67427               2                 48   \n",
       "...        ...        ...             ...                ...   \n",
       "1550  41.95061  -87.67199               6                110   \n",
       "1767  41.82011  -87.62129               1                 28   \n",
       "2643  41.76458  -87.57169               3                 15   \n",
       "3603  42.00750  -87.66123               1                 16   \n",
       "883   41.89523  -87.70820               1                 40   \n",
       "\n",
       "      calculated_host_listings_count  availability_365  \n",
       "184                                2                88  \n",
       "1018                               1               178  \n",
       "2909                               1                41  \n",
       "2704                               9               323  \n",
       "602                                1               301  \n",
       "...                              ...               ...  \n",
       "1550                               1                21  \n",
       "1767                               3               364  \n",
       "2643                               7               338  \n",
       "3603                               1               168  \n",
       "883                                1                67  \n",
       "\n",
       "[1277 rows x 6 columns]"
      ]
     },
     "execution_count": 40,
     "metadata": {},
     "output_type": "execute_result"
    }
   ],
   "source": [
    "#scale the numerical variables but not the target variable 'price'. \n",
    "X_train_num = X_train[['latitude','longitude','minimum_nights','number_of_reviews',\n",
    "                 'calculated_host_listings_count','availability_365']] \n",
    "X_train_num\n",
    "X_test_num = X_test[['latitude','longitude','minimum_nights','number_of_reviews',\n",
    "                 'calculated_host_listings_count','availability_365']] \n",
    "X_test_num"
   ]
  },
  {
   "cell_type": "code",
   "execution_count": 41,
   "metadata": {},
   "outputs": [
    {
     "name": "stdout",
     "output_type": "stream",
     "text": [
      "[[-3.31272422  1.47558011 -0.14472924 -0.36498085 -0.57402342 -1.10812225]\n",
      " [ 0.44106941  0.49077927 -0.14472924 -0.11050036  4.33816548  1.43896702]\n",
      " [ 0.96953349 -2.40240652  0.34063527 -0.2980123  -0.57402342  1.50580026]]\n",
      "[[ 0.66330172  0.45924339 -0.14472924 -0.71321731 -0.31548716 -0.45464162]\n",
      " [ 0.7716127   0.44950436 -0.63009376  0.103799   -0.57402342  0.21369084]\n",
      " [-1.52535929  2.00171929 -0.14472924 -0.63285505 -0.57402342 -0.80365968]]\n"
     ]
    }
   ],
   "source": [
    "std_scaler = StandardScaler()\n",
    "\n",
    "X_train_std = std_scaler.fit_transform(X_train_num)\n",
    "X_test_std = std_scaler.transform(X_test_num)\n",
    "print(X_train_std[:3])\n",
    "print(X_test_std[:3])"
   ]
  },
  {
   "cell_type": "code",
   "execution_count": 42,
   "metadata": {},
   "outputs": [
    {
     "data": {
      "text/html": [
       "<div>\n",
       "<style scoped>\n",
       "    .dataframe tbody tr th:only-of-type {\n",
       "        vertical-align: middle;\n",
       "    }\n",
       "\n",
       "    .dataframe tbody tr th {\n",
       "        vertical-align: top;\n",
       "    }\n",
       "\n",
       "    .dataframe thead th {\n",
       "        text-align: right;\n",
       "    }\n",
       "</style>\n",
       "<table border=\"1\" class=\"dataframe\">\n",
       "  <thead>\n",
       "    <tr style=\"text-align: right;\">\n",
       "      <th></th>\n",
       "      <th>latitude</th>\n",
       "      <th>longitude</th>\n",
       "      <th>minimum_nights</th>\n",
       "      <th>number_of_reviews</th>\n",
       "      <th>calculated_host_listings_count</th>\n",
       "      <th>availability_365</th>\n",
       "    </tr>\n",
       "  </thead>\n",
       "  <tbody>\n",
       "    <tr>\n",
       "      <th>0</th>\n",
       "      <td>-3.312724</td>\n",
       "      <td>1.475580</td>\n",
       "      <td>-0.144729</td>\n",
       "      <td>-0.364981</td>\n",
       "      <td>-0.574023</td>\n",
       "      <td>-1.108122</td>\n",
       "    </tr>\n",
       "    <tr>\n",
       "      <th>1</th>\n",
       "      <td>0.441069</td>\n",
       "      <td>0.490779</td>\n",
       "      <td>-0.144729</td>\n",
       "      <td>-0.110500</td>\n",
       "      <td>4.338165</td>\n",
       "      <td>1.438967</td>\n",
       "    </tr>\n",
       "    <tr>\n",
       "      <th>2</th>\n",
       "      <td>0.969533</td>\n",
       "      <td>-2.402407</td>\n",
       "      <td>0.340635</td>\n",
       "      <td>-0.298012</td>\n",
       "      <td>-0.574023</td>\n",
       "      <td>1.505800</td>\n",
       "    </tr>\n",
       "    <tr>\n",
       "      <th>3</th>\n",
       "      <td>-0.449418</td>\n",
       "      <td>0.423302</td>\n",
       "      <td>3.738187</td>\n",
       "      <td>-0.244437</td>\n",
       "      <td>2.011339</td>\n",
       "      <td>0.005765</td>\n",
       "    </tr>\n",
       "    <tr>\n",
       "      <th>4</th>\n",
       "      <td>0.642886</td>\n",
       "      <td>-1.996614</td>\n",
       "      <td>-0.144729</td>\n",
       "      <td>-0.659642</td>\n",
       "      <td>3.304020</td>\n",
       "      <td>1.580059</td>\n",
       "    </tr>\n",
       "    <tr>\n",
       "      <th>...</th>\n",
       "      <td>...</td>\n",
       "      <td>...</td>\n",
       "      <td>...</td>\n",
       "      <td>...</td>\n",
       "      <td>...</td>\n",
       "      <td>...</td>\n",
       "    </tr>\n",
       "    <tr>\n",
       "      <th>2973</th>\n",
       "      <td>0.897534</td>\n",
       "      <td>0.491707</td>\n",
       "      <td>-0.630094</td>\n",
       "      <td>-0.606068</td>\n",
       "      <td>-0.315487</td>\n",
       "      <td>-0.432364</td>\n",
       "    </tr>\n",
       "    <tr>\n",
       "      <th>2974</th>\n",
       "      <td>-0.594197</td>\n",
       "      <td>-0.774366</td>\n",
       "      <td>0.340635</td>\n",
       "      <td>1.322627</td>\n",
       "      <td>-0.574023</td>\n",
       "      <td>0.161709</td>\n",
       "    </tr>\n",
       "    <tr>\n",
       "      <th>2975</th>\n",
       "      <td>0.443875</td>\n",
       "      <td>-0.959872</td>\n",
       "      <td>-0.144729</td>\n",
       "      <td>-0.043532</td>\n",
       "      <td>-0.315487</td>\n",
       "      <td>-0.023938</td>\n",
       "    </tr>\n",
       "    <tr>\n",
       "      <th>2976</th>\n",
       "      <td>-0.342198</td>\n",
       "      <td>-0.731700</td>\n",
       "      <td>0.340635</td>\n",
       "      <td>-0.699824</td>\n",
       "      <td>0.977194</td>\n",
       "      <td>-1.108122</td>\n",
       "    </tr>\n",
       "    <tr>\n",
       "      <th>2977</th>\n",
       "      <td>1.760749</td>\n",
       "      <td>0.046031</td>\n",
       "      <td>-0.144729</td>\n",
       "      <td>1.483351</td>\n",
       "      <td>-0.574023</td>\n",
       "      <td>-1.070993</td>\n",
       "    </tr>\n",
       "  </tbody>\n",
       "</table>\n",
       "<p>2978 rows × 6 columns</p>\n",
       "</div>"
      ],
      "text/plain": [
       "      latitude  longitude  minimum_nights  number_of_reviews  \\\n",
       "0    -3.312724   1.475580       -0.144729          -0.364981   \n",
       "1     0.441069   0.490779       -0.144729          -0.110500   \n",
       "2     0.969533  -2.402407        0.340635          -0.298012   \n",
       "3    -0.449418   0.423302        3.738187          -0.244437   \n",
       "4     0.642886  -1.996614       -0.144729          -0.659642   \n",
       "...        ...        ...             ...                ...   \n",
       "2973  0.897534   0.491707       -0.630094          -0.606068   \n",
       "2974 -0.594197  -0.774366        0.340635           1.322627   \n",
       "2975  0.443875  -0.959872       -0.144729          -0.043532   \n",
       "2976 -0.342198  -0.731700        0.340635          -0.699824   \n",
       "2977  1.760749   0.046031       -0.144729           1.483351   \n",
       "\n",
       "      calculated_host_listings_count  availability_365  \n",
       "0                          -0.574023         -1.108122  \n",
       "1                           4.338165          1.438967  \n",
       "2                          -0.574023          1.505800  \n",
       "3                           2.011339          0.005765  \n",
       "4                           3.304020          1.580059  \n",
       "...                              ...               ...  \n",
       "2973                       -0.315487         -0.432364  \n",
       "2974                       -0.574023          0.161709  \n",
       "2975                       -0.315487         -0.023938  \n",
       "2976                        0.977194         -1.108122  \n",
       "2977                       -0.574023         -1.070993  \n",
       "\n",
       "[2978 rows x 6 columns]"
      ]
     },
     "execution_count": 42,
     "metadata": {},
     "output_type": "execute_result"
    }
   ],
   "source": [
    "# turn the scaled X_train data into a data frame\n",
    "name = ['latitude','longitude','minimum_nights','number_of_reviews',\n",
    "                 'calculated_host_listings_count','availability_365']\n",
    "df_X_train_std = pd.DataFrame(X_train_std)\n",
    "df_X_train_std.columns = name\n",
    "df_X_train_std # scaled X_train"
   ]
  },
  {
   "cell_type": "code",
   "execution_count": 43,
   "metadata": {},
   "outputs": [
    {
     "data": {
      "text/html": [
       "<div>\n",
       "<style scoped>\n",
       "    .dataframe tbody tr th:only-of-type {\n",
       "        vertical-align: middle;\n",
       "    }\n",
       "\n",
       "    .dataframe tbody tr th {\n",
       "        vertical-align: top;\n",
       "    }\n",
       "\n",
       "    .dataframe thead th {\n",
       "        text-align: right;\n",
       "    }\n",
       "</style>\n",
       "<table border=\"1\" class=\"dataframe\">\n",
       "  <thead>\n",
       "    <tr style=\"text-align: right;\">\n",
       "      <th></th>\n",
       "      <th>latitude</th>\n",
       "      <th>longitude</th>\n",
       "      <th>minimum_nights</th>\n",
       "      <th>number_of_reviews</th>\n",
       "      <th>calculated_host_listings_count</th>\n",
       "      <th>availability_365</th>\n",
       "    </tr>\n",
       "  </thead>\n",
       "  <tbody>\n",
       "    <tr>\n",
       "      <th>0</th>\n",
       "      <td>0.663302</td>\n",
       "      <td>0.459243</td>\n",
       "      <td>-0.144729</td>\n",
       "      <td>-0.713217</td>\n",
       "      <td>-0.315487</td>\n",
       "      <td>-0.454642</td>\n",
       "    </tr>\n",
       "    <tr>\n",
       "      <th>1</th>\n",
       "      <td>0.771613</td>\n",
       "      <td>0.449504</td>\n",
       "      <td>-0.630094</td>\n",
       "      <td>0.103799</td>\n",
       "      <td>-0.574023</td>\n",
       "      <td>0.213691</td>\n",
       "    </tr>\n",
       "    <tr>\n",
       "      <th>2</th>\n",
       "      <td>-1.525359</td>\n",
       "      <td>2.001719</td>\n",
       "      <td>-0.144729</td>\n",
       "      <td>-0.632855</td>\n",
       "      <td>-0.574023</td>\n",
       "      <td>-0.803660</td>\n",
       "    </tr>\n",
       "    <tr>\n",
       "      <th>3</th>\n",
       "      <td>0.197798</td>\n",
       "      <td>0.759066</td>\n",
       "      <td>0.826000</td>\n",
       "      <td>-0.405162</td>\n",
       "      <td>1.494267</td>\n",
       "      <td>1.290449</td>\n",
       "    </tr>\n",
       "    <tr>\n",
       "      <th>4</th>\n",
       "      <td>-0.685365</td>\n",
       "      <td>-0.069446</td>\n",
       "      <td>-0.144729</td>\n",
       "      <td>-0.070319</td>\n",
       "      <td>-0.574023</td>\n",
       "      <td>1.127079</td>\n",
       "    </tr>\n",
       "    <tr>\n",
       "      <th>...</th>\n",
       "      <td>...</td>\n",
       "      <td>...</td>\n",
       "      <td>...</td>\n",
       "      <td>...</td>\n",
       "      <td>...</td>\n",
       "      <td>...</td>\n",
       "    </tr>\n",
       "    <tr>\n",
       "      <th>1272</th>\n",
       "      <td>0.801067</td>\n",
       "      <td>-0.016578</td>\n",
       "      <td>1.796729</td>\n",
       "      <td>0.760091</td>\n",
       "      <td>-0.574023</td>\n",
       "      <td>-0.952178</td>\n",
       "    </tr>\n",
       "    <tr>\n",
       "      <th>1273</th>\n",
       "      <td>-1.232686</td>\n",
       "      <td>1.159062</td>\n",
       "      <td>-0.630094</td>\n",
       "      <td>-0.338193</td>\n",
       "      <td>-0.056951</td>\n",
       "      <td>1.594911</td>\n",
       "    </tr>\n",
       "    <tr>\n",
       "      <th>1274</th>\n",
       "      <td>-2.098083</td>\n",
       "      <td>2.309194</td>\n",
       "      <td>0.340635</td>\n",
       "      <td>-0.512312</td>\n",
       "      <td>0.977194</td>\n",
       "      <td>1.401837</td>\n",
       "    </tr>\n",
       "    <tr>\n",
       "      <th>1275</th>\n",
       "      <td>1.687659</td>\n",
       "      <td>0.232927</td>\n",
       "      <td>-0.630094</td>\n",
       "      <td>-0.498918</td>\n",
       "      <td>-0.574023</td>\n",
       "      <td>0.139432</td>\n",
       "    </tr>\n",
       "    <tr>\n",
       "      <th>1276</th>\n",
       "      <td>-0.061992</td>\n",
       "      <td>-0.856221</td>\n",
       "      <td>-0.630094</td>\n",
       "      <td>-0.177469</td>\n",
       "      <td>-0.574023</td>\n",
       "      <td>-0.610586</td>\n",
       "    </tr>\n",
       "  </tbody>\n",
       "</table>\n",
       "<p>1277 rows × 6 columns</p>\n",
       "</div>"
      ],
      "text/plain": [
       "      latitude  longitude  minimum_nights  number_of_reviews  \\\n",
       "0     0.663302   0.459243       -0.144729          -0.713217   \n",
       "1     0.771613   0.449504       -0.630094           0.103799   \n",
       "2    -1.525359   2.001719       -0.144729          -0.632855   \n",
       "3     0.197798   0.759066        0.826000          -0.405162   \n",
       "4    -0.685365  -0.069446       -0.144729          -0.070319   \n",
       "...        ...        ...             ...                ...   \n",
       "1272  0.801067  -0.016578        1.796729           0.760091   \n",
       "1273 -1.232686   1.159062       -0.630094          -0.338193   \n",
       "1274 -2.098083   2.309194        0.340635          -0.512312   \n",
       "1275  1.687659   0.232927       -0.630094          -0.498918   \n",
       "1276 -0.061992  -0.856221       -0.630094          -0.177469   \n",
       "\n",
       "      calculated_host_listings_count  availability_365  \n",
       "0                          -0.315487         -0.454642  \n",
       "1                          -0.574023          0.213691  \n",
       "2                          -0.574023         -0.803660  \n",
       "3                           1.494267          1.290449  \n",
       "4                          -0.574023          1.127079  \n",
       "...                              ...               ...  \n",
       "1272                       -0.574023         -0.952178  \n",
       "1273                       -0.056951          1.594911  \n",
       "1274                        0.977194          1.401837  \n",
       "1275                       -0.574023          0.139432  \n",
       "1276                       -0.574023         -0.610586  \n",
       "\n",
       "[1277 rows x 6 columns]"
      ]
     },
     "execution_count": 43,
     "metadata": {},
     "output_type": "execute_result"
    }
   ],
   "source": [
    "# turn the scaled X_train data into a data frame\n",
    "name = ['latitude','longitude','minimum_nights','number_of_reviews',\n",
    "                 'calculated_host_listings_count','availability_365']\n",
    "df_X_test_std = pd.DataFrame(X_test_std)\n",
    "df_X_test_std.columns = name\n",
    "df_X_test_std # scaled DATA"
   ]
  },
  {
   "cell_type": "markdown",
   "metadata": {},
   "source": [
    "Replace the scaled numerical variables with the unscaled numerical variables in X_train"
   ]
  },
  {
   "cell_type": "code",
   "execution_count": 44,
   "metadata": {},
   "outputs": [
    {
     "data": {
      "text/html": [
       "<div>\n",
       "<style scoped>\n",
       "    .dataframe tbody tr th:only-of-type {\n",
       "        vertical-align: middle;\n",
       "    }\n",
       "\n",
       "    .dataframe tbody tr th {\n",
       "        vertical-align: top;\n",
       "    }\n",
       "\n",
       "    .dataframe thead th {\n",
       "        text-align: right;\n",
       "    }\n",
       "</style>\n",
       "<table border=\"1\" class=\"dataframe\">\n",
       "  <thead>\n",
       "    <tr style=\"text-align: right;\">\n",
       "      <th></th>\n",
       "      <th>latitude</th>\n",
       "      <th>longitude</th>\n",
       "      <th>minimum_nights</th>\n",
       "      <th>number_of_reviews</th>\n",
       "      <th>calculated_host_listings_count</th>\n",
       "      <th>availability_365</th>\n",
       "      <th>index</th>\n",
       "      <th>loc_Albany Park</th>\n",
       "      <th>loc_Archer Heights</th>\n",
       "      <th>loc_Armour Square</th>\n",
       "      <th>...</th>\n",
       "      <th>room</th>\n",
       "      <th>spacious</th>\n",
       "      <th>square</th>\n",
       "      <th>studio</th>\n",
       "      <th>suite</th>\n",
       "      <th>village</th>\n",
       "      <th>walk</th>\n",
       "      <th>west</th>\n",
       "      <th>wicker</th>\n",
       "      <th>wrigley</th>\n",
       "    </tr>\n",
       "  </thead>\n",
       "  <tbody>\n",
       "    <tr>\n",
       "      <th>0</th>\n",
       "      <td>-3.312724</td>\n",
       "      <td>1.475580</td>\n",
       "      <td>-0.144729</td>\n",
       "      <td>-0.364981</td>\n",
       "      <td>-0.574023</td>\n",
       "      <td>-1.108122</td>\n",
       "      <td>1091</td>\n",
       "      <td>0</td>\n",
       "      <td>0</td>\n",
       "      <td>0</td>\n",
       "      <td>...</td>\n",
       "      <td>0</td>\n",
       "      <td>0</td>\n",
       "      <td>0</td>\n",
       "      <td>0</td>\n",
       "      <td>0</td>\n",
       "      <td>0</td>\n",
       "      <td>0</td>\n",
       "      <td>0</td>\n",
       "      <td>0</td>\n",
       "      <td>0</td>\n",
       "    </tr>\n",
       "    <tr>\n",
       "      <th>1</th>\n",
       "      <td>0.441069</td>\n",
       "      <td>0.490779</td>\n",
       "      <td>-0.144729</td>\n",
       "      <td>-0.110500</td>\n",
       "      <td>4.338165</td>\n",
       "      <td>1.438967</td>\n",
       "      <td>382</td>\n",
       "      <td>0</td>\n",
       "      <td>0</td>\n",
       "      <td>0</td>\n",
       "      <td>...</td>\n",
       "      <td>0</td>\n",
       "      <td>0</td>\n",
       "      <td>0</td>\n",
       "      <td>0</td>\n",
       "      <td>0</td>\n",
       "      <td>0</td>\n",
       "      <td>0</td>\n",
       "      <td>0</td>\n",
       "      <td>0</td>\n",
       "      <td>0</td>\n",
       "    </tr>\n",
       "    <tr>\n",
       "      <th>2</th>\n",
       "      <td>0.969533</td>\n",
       "      <td>-2.402407</td>\n",
       "      <td>0.340635</td>\n",
       "      <td>-0.298012</td>\n",
       "      <td>-0.574023</td>\n",
       "      <td>1.505800</td>\n",
       "      <td>2743</td>\n",
       "      <td>0</td>\n",
       "      <td>0</td>\n",
       "      <td>0</td>\n",
       "      <td>...</td>\n",
       "      <td>0</td>\n",
       "      <td>0</td>\n",
       "      <td>0</td>\n",
       "      <td>0</td>\n",
       "      <td>0</td>\n",
       "      <td>0</td>\n",
       "      <td>0</td>\n",
       "      <td>0</td>\n",
       "      <td>0</td>\n",
       "      <td>0</td>\n",
       "    </tr>\n",
       "    <tr>\n",
       "      <th>3</th>\n",
       "      <td>-0.449418</td>\n",
       "      <td>0.423302</td>\n",
       "      <td>3.738187</td>\n",
       "      <td>-0.244437</td>\n",
       "      <td>2.011339</td>\n",
       "      <td>0.005765</td>\n",
       "      <td>3150</td>\n",
       "      <td>0</td>\n",
       "      <td>0</td>\n",
       "      <td>0</td>\n",
       "      <td>...</td>\n",
       "      <td>0</td>\n",
       "      <td>0</td>\n",
       "      <td>0</td>\n",
       "      <td>0</td>\n",
       "      <td>0</td>\n",
       "      <td>0</td>\n",
       "      <td>0</td>\n",
       "      <td>0</td>\n",
       "      <td>0</td>\n",
       "      <td>0</td>\n",
       "    </tr>\n",
       "    <tr>\n",
       "      <th>4</th>\n",
       "      <td>0.642886</td>\n",
       "      <td>-1.996614</td>\n",
       "      <td>-0.144729</td>\n",
       "      <td>-0.659642</td>\n",
       "      <td>3.304020</td>\n",
       "      <td>1.580059</td>\n",
       "      <td>2230</td>\n",
       "      <td>0</td>\n",
       "      <td>0</td>\n",
       "      <td>0</td>\n",
       "      <td>...</td>\n",
       "      <td>0</td>\n",
       "      <td>0</td>\n",
       "      <td>0</td>\n",
       "      <td>0</td>\n",
       "      <td>1</td>\n",
       "      <td>0</td>\n",
       "      <td>0</td>\n",
       "      <td>0</td>\n",
       "      <td>0</td>\n",
       "      <td>0</td>\n",
       "    </tr>\n",
       "  </tbody>\n",
       "</table>\n",
       "<p>5 rows × 131 columns</p>\n",
       "</div>"
      ],
      "text/plain": [
       "   latitude  longitude  minimum_nights  number_of_reviews  \\\n",
       "0 -3.312724   1.475580       -0.144729          -0.364981   \n",
       "1  0.441069   0.490779       -0.144729          -0.110500   \n",
       "2  0.969533  -2.402407        0.340635          -0.298012   \n",
       "3 -0.449418   0.423302        3.738187          -0.244437   \n",
       "4  0.642886  -1.996614       -0.144729          -0.659642   \n",
       "\n",
       "   calculated_host_listings_count  availability_365  index  loc_Albany Park  \\\n",
       "0                       -0.574023         -1.108122   1091                0   \n",
       "1                        4.338165          1.438967    382                0   \n",
       "2                       -0.574023          1.505800   2743                0   \n",
       "3                        2.011339          0.005765   3150                0   \n",
       "4                        3.304020          1.580059   2230                0   \n",
       "\n",
       "   loc_Archer Heights  loc_Armour Square  ...  room  spacious  square  studio  \\\n",
       "0                   0                  0  ...     0         0       0       0   \n",
       "1                   0                  0  ...     0         0       0       0   \n",
       "2                   0                  0  ...     0         0       0       0   \n",
       "3                   0                  0  ...     0         0       0       0   \n",
       "4                   0                  0  ...     0         0       0       0   \n",
       "\n",
       "   suite  village  walk  west  wicker  wrigley  \n",
       "0      0        0     0     0       0        0  \n",
       "1      0        0     0     0       0        0  \n",
       "2      0        0     0     0       0        0  \n",
       "3      0        0     0     0       0        0  \n",
       "4      1        0     0     0       0        0  \n",
       "\n",
       "[5 rows x 131 columns]"
      ]
     },
     "execution_count": 44,
     "metadata": {},
     "output_type": "execute_result"
    }
   ],
   "source": [
    "X_train = X_train.drop(columns=name)\n",
    "X_train = X_train.reset_index()\n",
    "X_train = pd.concat([df_X_train_std,X_train],axis=1)\n",
    "X_train.head()"
   ]
  },
  {
   "cell_type": "markdown",
   "metadata": {},
   "source": [
    "Replace the scaled numerical variables with the unscaled numerical variables in X_test"
   ]
  },
  {
   "cell_type": "code",
   "execution_count": 45,
   "metadata": {},
   "outputs": [
    {
     "data": {
      "text/html": [
       "<div>\n",
       "<style scoped>\n",
       "    .dataframe tbody tr th:only-of-type {\n",
       "        vertical-align: middle;\n",
       "    }\n",
       "\n",
       "    .dataframe tbody tr th {\n",
       "        vertical-align: top;\n",
       "    }\n",
       "\n",
       "    .dataframe thead th {\n",
       "        text-align: right;\n",
       "    }\n",
       "</style>\n",
       "<table border=\"1\" class=\"dataframe\">\n",
       "  <thead>\n",
       "    <tr style=\"text-align: right;\">\n",
       "      <th></th>\n",
       "      <th>latitude</th>\n",
       "      <th>longitude</th>\n",
       "      <th>minimum_nights</th>\n",
       "      <th>number_of_reviews</th>\n",
       "      <th>calculated_host_listings_count</th>\n",
       "      <th>availability_365</th>\n",
       "      <th>index</th>\n",
       "      <th>loc_Albany Park</th>\n",
       "      <th>loc_Archer Heights</th>\n",
       "      <th>loc_Armour Square</th>\n",
       "      <th>...</th>\n",
       "      <th>room</th>\n",
       "      <th>spacious</th>\n",
       "      <th>square</th>\n",
       "      <th>studio</th>\n",
       "      <th>suite</th>\n",
       "      <th>village</th>\n",
       "      <th>walk</th>\n",
       "      <th>west</th>\n",
       "      <th>wicker</th>\n",
       "      <th>wrigley</th>\n",
       "    </tr>\n",
       "  </thead>\n",
       "  <tbody>\n",
       "    <tr>\n",
       "      <th>0</th>\n",
       "      <td>0.663302</td>\n",
       "      <td>0.459243</td>\n",
       "      <td>-0.144729</td>\n",
       "      <td>-0.713217</td>\n",
       "      <td>-0.315487</td>\n",
       "      <td>-0.454642</td>\n",
       "      <td>184</td>\n",
       "      <td>0</td>\n",
       "      <td>0</td>\n",
       "      <td>0</td>\n",
       "      <td>...</td>\n",
       "      <td>0</td>\n",
       "      <td>0</td>\n",
       "      <td>0</td>\n",
       "      <td>0</td>\n",
       "      <td>0</td>\n",
       "      <td>0</td>\n",
       "      <td>0</td>\n",
       "      <td>0</td>\n",
       "      <td>0</td>\n",
       "      <td>0</td>\n",
       "    </tr>\n",
       "    <tr>\n",
       "      <th>1</th>\n",
       "      <td>0.771613</td>\n",
       "      <td>0.449504</td>\n",
       "      <td>-0.630094</td>\n",
       "      <td>0.103799</td>\n",
       "      <td>-0.574023</td>\n",
       "      <td>0.213691</td>\n",
       "      <td>1018</td>\n",
       "      <td>0</td>\n",
       "      <td>0</td>\n",
       "      <td>0</td>\n",
       "      <td>...</td>\n",
       "      <td>0</td>\n",
       "      <td>0</td>\n",
       "      <td>0</td>\n",
       "      <td>0</td>\n",
       "      <td>0</td>\n",
       "      <td>0</td>\n",
       "      <td>0</td>\n",
       "      <td>0</td>\n",
       "      <td>0</td>\n",
       "      <td>0</td>\n",
       "    </tr>\n",
       "    <tr>\n",
       "      <th>2</th>\n",
       "      <td>-1.525359</td>\n",
       "      <td>2.001719</td>\n",
       "      <td>-0.144729</td>\n",
       "      <td>-0.632855</td>\n",
       "      <td>-0.574023</td>\n",
       "      <td>-0.803660</td>\n",
       "      <td>2909</td>\n",
       "      <td>0</td>\n",
       "      <td>0</td>\n",
       "      <td>0</td>\n",
       "      <td>...</td>\n",
       "      <td>0</td>\n",
       "      <td>0</td>\n",
       "      <td>0</td>\n",
       "      <td>1</td>\n",
       "      <td>0</td>\n",
       "      <td>0</td>\n",
       "      <td>0</td>\n",
       "      <td>0</td>\n",
       "      <td>0</td>\n",
       "      <td>0</td>\n",
       "    </tr>\n",
       "    <tr>\n",
       "      <th>3</th>\n",
       "      <td>0.197798</td>\n",
       "      <td>0.759066</td>\n",
       "      <td>0.826000</td>\n",
       "      <td>-0.405162</td>\n",
       "      <td>1.494267</td>\n",
       "      <td>1.290449</td>\n",
       "      <td>2704</td>\n",
       "      <td>0</td>\n",
       "      <td>0</td>\n",
       "      <td>0</td>\n",
       "      <td>...</td>\n",
       "      <td>0</td>\n",
       "      <td>0</td>\n",
       "      <td>0</td>\n",
       "      <td>0</td>\n",
       "      <td>0</td>\n",
       "      <td>0</td>\n",
       "      <td>0</td>\n",
       "      <td>0</td>\n",
       "      <td>0</td>\n",
       "      <td>0</td>\n",
       "    </tr>\n",
       "    <tr>\n",
       "      <th>4</th>\n",
       "      <td>-0.685365</td>\n",
       "      <td>-0.069446</td>\n",
       "      <td>-0.144729</td>\n",
       "      <td>-0.070319</td>\n",
       "      <td>-0.574023</td>\n",
       "      <td>1.127079</td>\n",
       "      <td>602</td>\n",
       "      <td>0</td>\n",
       "      <td>0</td>\n",
       "      <td>0</td>\n",
       "      <td>...</td>\n",
       "      <td>0</td>\n",
       "      <td>0</td>\n",
       "      <td>0</td>\n",
       "      <td>0</td>\n",
       "      <td>0</td>\n",
       "      <td>0</td>\n",
       "      <td>0</td>\n",
       "      <td>0</td>\n",
       "      <td>0</td>\n",
       "      <td>0</td>\n",
       "    </tr>\n",
       "  </tbody>\n",
       "</table>\n",
       "<p>5 rows × 131 columns</p>\n",
       "</div>"
      ],
      "text/plain": [
       "   latitude  longitude  minimum_nights  number_of_reviews  \\\n",
       "0  0.663302   0.459243       -0.144729          -0.713217   \n",
       "1  0.771613   0.449504       -0.630094           0.103799   \n",
       "2 -1.525359   2.001719       -0.144729          -0.632855   \n",
       "3  0.197798   0.759066        0.826000          -0.405162   \n",
       "4 -0.685365  -0.069446       -0.144729          -0.070319   \n",
       "\n",
       "   calculated_host_listings_count  availability_365  index  loc_Albany Park  \\\n",
       "0                       -0.315487         -0.454642    184                0   \n",
       "1                       -0.574023          0.213691   1018                0   \n",
       "2                       -0.574023         -0.803660   2909                0   \n",
       "3                        1.494267          1.290449   2704                0   \n",
       "4                       -0.574023          1.127079    602                0   \n",
       "\n",
       "   loc_Archer Heights  loc_Armour Square  ...  room  spacious  square  studio  \\\n",
       "0                   0                  0  ...     0         0       0       0   \n",
       "1                   0                  0  ...     0         0       0       0   \n",
       "2                   0                  0  ...     0         0       0       1   \n",
       "3                   0                  0  ...     0         0       0       0   \n",
       "4                   0                  0  ...     0         0       0       0   \n",
       "\n",
       "   suite  village  walk  west  wicker  wrigley  \n",
       "0      0        0     0     0       0        0  \n",
       "1      0        0     0     0       0        0  \n",
       "2      0        0     0     0       0        0  \n",
       "3      0        0     0     0       0        0  \n",
       "4      0        0     0     0       0        0  \n",
       "\n",
       "[5 rows x 131 columns]"
      ]
     },
     "execution_count": 45,
     "metadata": {},
     "output_type": "execute_result"
    }
   ],
   "source": [
    "X_test = X_test.drop(columns=name)\n",
    "X_test = X_test.reset_index()\n",
    "X_test = pd.concat([df_X_test_std,X_test],axis=1)\n",
    "X_test.head()"
   ]
  },
  {
   "cell_type": "markdown",
   "metadata": {},
   "source": [
    "So now we have the scaled data set, X_train and X_test."
   ]
  },
  {
   "cell_type": "markdown",
   "metadata": {},
   "source": [
    "# Part 5: Model Training and Evaluation"
   ]
  },
  {
   "cell_type": "markdown",
   "metadata": {},
   "source": [
    "### 5.1 Ridge "
   ]
  },
  {
   "cell_type": "markdown",
   "metadata": {},
   "source": [
    "Now we will use Ridge regression to find the feature correlation and sort in descending order. "
   ]
  },
  {
   "cell_type": "markdown",
   "metadata": {},
   "source": [
    "##### 5.1.1 Ridge"
   ]
  },
  {
   "cell_type": "code",
   "execution_count": 46,
   "metadata": {},
   "outputs": [
    {
     "data": {
      "text/plain": [
       "0.3536811335046568"
      ]
     },
     "execution_count": 46,
     "metadata": {},
     "output_type": "execute_result"
    }
   ],
   "source": [
    "rg_reg = Ridge(alpha = 400)\n",
    "rg_reg.fit(X_train, y_train)\n",
    "rg_reg.score(X_test, y_test)"
   ]
  },
  {
   "cell_type": "markdown",
   "metadata": {},
   "source": [
    "The first model I used is Ridge and I set alpha to 400 in order to make the penalty strict so that the insignificant features will not be selected into the model.\n",
    "\n",
    "The score is 0.354, which is R^2, and this means roughly 35.4% variations in y_test are explained by variations in X_test. "
   ]
  },
  {
   "cell_type": "markdown",
   "metadata": {},
   "source": [
    "##### 5.2.2 RidgeCV"
   ]
  },
  {
   "cell_type": "markdown",
   "metadata": {},
   "source": [
    "To find the optimal value of alpha, I used lasso linear model with iterative fitting along a regularization path. And the R^2 got is 0.4392"
   ]
  },
  {
   "cell_type": "code",
   "execution_count": 47,
   "metadata": {},
   "outputs": [],
   "source": [
    "from sklearn.linear_model import RidgeCV\n",
    "# list of alphas to check: 100 values from 0 to 5 with\n",
    "r_alphas = np.logspace(0, 5, 100)\n",
    "# initiate the cross validation over alphas\n",
    "ridge_model = RidgeCV(alphas=r_alphas, scoring='r2')\n",
    "# fit the model with the best alpha\n",
    "ridge_model = ridge_model.fit(X_train, y_train)"
   ]
  },
  {
   "cell_type": "code",
   "execution_count": 48,
   "metadata": {},
   "outputs": [
    {
     "data": {
      "text/plain": [
       "9.111627561154892"
      ]
     },
     "execution_count": 48,
     "metadata": {},
     "output_type": "execute_result"
    }
   ],
   "source": [
    "ridge_model.alpha_"
   ]
  },
  {
   "cell_type": "code",
   "execution_count": 49,
   "metadata": {},
   "outputs": [
    {
     "data": {
      "text/plain": [
       "0.4392669052002094"
      ]
     },
     "execution_count": 49,
     "metadata": {},
     "output_type": "execute_result"
    }
   ],
   "source": [
    "ridge_best = Ridge(alpha = ridge_model.alpha_) \n",
    "# Ridge best is the Ridge model selected by cross validation, whose alpha is 16.297\n",
    "ridge_best.fit(X_train, y_train)\n",
    "ridge_best.score(X_test, y_test)"
   ]
  },
  {
   "cell_type": "code",
   "execution_count": 50,
   "metadata": {},
   "outputs": [
    {
     "data": {
      "image/png": "[encoded data removed]",
      "text/plain": [
       "<Figure size 432x288 with 1 Axes>"
      ]
     },
     "metadata": {
      "needs_background": "light"
     },
     "output_type": "display_data"
    }
   ],
   "source": [
    "alphas = np.linspace(0.01,500,100)\n",
    "ridge = Ridge()\n",
    "coefs = []\n",
    "\n",
    "for a in alphas:\n",
    "    ridge.set_params(alpha = a)\n",
    "    ridge.fit(X_train, y_train)\n",
    "    coefs.append(ridge.coef_)\n",
    "\n",
    "ax = plt.gca()\n",
    "\n",
    "ax.plot(alphas, coefs)\n",
    "plt.axvline(\n",
    "    ridge_model.alpha_, linestyle=\"--\", color=\"k\", label=\"alpha: CV estimate\"\n",
    ")\n",
    "ax.set_xscale('log')\n",
    "plt.axis('tight')\n",
    "plt.xlabel('alpha')\n",
    "plt.ylabel('Standardized Coefficients')\n",
    "plt.title('Ridge coefficients as a function of alpha');"
   ]
  },
  {
   "cell_type": "markdown",
   "metadata": {},
   "source": [
    "This graph showed that as alpha increases, the penalty increases so that the absolute value of coefficients are approaching zero. The dashline crosses the coefficients of features when the alpha is 16.2975, which is selected by cross validation. The R^2 I got here is 0.439, which means the RidgeCV fits better than Ridge."
   ]
  },
  {
   "cell_type": "markdown",
   "metadata": {},
   "source": [
    "### 5.2 Lasso "
   ]
  },
  {
   "cell_type": "markdown",
   "metadata": {},
   "source": [
    "##### 5.2.1 Lasso"
   ]
  },
  {
   "cell_type": "code",
   "execution_count": 51,
   "metadata": {},
   "outputs": [
    {
     "data": {
      "text/plain": [
       "0.3278620174406316"
      ]
     },
     "execution_count": 51,
     "metadata": {},
     "output_type": "execute_result"
    }
   ],
   "source": [
    "ls_reg = Lasso(alpha=1)\n",
    "ls_reg.fit(X_train, y_train)\n",
    "ls_reg.score(X_test, y_test)"
   ]
  },
  {
   "cell_type": "markdown",
   "metadata": {},
   "source": [
    "The second model I used is lasso, and I use the default paramter. \n",
    "The R^2 is 0.328, and this means roughly 32.8% variations in y_test are explained by variations in X_test."
   ]
  },
  {
   "cell_type": "markdown",
   "metadata": {},
   "source": [
    "##### 5.2.2 LassoCV"
   ]
  },
  {
   "cell_type": "markdown",
   "metadata": {},
   "source": [
    "To find the optimal value of alpha, I used lasso linear model with iterative fitting along a regularization path. I set cv equals to 10. And the R^2 got is 0.301"
   ]
  },
  {
   "cell_type": "code",
   "execution_count": 52,
   "metadata": {},
   "outputs": [
    {
     "data": {
      "text/plain": [
       "2.294894257124443"
      ]
     },
     "execution_count": 52,
     "metadata": {},
     "output_type": "execute_result"
    }
   ],
   "source": [
    "from sklearn.linear_model import LassoCV\n",
    "\n",
    "# Lasso with 10 fold cross-validation\n",
    "lasso_model = LassoCV(cv=10, random_state=0, max_iter=10000)\n",
    "# Fit model\n",
    "lasso_model.fit(X_train, y_train)\n",
    "lasso_model.alpha_"
   ]
  },
  {
   "cell_type": "code",
   "execution_count": 53,
   "metadata": {},
   "outputs": [
    {
     "data": {
      "text/plain": [
       "0.3006257716614027"
      ]
     },
     "execution_count": 53,
     "metadata": {},
     "output_type": "execute_result"
    }
   ],
   "source": [
    "lasso_best = Lasso(alpha=lasso_model.alpha_)\n",
    "# lasso best is the Ridge model selected by cross validation, whose alpha is 4.16285\n",
    "lasso_best.fit(X_train, y_train)\n",
    "lasso_best.score(X_test, y_test)"
   ]
  },
  {
   "cell_type": "code",
   "execution_count": 54,
   "metadata": {},
   "outputs": [
    {
     "data": {
      "image/png": "[encoded data removed]",
      "text/plain": [
       "<Figure size 432x288 with 1 Axes>"
      ]
     },
     "metadata": {
      "needs_background": "light"
     },
     "output_type": "display_data"
    }
   ],
   "source": [
    "alphas = np.linspace(0.01,500,100)\n",
    "lasso = Lasso(max_iter=10000)\n",
    "coefs = []\n",
    "\n",
    "for a in alphas:\n",
    "    lasso.set_params(alpha=a)\n",
    "    lasso.fit(X_train, y_train)\n",
    "    coefs.append(lasso.coef_)\n",
    "\n",
    "ax = plt.gca()\n",
    "\n",
    "ax.plot(alphas, coefs)\n",
    "plt.axvline(\n",
    "    lasso_model.alpha_, linestyle=\"--\", color=\"k\", label=\"alpha: CV estimate\"\n",
    ")\n",
    "ax.set_xscale('log')\n",
    "plt.axis('tight')\n",
    "plt.xlabel('alpha')\n",
    "plt.ylabel('Standardized Coefficients')\n",
    "plt.title('Lasso coefficients as a function of alpha');"
   ]
  },
  {
   "cell_type": "markdown",
   "metadata": {},
   "source": [
    "This graph showed that as alpha increases, the penalty increases so that the absolute value of coefficients are approaching zero. The dashline crosses the coefficients of features when the alpha is 4.1628, which is selected by cross validation. The R^2 I got here is 0.301, which is lower than the R^2 of Lasso model."
   ]
  },
  {
   "cell_type": "markdown",
   "metadata": {},
   "source": [
    "### 5.3 OLS"
   ]
  },
  {
   "cell_type": "code",
   "execution_count": 55,
   "metadata": {},
   "outputs": [
    {
     "data": {
      "text/plain": [
       "LinearRegression(fit_intercept=False)"
      ]
     },
     "execution_count": 55,
     "metadata": {},
     "output_type": "execute_result"
    }
   ],
   "source": [
    "lg_reg = LinearRegression(fit_intercept = False)\n",
    "lg_reg.fit(X_train, y_train)"
   ]
  },
  {
   "cell_type": "code",
   "execution_count": 56,
   "metadata": {},
   "outputs": [
    {
     "data": {
      "text/plain": [
       "0.43637267051931916"
      ]
     },
     "execution_count": 56,
     "metadata": {},
     "output_type": "execute_result"
    }
   ],
   "source": [
    "lg_reg.score(X_test,y_test)"
   ]
  },
  {
   "cell_type": "markdown",
   "metadata": {},
   "source": [
    "Then I applied OLS model. \n",
    "The R^2 score is 0.436, which means roughly 43.6% variations in y_test are explained by variations in X_test."
   ]
  },
  {
   "cell_type": "markdown",
   "metadata": {},
   "source": [
    "### 5.4 Gradient Boosting Regression"
   ]
  },
  {
   "cell_type": "code",
   "execution_count": 70,
   "metadata": {},
   "outputs": [],
   "source": [
    "from sklearn import ensemble\n",
    "from sklearn.model_selection import GridSearchCV\n",
    "param_grid = {\n",
    "    'max_depth': [4,6,8],\n",
    "    #'max_features': [2, 3],\n",
    "    #'min_samples_leaf': [3, 4, 5],\n",
    "    #'min_samples_split': [8, 10, 12],\n",
    "    'learning_rate':[0.01,0.02,0.03,0.04],\n",
    "    'n_estimators': [100, 500, 1000,1500]\n",
    "}\n",
    "\n",
    "grad_reg = ensemble.GradientBoostingRegressor()\n",
    "grad_grid_search = GridSearchCV(ensemble.GradientBoostingRegressor(), param_grid,refit = True, verbose = 3)\n"
   ]
  },
  {
   "cell_type": "code",
   "execution_count": 71,
   "metadata": {},
   "outputs": [
    {
     "name": "stdout",
     "output_type": "stream",
     "text": [
      "Fitting 5 folds for each of 48 candidates, totalling 240 fits\n",
      "[CV] learning_rate=0.01, max_depth=4, n_estimators=100 ...............\n"
     ]
    },
    {
     "name": "stderr",
     "output_type": "stream",
     "text": [
      "[Parallel(n_jobs=1)]: Using backend SequentialBackend with 1 concurrent workers.\n"
     ]
    },
    {
     "name": "stdout",
     "output_type": "stream",
     "text": [
      "[CV]  learning_rate=0.01, max_depth=4, n_estimators=100, score=0.328, total=   0.7s\n",
      "[CV] learning_rate=0.01, max_depth=4, n_estimators=100 ...............\n"
     ]
    },
    {
     "name": "stderr",
     "output_type": "stream",
     "text": [
      "[Parallel(n_jobs=1)]: Done   1 out of   1 | elapsed:    0.7s remaining:    0.0s\n"
     ]
    },
    {
     "name": "stdout",
     "output_type": "stream",
     "text": [
      "[CV]  learning_rate=0.01, max_depth=4, n_estimators=100, score=0.332, total=   0.7s\n",
      "[CV] learning_rate=0.01, max_depth=4, n_estimators=100 ...............\n"
     ]
    },
    {
     "name": "stderr",
     "output_type": "stream",
     "text": [
      "[Parallel(n_jobs=1)]: Done   2 out of   2 | elapsed:    1.4s remaining:    0.0s\n"
     ]
    },
    {
     "name": "stdout",
     "output_type": "stream",
     "text": [
      "[CV]  learning_rate=0.01, max_depth=4, n_estimators=100, score=0.331, total=   0.7s\n",
      "[CV] learning_rate=0.01, max_depth=4, n_estimators=100 ...............\n",
      "[CV]  learning_rate=0.01, max_depth=4, n_estimators=100, score=0.312, total=   0.7s\n",
      "[CV] learning_rate=0.01, max_depth=4, n_estimators=100 ...............\n",
      "[CV]  learning_rate=0.01, max_depth=4, n_estimators=100, score=0.308, total=   0.7s\n",
      "[CV] learning_rate=0.01, max_depth=4, n_estimators=500 ...............\n",
      "[CV]  learning_rate=0.01, max_depth=4, n_estimators=500, score=0.454, total=   3.4s\n",
      "[CV] learning_rate=0.01, max_depth=4, n_estimators=500 ...............\n",
      "[CV]  learning_rate=0.01, max_depth=4, n_estimators=500, score=0.462, total=   3.5s\n",
      "[CV] learning_rate=0.01, max_depth=4, n_estimators=500 ...............\n",
      "[CV]  learning_rate=0.01, max_depth=4, n_estimators=500, score=0.446, total=   3.5s\n",
      "[CV] learning_rate=0.01, max_depth=4, n_estimators=500 ...............\n",
      "[CV]  learning_rate=0.01, max_depth=4, n_estimators=500, score=0.442, total=   3.6s\n",
      "[CV] learning_rate=0.01, max_depth=4, n_estimators=500 ...............\n",
      "[CV]  learning_rate=0.01, max_depth=4, n_estimators=500, score=0.438, total=   3.3s\n",
      "[CV] learning_rate=0.01, max_depth=4, n_estimators=1000 ..............\n",
      "[CV]  learning_rate=0.01, max_depth=4, n_estimators=1000, score=0.473, total=   7.1s\n",
      "[CV] learning_rate=0.01, max_depth=4, n_estimators=1000 ..............\n",
      "[CV]  learning_rate=0.01, max_depth=4, n_estimators=1000, score=0.469, total=   6.9s\n",
      "[CV] learning_rate=0.01, max_depth=4, n_estimators=1000 ..............\n",
      "[CV]  learning_rate=0.01, max_depth=4, n_estimators=1000, score=0.459, total=   7.0s\n",
      "[CV] learning_rate=0.01, max_depth=4, n_estimators=1000 ..............\n",
      "[CV]  learning_rate=0.01, max_depth=4, n_estimators=1000, score=0.459, total=   6.6s\n",
      "[CV] learning_rate=0.01, max_depth=4, n_estimators=1000 ..............\n",
      "[CV]  learning_rate=0.01, max_depth=4, n_estimators=1000, score=0.458, total=   6.6s\n",
      "[CV] learning_rate=0.01, max_depth=4, n_estimators=1500 ..............\n",
      "[CV]  learning_rate=0.01, max_depth=4, n_estimators=1500, score=0.478, total=  10.1s\n",
      "[CV] learning_rate=0.01, max_depth=4, n_estimators=1500 ..............\n",
      "[CV]  learning_rate=0.01, max_depth=4, n_estimators=1500, score=0.463, total=  10.5s\n",
      "[CV] learning_rate=0.01, max_depth=4, n_estimators=1500 ..............\n",
      "[CV]  learning_rate=0.01, max_depth=4, n_estimators=1500, score=0.467, total=  10.1s\n",
      "[CV] learning_rate=0.01, max_depth=4, n_estimators=1500 ..............\n",
      "[CV]  learning_rate=0.01, max_depth=4, n_estimators=1500, score=0.467, total=  10.2s\n",
      "[CV] learning_rate=0.01, max_depth=4, n_estimators=1500 ..............\n",
      "[CV]  learning_rate=0.01, max_depth=4, n_estimators=1500, score=0.459, total=  10.5s\n",
      "[CV] learning_rate=0.01, max_depth=6, n_estimators=100 ...............\n",
      "[CV]  learning_rate=0.01, max_depth=6, n_estimators=100, score=0.348, total=   1.1s\n",
      "[CV] learning_rate=0.01, max_depth=6, n_estimators=100 ...............\n",
      "[CV]  learning_rate=0.01, max_depth=6, n_estimators=100, score=0.365, total=   1.0s\n",
      "[CV] learning_rate=0.01, max_depth=6, n_estimators=100 ...............\n",
      "[CV]  learning_rate=0.01, max_depth=6, n_estimators=100, score=0.363, total=   1.1s\n",
      "[CV] learning_rate=0.01, max_depth=6, n_estimators=100 ...............\n",
      "[CV]  learning_rate=0.01, max_depth=6, n_estimators=100, score=0.343, total=   1.0s\n",
      "[CV] learning_rate=0.01, max_depth=6, n_estimators=100 ...............\n",
      "[CV]  learning_rate=0.01, max_depth=6, n_estimators=100, score=0.348, total=   1.0s\n",
      "[CV] learning_rate=0.01, max_depth=6, n_estimators=500 ...............\n",
      "[CV]  learning_rate=0.01, max_depth=6, n_estimators=500, score=0.460, total=   4.9s\n",
      "[CV] learning_rate=0.01, max_depth=6, n_estimators=500 ...............\n",
      "[CV]  learning_rate=0.01, max_depth=6, n_estimators=500, score=0.471, total=   4.8s\n",
      "[CV] learning_rate=0.01, max_depth=6, n_estimators=500 ...............\n",
      "[CV]  learning_rate=0.01, max_depth=6, n_estimators=500, score=0.461, total=   4.9s\n",
      "[CV] learning_rate=0.01, max_depth=6, n_estimators=500 ...............\n",
      "[CV]  learning_rate=0.01, max_depth=6, n_estimators=500, score=0.447, total=   4.8s\n",
      "[CV] learning_rate=0.01, max_depth=6, n_estimators=500 ...............\n",
      "[CV]  learning_rate=0.01, max_depth=6, n_estimators=500, score=0.467, total=   4.9s\n",
      "[CV] learning_rate=0.01, max_depth=6, n_estimators=1000 ..............\n",
      "[CV]  learning_rate=0.01, max_depth=6, n_estimators=1000, score=0.473, total=  10.1s\n",
      "[CV] learning_rate=0.01, max_depth=6, n_estimators=1000 ..............\n",
      "[CV]  learning_rate=0.01, max_depth=6, n_estimators=1000, score=0.461, total=  10.1s\n",
      "[CV] learning_rate=0.01, max_depth=6, n_estimators=1000 ..............\n",
      "[CV]  learning_rate=0.01, max_depth=6, n_estimators=1000, score=0.470, total=  10.2s\n",
      "[CV] learning_rate=0.01, max_depth=6, n_estimators=1000 ..............\n",
      "[CV]  learning_rate=0.01, max_depth=6, n_estimators=1000, score=0.453, total=  10.6s\n",
      "[CV] learning_rate=0.01, max_depth=6, n_estimators=1000 ..............\n",
      "[CV]  learning_rate=0.01, max_depth=6, n_estimators=1000, score=0.472, total=  10.5s\n",
      "[CV] learning_rate=0.01, max_depth=6, n_estimators=1500 ..............\n",
      "[CV]  learning_rate=0.01, max_depth=6, n_estimators=1500, score=0.469, total=  15.2s\n",
      "[CV] learning_rate=0.01, max_depth=6, n_estimators=1500 ..............\n",
      "[CV]  learning_rate=0.01, max_depth=6, n_estimators=1500, score=0.452, total=  14.9s\n",
      "[CV] learning_rate=0.01, max_depth=6, n_estimators=1500 ..............\n",
      "[CV]  learning_rate=0.01, max_depth=6, n_estimators=1500, score=0.472, total=  15.6s\n",
      "[CV] learning_rate=0.01, max_depth=6, n_estimators=1500 ..............\n",
      "[CV]  learning_rate=0.01, max_depth=6, n_estimators=1500, score=0.460, total=  15.6s\n",
      "[CV] learning_rate=0.01, max_depth=6, n_estimators=1500 ..............\n",
      "[CV]  learning_rate=0.01, max_depth=6, n_estimators=1500, score=0.471, total=  15.5s\n",
      "[CV] learning_rate=0.01, max_depth=8, n_estimators=100 ...............\n",
      "[CV]  learning_rate=0.01, max_depth=8, n_estimators=100, score=0.368, total=   1.3s\n",
      "[CV] learning_rate=0.01, max_depth=8, n_estimators=100 ...............\n",
      "[CV]  learning_rate=0.01, max_depth=8, n_estimators=100, score=0.387, total=   1.3s\n",
      "[CV] learning_rate=0.01, max_depth=8, n_estimators=100 ...............\n",
      "[CV]  learning_rate=0.01, max_depth=8, n_estimators=100, score=0.376, total=   1.4s\n",
      "[CV] learning_rate=0.01, max_depth=8, n_estimators=100 ...............\n",
      "[CV]  learning_rate=0.01, max_depth=8, n_estimators=100, score=0.370, total=   1.4s\n",
      "[CV] learning_rate=0.01, max_depth=8, n_estimators=100 ...............\n",
      "[CV]  learning_rate=0.01, max_depth=8, n_estimators=100, score=0.365, total=   1.3s\n",
      "[CV] learning_rate=0.01, max_depth=8, n_estimators=500 ...............\n",
      "[CV]  learning_rate=0.01, max_depth=8, n_estimators=500, score=0.450, total=   6.8s\n",
      "[CV] learning_rate=0.01, max_depth=8, n_estimators=500 ...............\n",
      "[CV]  learning_rate=0.01, max_depth=8, n_estimators=500, score=0.468, total=   6.5s\n",
      "[CV] learning_rate=0.01, max_depth=8, n_estimators=500 ...............\n",
      "[CV]  learning_rate=0.01, max_depth=8, n_estimators=500, score=0.442, total=   6.7s\n",
      "[CV] learning_rate=0.01, max_depth=8, n_estimators=500 ...............\n",
      "[CV]  learning_rate=0.01, max_depth=8, n_estimators=500, score=0.421, total=   6.4s\n",
      "[CV] learning_rate=0.01, max_depth=8, n_estimators=500 ...............\n",
      "[CV]  learning_rate=0.01, max_depth=8, n_estimators=500, score=0.468, total=   6.4s\n",
      "[CV] learning_rate=0.01, max_depth=8, n_estimators=1000 ..............\n",
      "[CV]  learning_rate=0.01, max_depth=8, n_estimators=1000, score=0.458, total=  13.3s\n",
      "[CV] learning_rate=0.01, max_depth=8, n_estimators=1000 ..............\n",
      "[CV]  learning_rate=0.01, max_depth=8, n_estimators=1000, score=0.459, total=  13.5s\n",
      "[CV] learning_rate=0.01, max_depth=8, n_estimators=1000 ..............\n",
      "[CV]  learning_rate=0.01, max_depth=8, n_estimators=1000, score=0.445, total=  13.5s\n",
      "[CV] learning_rate=0.01, max_depth=8, n_estimators=1000 ..............\n",
      "[CV]  learning_rate=0.01, max_depth=8, n_estimators=1000, score=0.426, total=  13.5s\n",
      "[CV] learning_rate=0.01, max_depth=8, n_estimators=1000 ..............\n",
      "[CV]  learning_rate=0.01, max_depth=8, n_estimators=1000, score=0.465, total=  13.3s\n",
      "[CV] learning_rate=0.01, max_depth=8, n_estimators=1500 ..............\n",
      "[CV]  learning_rate=0.01, max_depth=8, n_estimators=1500, score=0.456, total=  20.8s\n",
      "[CV] learning_rate=0.01, max_depth=8, n_estimators=1500 ..............\n",
      "[CV]  learning_rate=0.01, max_depth=8, n_estimators=1500, score=0.451, total=  19.7s\n",
      "[CV] learning_rate=0.01, max_depth=8, n_estimators=1500 ..............\n",
      "[CV]  learning_rate=0.01, max_depth=8, n_estimators=1500, score=0.450, total=  20.2s\n",
      "[CV] learning_rate=0.01, max_depth=8, n_estimators=1500 ..............\n",
      "[CV]  learning_rate=0.01, max_depth=8, n_estimators=1500, score=0.421, total=  19.1s\n",
      "[CV] learning_rate=0.01, max_depth=8, n_estimators=1500 ..............\n",
      "[CV]  learning_rate=0.01, max_depth=8, n_estimators=1500, score=0.459, total=  19.1s\n",
      "[CV] learning_rate=0.02, max_depth=4, n_estimators=100 ...............\n",
      "[CV]  learning_rate=0.02, max_depth=4, n_estimators=100, score=0.399, total=   0.7s\n",
      "[CV] learning_rate=0.02, max_depth=4, n_estimators=100 ...............\n",
      "[CV]  learning_rate=0.02, max_depth=4, n_estimators=100, score=0.405, total=   0.7s\n",
      "[CV] learning_rate=0.02, max_depth=4, n_estimators=100 ...............\n",
      "[CV]  learning_rate=0.02, max_depth=4, n_estimators=100, score=0.396, total=   0.8s\n",
      "[CV] learning_rate=0.02, max_depth=4, n_estimators=100 ...............\n",
      "[CV]  learning_rate=0.02, max_depth=4, n_estimators=100, score=0.382, total=   0.7s\n",
      "[CV] learning_rate=0.02, max_depth=4, n_estimators=100 ...............\n",
      "[CV]  learning_rate=0.02, max_depth=4, n_estimators=100, score=0.377, total=   0.7s\n",
      "[CV] learning_rate=0.02, max_depth=4, n_estimators=500 ...............\n",
      "[CV]  learning_rate=0.02, max_depth=4, n_estimators=500, score=0.475, total=   3.7s\n",
      "[CV] learning_rate=0.02, max_depth=4, n_estimators=500 ...............\n",
      "[CV]  learning_rate=0.02, max_depth=4, n_estimators=500, score=0.465, total=   3.5s\n",
      "[CV] learning_rate=0.02, max_depth=4, n_estimators=500 ...............\n",
      "[CV]  learning_rate=0.02, max_depth=4, n_estimators=500, score=0.464, total=   3.6s\n",
      "[CV] learning_rate=0.02, max_depth=4, n_estimators=500 ...............\n",
      "[CV]  learning_rate=0.02, max_depth=4, n_estimators=500, score=0.461, total=   3.5s\n",
      "[CV] learning_rate=0.02, max_depth=4, n_estimators=500 ...............\n",
      "[CV]  learning_rate=0.02, max_depth=4, n_estimators=500, score=0.459, total=   3.6s\n",
      "[CV] learning_rate=0.02, max_depth=4, n_estimators=1000 ..............\n",
      "[CV]  learning_rate=0.02, max_depth=4, n_estimators=1000, score=0.478, total=   7.1s\n",
      "[CV] learning_rate=0.02, max_depth=4, n_estimators=1000 ..............\n",
      "[CV]  learning_rate=0.02, max_depth=4, n_estimators=1000, score=0.455, total=   7.0s\n",
      "[CV] learning_rate=0.02, max_depth=4, n_estimators=1000 ..............\n",
      "[CV]  learning_rate=0.02, max_depth=4, n_estimators=1000, score=0.471, total=   6.7s\n",
      "[CV] learning_rate=0.02, max_depth=4, n_estimators=1000 ..............\n",
      "[CV]  learning_rate=0.02, max_depth=4, n_estimators=1000, score=0.469, total=   7.0s\n",
      "[CV] learning_rate=0.02, max_depth=4, n_estimators=1000 ..............\n",
      "[CV]  learning_rate=0.02, max_depth=4, n_estimators=1000, score=0.461, total=   6.7s\n",
      "[CV] learning_rate=0.02, max_depth=4, n_estimators=1500 ..............\n",
      "[CV]  learning_rate=0.02, max_depth=4, n_estimators=1500, score=0.477, total=   9.9s\n",
      "[CV] learning_rate=0.02, max_depth=4, n_estimators=1500 ..............\n",
      "[CV]  learning_rate=0.02, max_depth=4, n_estimators=1500, score=0.445, total=   9.9s\n",
      "[CV] learning_rate=0.02, max_depth=4, n_estimators=1500 ..............\n",
      "[CV]  learning_rate=0.02, max_depth=4, n_estimators=1500, score=0.468, total=  10.1s\n",
      "[CV] learning_rate=0.02, max_depth=4, n_estimators=1500 ..............\n",
      "[CV]  learning_rate=0.02, max_depth=4, n_estimators=1500, score=0.475, total=  10.7s\n",
      "[CV] learning_rate=0.02, max_depth=4, n_estimators=1500 ..............\n",
      "[CV]  learning_rate=0.02, max_depth=4, n_estimators=1500, score=0.461, total=  10.3s\n",
      "[CV] learning_rate=0.02, max_depth=6, n_estimators=100 ...............\n",
      "[CV]  learning_rate=0.02, max_depth=6, n_estimators=100, score=0.420, total=   0.9s\n",
      "[CV] learning_rate=0.02, max_depth=6, n_estimators=100 ...............\n",
      "[CV]  learning_rate=0.02, max_depth=6, n_estimators=100, score=0.436, total=   1.0s\n",
      "[CV] learning_rate=0.02, max_depth=6, n_estimators=100 ...............\n",
      "[CV]  learning_rate=0.02, max_depth=6, n_estimators=100, score=0.432, total=   0.9s\n",
      "[CV] learning_rate=0.02, max_depth=6, n_estimators=100 ...............\n",
      "[CV]  learning_rate=0.02, max_depth=6, n_estimators=100, score=0.406, total=   0.9s\n",
      "[CV] learning_rate=0.02, max_depth=6, n_estimators=100 ...............\n",
      "[CV]  learning_rate=0.02, max_depth=6, n_estimators=100, score=0.428, total=   0.9s\n",
      "[CV] learning_rate=0.02, max_depth=6, n_estimators=500 ...............\n",
      "[CV]  learning_rate=0.02, max_depth=6, n_estimators=500, score=0.473, total=   4.8s\n",
      "[CV] learning_rate=0.02, max_depth=6, n_estimators=500 ...............\n",
      "[CV]  learning_rate=0.02, max_depth=6, n_estimators=500, score=0.462, total=   4.8s\n",
      "[CV] learning_rate=0.02, max_depth=6, n_estimators=500 ...............\n",
      "[CV]  learning_rate=0.02, max_depth=6, n_estimators=500, score=0.468, total=   5.0s\n",
      "[CV] learning_rate=0.02, max_depth=6, n_estimators=500 ...............\n",
      "[CV]  learning_rate=0.02, max_depth=6, n_estimators=500, score=0.450, total=   4.8s\n",
      "[CV] learning_rate=0.02, max_depth=6, n_estimators=500 ...............\n",
      "[CV]  learning_rate=0.02, max_depth=6, n_estimators=500, score=0.471, total=   5.0s\n",
      "[CV] learning_rate=0.02, max_depth=6, n_estimators=1000 ..............\n",
      "[CV]  learning_rate=0.02, max_depth=6, n_estimators=1000, score=0.472, total=  10.1s\n",
      "[CV] learning_rate=0.02, max_depth=6, n_estimators=1000 ..............\n",
      "[CV]  learning_rate=0.02, max_depth=6, n_estimators=1000, score=0.453, total=   9.9s\n",
      "[CV] learning_rate=0.02, max_depth=6, n_estimators=1000 ..............\n",
      "[CV]  learning_rate=0.02, max_depth=6, n_estimators=1000, score=0.477, total=  10.2s\n",
      "[CV] learning_rate=0.02, max_depth=6, n_estimators=1000 ..............\n",
      "[CV]  learning_rate=0.02, max_depth=6, n_estimators=1000, score=0.456, total=   9.9s\n",
      "[CV] learning_rate=0.02, max_depth=6, n_estimators=1000 ..............\n",
      "[CV]  learning_rate=0.02, max_depth=6, n_estimators=1000, score=0.467, total=   9.8s\n",
      "[CV] learning_rate=0.02, max_depth=6, n_estimators=1500 ..............\n",
      "[CV]  learning_rate=0.02, max_depth=6, n_estimators=1500, score=0.463, total=  14.5s\n",
      "[CV] learning_rate=0.02, max_depth=6, n_estimators=1500 ..............\n",
      "[CV]  learning_rate=0.02, max_depth=6, n_estimators=1500, score=0.442, total=  14.6s\n",
      "[CV] learning_rate=0.02, max_depth=6, n_estimators=1500 ..............\n",
      "[CV]  learning_rate=0.02, max_depth=6, n_estimators=1500, score=0.476, total=  14.6s\n",
      "[CV] learning_rate=0.02, max_depth=6, n_estimators=1500 ..............\n",
      "[CV]  learning_rate=0.02, max_depth=6, n_estimators=1500, score=0.456, total=  14.5s\n",
      "[CV] learning_rate=0.02, max_depth=6, n_estimators=1500 ..............\n",
      "[CV]  learning_rate=0.02, max_depth=6, n_estimators=1500, score=0.460, total=  14.6s\n",
      "[CV] learning_rate=0.02, max_depth=8, n_estimators=100 ...............\n",
      "[CV]  learning_rate=0.02, max_depth=8, n_estimators=100, score=0.431, total=   1.2s\n",
      "[CV] learning_rate=0.02, max_depth=8, n_estimators=100 ...............\n",
      "[CV]  learning_rate=0.02, max_depth=8, n_estimators=100, score=0.450, total=   1.2s\n",
      "[CV] learning_rate=0.02, max_depth=8, n_estimators=100 ...............\n",
      "[CV]  learning_rate=0.02, max_depth=8, n_estimators=100, score=0.428, total=   1.2s\n",
      "[CV] learning_rate=0.02, max_depth=8, n_estimators=100 ...............\n",
      "[CV]  learning_rate=0.02, max_depth=8, n_estimators=100, score=0.414, total=   1.2s\n",
      "[CV] learning_rate=0.02, max_depth=8, n_estimators=100 ...............\n",
      "[CV]  learning_rate=0.02, max_depth=8, n_estimators=100, score=0.437, total=   1.2s\n",
      "[CV] learning_rate=0.02, max_depth=8, n_estimators=500 ...............\n",
      "[CV]  learning_rate=0.02, max_depth=8, n_estimators=500, score=0.461, total=   6.2s\n",
      "[CV] learning_rate=0.02, max_depth=8, n_estimators=500 ...............\n",
      "[CV]  learning_rate=0.02, max_depth=8, n_estimators=500, score=0.457, total=   6.3s\n",
      "[CV] learning_rate=0.02, max_depth=8, n_estimators=500 ...............\n",
      "[CV]  learning_rate=0.02, max_depth=8, n_estimators=500, score=0.433, total=   6.3s\n",
      "[CV] learning_rate=0.02, max_depth=8, n_estimators=500 ...............\n",
      "[CV]  learning_rate=0.02, max_depth=8, n_estimators=500, score=0.433, total=   6.4s\n",
      "[CV] learning_rate=0.02, max_depth=8, n_estimators=500 ...............\n",
      "[CV]  learning_rate=0.02, max_depth=8, n_estimators=500, score=0.458, total=   6.3s\n",
      "[CV] learning_rate=0.02, max_depth=8, n_estimators=1000 ..............\n",
      "[CV]  learning_rate=0.02, max_depth=8, n_estimators=1000, score=0.456, total=  12.6s\n",
      "[CV] learning_rate=0.02, max_depth=8, n_estimators=1000 ..............\n",
      "[CV]  learning_rate=0.02, max_depth=8, n_estimators=1000, score=0.447, total=  12.6s\n",
      "[CV] learning_rate=0.02, max_depth=8, n_estimators=1000 ..............\n",
      "[CV]  learning_rate=0.02, max_depth=8, n_estimators=1000, score=0.433, total=  12.7s\n",
      "[CV] learning_rate=0.02, max_depth=8, n_estimators=1000 ..............\n",
      "[CV]  learning_rate=0.02, max_depth=8, n_estimators=1000, score=0.437, total=  12.6s\n",
      "[CV] learning_rate=0.02, max_depth=8, n_estimators=1000 ..............\n",
      "[CV]  learning_rate=0.02, max_depth=8, n_estimators=1000, score=0.450, total=  12.7s\n",
      "[CV] learning_rate=0.02, max_depth=8, n_estimators=1500 ..............\n",
      "[CV]  learning_rate=0.02, max_depth=8, n_estimators=1500, score=0.449, total=  18.9s\n",
      "[CV] learning_rate=0.02, max_depth=8, n_estimators=1500 ..............\n",
      "[CV]  learning_rate=0.02, max_depth=8, n_estimators=1500, score=0.440, total=  19.0s\n",
      "[CV] learning_rate=0.02, max_depth=8, n_estimators=1500 ..............\n",
      "[CV]  learning_rate=0.02, max_depth=8, n_estimators=1500, score=0.424, total=  19.2s\n",
      "[CV] learning_rate=0.02, max_depth=8, n_estimators=1500 ..............\n",
      "[CV]  learning_rate=0.02, max_depth=8, n_estimators=1500, score=0.436, total=  19.0s\n",
      "[CV] learning_rate=0.02, max_depth=8, n_estimators=1500 ..............\n",
      "[CV]  learning_rate=0.02, max_depth=8, n_estimators=1500, score=0.447, total=  19.0s\n",
      "[CV] learning_rate=0.03, max_depth=4, n_estimators=100 ...............\n",
      "[CV]  learning_rate=0.03, max_depth=4, n_estimators=100, score=0.432, total=   0.7s\n",
      "[CV] learning_rate=0.03, max_depth=4, n_estimators=100 ...............\n",
      "[CV]  learning_rate=0.03, max_depth=4, n_estimators=100, score=0.436, total=   0.7s\n",
      "[CV] learning_rate=0.03, max_depth=4, n_estimators=100 ...............\n",
      "[CV]  learning_rate=0.03, max_depth=4, n_estimators=100, score=0.424, total=   0.7s\n",
      "[CV] learning_rate=0.03, max_depth=4, n_estimators=100 ...............\n",
      "[CV]  learning_rate=0.03, max_depth=4, n_estimators=100, score=0.414, total=   0.7s\n",
      "[CV] learning_rate=0.03, max_depth=4, n_estimators=100 ...............\n",
      "[CV]  learning_rate=0.03, max_depth=4, n_estimators=100, score=0.410, total=   0.7s\n",
      "[CV] learning_rate=0.03, max_depth=4, n_estimators=500 ...............\n",
      "[CV]  learning_rate=0.03, max_depth=4, n_estimators=500, score=0.479, total=   3.4s\n",
      "[CV] learning_rate=0.03, max_depth=4, n_estimators=500 ...............\n",
      "[CV]  learning_rate=0.03, max_depth=4, n_estimators=500, score=0.461, total=   3.3s\n",
      "[CV] learning_rate=0.03, max_depth=4, n_estimators=500 ...............\n",
      "[CV]  learning_rate=0.03, max_depth=4, n_estimators=500, score=0.468, total=   3.3s\n",
      "[CV] learning_rate=0.03, max_depth=4, n_estimators=500 ...............\n",
      "[CV]  learning_rate=0.03, max_depth=4, n_estimators=500, score=0.468, total=   3.3s\n",
      "[CV] learning_rate=0.03, max_depth=4, n_estimators=500 ...............\n",
      "[CV]  learning_rate=0.03, max_depth=4, n_estimators=500, score=0.462, total=   3.3s\n",
      "[CV] learning_rate=0.03, max_depth=4, n_estimators=1000 ..............\n",
      "[CV]  learning_rate=0.03, max_depth=4, n_estimators=1000, score=0.477, total=   6.6s\n",
      "[CV] learning_rate=0.03, max_depth=4, n_estimators=1000 ..............\n",
      "[CV]  learning_rate=0.03, max_depth=4, n_estimators=1000, score=0.445, total=   6.6s\n",
      "[CV] learning_rate=0.03, max_depth=4, n_estimators=1000 ..............\n",
      "[CV]  learning_rate=0.03, max_depth=4, n_estimators=1000, score=0.470, total=   6.6s\n",
      "[CV] learning_rate=0.03, max_depth=4, n_estimators=1000 ..............\n",
      "[CV]  learning_rate=0.03, max_depth=4, n_estimators=1000, score=0.475, total=   6.5s\n",
      "[CV] learning_rate=0.03, max_depth=4, n_estimators=1000 ..............\n",
      "[CV]  learning_rate=0.03, max_depth=4, n_estimators=1000, score=0.459, total=   6.7s\n",
      "[CV] learning_rate=0.03, max_depth=4, n_estimators=1500 ..............\n",
      "[CV]  learning_rate=0.03, max_depth=4, n_estimators=1500, score=0.469, total=   9.9s\n",
      "[CV] learning_rate=0.03, max_depth=4, n_estimators=1500 ..............\n",
      "[CV]  learning_rate=0.03, max_depth=4, n_estimators=1500, score=0.438, total=   9.9s\n",
      "[CV] learning_rate=0.03, max_depth=4, n_estimators=1500 ..............\n",
      "[CV]  learning_rate=0.03, max_depth=4, n_estimators=1500, score=0.465, total=  10.0s\n",
      "[CV] learning_rate=0.03, max_depth=4, n_estimators=1500 ..............\n",
      "[CV]  learning_rate=0.03, max_depth=4, n_estimators=1500, score=0.473, total=   9.9s\n",
      "[CV] learning_rate=0.03, max_depth=4, n_estimators=1500 ..............\n",
      "[CV]  learning_rate=0.03, max_depth=4, n_estimators=1500, score=0.450, total=  10.3s\n",
      "[CV] learning_rate=0.03, max_depth=6, n_estimators=100 ...............\n",
      "[CV]  learning_rate=0.03, max_depth=6, n_estimators=100, score=0.441, total=   1.0s\n",
      "[CV] learning_rate=0.03, max_depth=6, n_estimators=100 ...............\n",
      "[CV]  learning_rate=0.03, max_depth=6, n_estimators=100, score=0.461, total=   1.0s\n",
      "[CV] learning_rate=0.03, max_depth=6, n_estimators=100 ...............\n",
      "[CV]  learning_rate=0.03, max_depth=6, n_estimators=100, score=0.451, total=   1.0s\n",
      "[CV] learning_rate=0.03, max_depth=6, n_estimators=100 ...............\n",
      "[CV]  learning_rate=0.03, max_depth=6, n_estimators=100, score=0.427, total=   1.0s\n",
      "[CV] learning_rate=0.03, max_depth=6, n_estimators=100 ...............\n",
      "[CV]  learning_rate=0.03, max_depth=6, n_estimators=100, score=0.447, total=   1.0s\n",
      "[CV] learning_rate=0.03, max_depth=6, n_estimators=500 ...............\n",
      "[CV]  learning_rate=0.03, max_depth=6, n_estimators=500, score=0.471, total=   5.3s\n",
      "[CV] learning_rate=0.03, max_depth=6, n_estimators=500 ...............\n",
      "[CV]  learning_rate=0.03, max_depth=6, n_estimators=500, score=0.458, total=   4.9s\n",
      "[CV] learning_rate=0.03, max_depth=6, n_estimators=500 ...............\n",
      "[CV]  learning_rate=0.03, max_depth=6, n_estimators=500, score=0.468, total=   4.8s\n",
      "[CV] learning_rate=0.03, max_depth=6, n_estimators=500 ...............\n",
      "[CV]  learning_rate=0.03, max_depth=6, n_estimators=500, score=0.459, total=   4.8s\n",
      "[CV] learning_rate=0.03, max_depth=6, n_estimators=500 ...............\n",
      "[CV]  learning_rate=0.03, max_depth=6, n_estimators=500, score=0.467, total=   4.8s\n",
      "[CV] learning_rate=0.03, max_depth=6, n_estimators=1000 ..............\n",
      "[CV]  learning_rate=0.03, max_depth=6, n_estimators=1000, score=0.468, total=  12.8s\n",
      "[CV] learning_rate=0.03, max_depth=6, n_estimators=1000 ..............\n",
      "[CV]  learning_rate=0.03, max_depth=6, n_estimators=1000, score=0.444, total=  11.8s\n",
      "[CV] learning_rate=0.03, max_depth=6, n_estimators=1000 ..............\n",
      "[CV]  learning_rate=0.03, max_depth=6, n_estimators=1000, score=0.457, total=  11.5s\n",
      "[CV] learning_rate=0.03, max_depth=6, n_estimators=1000 ..............\n",
      "[CV]  learning_rate=0.03, max_depth=6, n_estimators=1000, score=0.456, total=  11.2s\n",
      "[CV] learning_rate=0.03, max_depth=6, n_estimators=1000 ..............\n",
      "[CV]  learning_rate=0.03, max_depth=6, n_estimators=1000, score=0.455, total=  10.8s\n",
      "[CV] learning_rate=0.03, max_depth=6, n_estimators=1500 ..............\n",
      "[CV]  learning_rate=0.03, max_depth=6, n_estimators=1500, score=0.447, total=  15.3s\n",
      "[CV] learning_rate=0.03, max_depth=6, n_estimators=1500 ..............\n",
      "[CV]  learning_rate=0.03, max_depth=6, n_estimators=1500, score=0.434, total=  14.8s\n",
      "[CV] learning_rate=0.03, max_depth=6, n_estimators=1500 ..............\n",
      "[CV]  learning_rate=0.03, max_depth=6, n_estimators=1500, score=0.454, total=  14.8s\n",
      "[CV] learning_rate=0.03, max_depth=6, n_estimators=1500 ..............\n",
      "[CV]  learning_rate=0.03, max_depth=6, n_estimators=1500, score=0.451, total=  14.6s\n",
      "[CV] learning_rate=0.03, max_depth=6, n_estimators=1500 ..............\n",
      "[CV]  learning_rate=0.03, max_depth=6, n_estimators=1500, score=0.453, total=  14.7s\n",
      "[CV] learning_rate=0.03, max_depth=8, n_estimators=100 ...............\n",
      "[CV]  learning_rate=0.03, max_depth=8, n_estimators=100, score=0.448, total=   1.2s\n",
      "[CV] learning_rate=0.03, max_depth=8, n_estimators=100 ...............\n",
      "[CV]  learning_rate=0.03, max_depth=8, n_estimators=100, score=0.461, total=   1.2s\n",
      "[CV] learning_rate=0.03, max_depth=8, n_estimators=100 ...............\n",
      "[CV]  learning_rate=0.03, max_depth=8, n_estimators=100, score=0.437, total=   1.3s\n",
      "[CV] learning_rate=0.03, max_depth=8, n_estimators=100 ...............\n",
      "[CV]  learning_rate=0.03, max_depth=8, n_estimators=100, score=0.420, total=   1.3s\n",
      "[CV] learning_rate=0.03, max_depth=8, n_estimators=100 ...............\n",
      "[CV]  learning_rate=0.03, max_depth=8, n_estimators=100, score=0.460, total=   1.2s\n",
      "[CV] learning_rate=0.03, max_depth=8, n_estimators=500 ...............\n",
      "[CV]  learning_rate=0.03, max_depth=8, n_estimators=500, score=0.465, total=   6.6s\n",
      "[CV] learning_rate=0.03, max_depth=8, n_estimators=500 ...............\n",
      "[CV]  learning_rate=0.03, max_depth=8, n_estimators=500, score=0.440, total=   6.8s\n",
      "[CV] learning_rate=0.03, max_depth=8, n_estimators=500 ...............\n",
      "[CV]  learning_rate=0.03, max_depth=8, n_estimators=500, score=0.440, total=   6.6s\n",
      "[CV] learning_rate=0.03, max_depth=8, n_estimators=500 ...............\n",
      "[CV]  learning_rate=0.03, max_depth=8, n_estimators=500, score=0.434, total=   6.4s\n",
      "[CV] learning_rate=0.03, max_depth=8, n_estimators=500 ...............\n",
      "[CV]  learning_rate=0.03, max_depth=8, n_estimators=500, score=0.459, total=   6.5s\n",
      "[CV] learning_rate=0.03, max_depth=8, n_estimators=1000 ..............\n",
      "[CV]  learning_rate=0.03, max_depth=8, n_estimators=1000, score=0.457, total=  12.8s\n",
      "[CV] learning_rate=0.03, max_depth=8, n_estimators=1000 ..............\n",
      "[CV]  learning_rate=0.03, max_depth=8, n_estimators=1000, score=0.430, total=  12.8s\n",
      "[CV] learning_rate=0.03, max_depth=8, n_estimators=1000 ..............\n",
      "[CV]  learning_rate=0.03, max_depth=8, n_estimators=1000, score=0.434, total=  13.4s\n",
      "[CV] learning_rate=0.03, max_depth=8, n_estimators=1000 ..............\n",
      "[CV]  learning_rate=0.03, max_depth=8, n_estimators=1000, score=0.418, total=  13.7s\n",
      "[CV] learning_rate=0.03, max_depth=8, n_estimators=1000 ..............\n",
      "[CV]  learning_rate=0.03, max_depth=8, n_estimators=1000, score=0.460, total=  14.2s\n",
      "[CV] learning_rate=0.03, max_depth=8, n_estimators=1500 ..............\n",
      "[CV]  learning_rate=0.03, max_depth=8, n_estimators=1500, score=0.455, total=  20.5s\n",
      "[CV] learning_rate=0.03, max_depth=8, n_estimators=1500 ..............\n",
      "[CV]  learning_rate=0.03, max_depth=8, n_estimators=1500, score=0.425, total=  19.3s\n",
      "[CV] learning_rate=0.03, max_depth=8, n_estimators=1500 ..............\n",
      "[CV]  learning_rate=0.03, max_depth=8, n_estimators=1500, score=0.437, total=  19.5s\n",
      "[CV] learning_rate=0.03, max_depth=8, n_estimators=1500 ..............\n",
      "[CV]  learning_rate=0.03, max_depth=8, n_estimators=1500, score=0.422, total=  19.5s\n",
      "[CV] learning_rate=0.03, max_depth=8, n_estimators=1500 ..............\n",
      "[CV]  learning_rate=0.03, max_depth=8, n_estimators=1500, score=0.453, total=  19.3s\n",
      "[CV] learning_rate=0.04, max_depth=4, n_estimators=100 ...............\n",
      "[CV]  learning_rate=0.04, max_depth=4, n_estimators=100, score=0.446, total=   0.7s\n",
      "[CV] learning_rate=0.04, max_depth=4, n_estimators=100 ...............\n",
      "[CV]  learning_rate=0.04, max_depth=4, n_estimators=100, score=0.451, total=   0.7s\n",
      "[CV] learning_rate=0.04, max_depth=4, n_estimators=100 ...............\n",
      "[CV]  learning_rate=0.04, max_depth=4, n_estimators=100, score=0.439, total=   0.7s\n",
      "[CV] learning_rate=0.04, max_depth=4, n_estimators=100 ...............\n",
      "[CV]  learning_rate=0.04, max_depth=4, n_estimators=100, score=0.431, total=   0.7s\n",
      "[CV] learning_rate=0.04, max_depth=4, n_estimators=100 ...............\n",
      "[CV]  learning_rate=0.04, max_depth=4, n_estimators=100, score=0.427, total=   0.7s\n",
      "[CV] learning_rate=0.04, max_depth=4, n_estimators=500 ...............\n",
      "[CV]  learning_rate=0.04, max_depth=4, n_estimators=500, score=0.481, total=   3.3s\n",
      "[CV] learning_rate=0.04, max_depth=4, n_estimators=500 ...............\n",
      "[CV]  learning_rate=0.04, max_depth=4, n_estimators=500, score=0.457, total=   3.4s\n",
      "[CV] learning_rate=0.04, max_depth=4, n_estimators=500 ...............\n",
      "[CV]  learning_rate=0.04, max_depth=4, n_estimators=500, score=0.472, total=   3.3s\n",
      "[CV] learning_rate=0.04, max_depth=4, n_estimators=500 ...............\n",
      "[CV]  learning_rate=0.04, max_depth=4, n_estimators=500, score=0.471, total=   3.3s\n",
      "[CV] learning_rate=0.04, max_depth=4, n_estimators=500 ...............\n",
      "[CV]  learning_rate=0.04, max_depth=4, n_estimators=500, score=0.461, total=   3.4s\n",
      "[CV] learning_rate=0.04, max_depth=4, n_estimators=1000 ..............\n",
      "[CV]  learning_rate=0.04, max_depth=4, n_estimators=1000, score=0.468, total=   6.7s\n",
      "[CV] learning_rate=0.04, max_depth=4, n_estimators=1000 ..............\n",
      "[CV]  learning_rate=0.04, max_depth=4, n_estimators=1000, score=0.438, total=   6.7s\n",
      "[CV] learning_rate=0.04, max_depth=4, n_estimators=1000 ..............\n",
      "[CV]  learning_rate=0.04, max_depth=4, n_estimators=1000, score=0.467, total=   6.7s\n",
      "[CV] learning_rate=0.04, max_depth=4, n_estimators=1000 ..............\n",
      "[CV]  learning_rate=0.04, max_depth=4, n_estimators=1000, score=0.480, total=   6.7s\n",
      "[CV] learning_rate=0.04, max_depth=4, n_estimators=1000 ..............\n",
      "[CV]  learning_rate=0.04, max_depth=4, n_estimators=1000, score=0.454, total=   7.3s\n",
      "[CV] learning_rate=0.04, max_depth=4, n_estimators=1500 ..............\n",
      "[CV]  learning_rate=0.04, max_depth=4, n_estimators=1500, score=0.463, total=  10.4s\n",
      "[CV] learning_rate=0.04, max_depth=4, n_estimators=1500 ..............\n",
      "[CV]  learning_rate=0.04, max_depth=4, n_estimators=1500, score=0.425, total=  10.1s\n",
      "[CV] learning_rate=0.04, max_depth=4, n_estimators=1500 ..............\n",
      "[CV]  learning_rate=0.04, max_depth=4, n_estimators=1500, score=0.461, total=  10.1s\n",
      "[CV] learning_rate=0.04, max_depth=4, n_estimators=1500 ..............\n",
      "[CV]  learning_rate=0.04, max_depth=4, n_estimators=1500, score=0.468, total=  10.0s\n",
      "[CV] learning_rate=0.04, max_depth=4, n_estimators=1500 ..............\n",
      "[CV]  learning_rate=0.04, max_depth=4, n_estimators=1500, score=0.445, total=  10.1s\n",
      "[CV] learning_rate=0.04, max_depth=6, n_estimators=100 ...............\n",
      "[CV]  learning_rate=0.04, max_depth=6, n_estimators=100, score=0.458, total=   1.0s\n",
      "[CV] learning_rate=0.04, max_depth=6, n_estimators=100 ...............\n",
      "[CV]  learning_rate=0.04, max_depth=6, n_estimators=100, score=0.473, total=   1.0s\n",
      "[CV] learning_rate=0.04, max_depth=6, n_estimators=100 ...............\n",
      "[CV]  learning_rate=0.04, max_depth=6, n_estimators=100, score=0.459, total=   1.0s\n",
      "[CV] learning_rate=0.04, max_depth=6, n_estimators=100 ...............\n",
      "[CV]  learning_rate=0.04, max_depth=6, n_estimators=100, score=0.442, total=   1.0s\n",
      "[CV] learning_rate=0.04, max_depth=6, n_estimators=100 ...............\n",
      "[CV]  learning_rate=0.04, max_depth=6, n_estimators=100, score=0.460, total=   1.0s\n",
      "[CV] learning_rate=0.04, max_depth=6, n_estimators=500 ...............\n",
      "[CV]  learning_rate=0.04, max_depth=6, n_estimators=500, score=0.474, total=   4.9s\n",
      "[CV] learning_rate=0.04, max_depth=6, n_estimators=500 ...............\n",
      "[CV]  learning_rate=0.04, max_depth=6, n_estimators=500, score=0.449, total=   4.9s\n",
      "[CV] learning_rate=0.04, max_depth=6, n_estimators=500 ...............\n",
      "[CV]  learning_rate=0.04, max_depth=6, n_estimators=500, score=0.469, total=   5.0s\n",
      "[CV] learning_rate=0.04, max_depth=6, n_estimators=500 ...............\n",
      "[CV]  learning_rate=0.04, max_depth=6, n_estimators=500, score=0.461, total=   5.0s\n",
      "[CV] learning_rate=0.04, max_depth=6, n_estimators=500 ...............\n",
      "[CV]  learning_rate=0.04, max_depth=6, n_estimators=500, score=0.465, total=   4.9s\n",
      "[CV] learning_rate=0.04, max_depth=6, n_estimators=1000 ..............\n",
      "[CV]  learning_rate=0.04, max_depth=6, n_estimators=1000, score=0.454, total=   9.8s\n",
      "[CV] learning_rate=0.04, max_depth=6, n_estimators=1000 ..............\n",
      "[CV]  learning_rate=0.04, max_depth=6, n_estimators=1000, score=0.435, total=   9.8s\n",
      "[CV] learning_rate=0.04, max_depth=6, n_estimators=1000 ..............\n",
      "[CV]  learning_rate=0.04, max_depth=6, n_estimators=1000, score=0.458, total=   9.9s\n",
      "[CV] learning_rate=0.04, max_depth=6, n_estimators=1000 ..............\n",
      "[CV]  learning_rate=0.04, max_depth=6, n_estimators=1000, score=0.459, total=  10.2s\n",
      "[CV] learning_rate=0.04, max_depth=6, n_estimators=1000 ..............\n",
      "[CV]  learning_rate=0.04, max_depth=6, n_estimators=1000, score=0.455, total=   9.8s\n",
      "[CV] learning_rate=0.04, max_depth=6, n_estimators=1500 ..............\n",
      "[CV]  learning_rate=0.04, max_depth=6, n_estimators=1500, score=0.447, total=  14.7s\n",
      "[CV] learning_rate=0.04, max_depth=6, n_estimators=1500 ..............\n",
      "[CV]  learning_rate=0.04, max_depth=6, n_estimators=1500, score=0.425, total=  14.9s\n",
      "[CV] learning_rate=0.04, max_depth=6, n_estimators=1500 ..............\n",
      "[CV]  learning_rate=0.04, max_depth=6, n_estimators=1500, score=0.448, total=  15.4s\n",
      "[CV] learning_rate=0.04, max_depth=6, n_estimators=1500 ..............\n",
      "[CV]  learning_rate=0.04, max_depth=6, n_estimators=1500, score=0.452, total=  14.8s\n",
      "[CV] learning_rate=0.04, max_depth=6, n_estimators=1500 ..............\n",
      "[CV]  learning_rate=0.04, max_depth=6, n_estimators=1500, score=0.450, total=  14.8s\n",
      "[CV] learning_rate=0.04, max_depth=8, n_estimators=100 ...............\n",
      "[CV]  learning_rate=0.04, max_depth=8, n_estimators=100, score=0.453, total=   1.2s\n",
      "[CV] learning_rate=0.04, max_depth=8, n_estimators=100 ...............\n",
      "[CV]  learning_rate=0.04, max_depth=8, n_estimators=100, score=0.458, total=   1.3s\n",
      "[CV] learning_rate=0.04, max_depth=8, n_estimators=100 ...............\n",
      "[CV]  learning_rate=0.04, max_depth=8, n_estimators=100, score=0.443, total=   1.3s\n",
      "[CV] learning_rate=0.04, max_depth=8, n_estimators=100 ...............\n",
      "[CV]  learning_rate=0.04, max_depth=8, n_estimators=100, score=0.427, total=   1.3s\n",
      "[CV] learning_rate=0.04, max_depth=8, n_estimators=100 ...............\n",
      "[CV]  learning_rate=0.04, max_depth=8, n_estimators=100, score=0.454, total=   1.3s\n",
      "[CV] learning_rate=0.04, max_depth=8, n_estimators=500 ...............\n",
      "[CV]  learning_rate=0.04, max_depth=8, n_estimators=500, score=0.456, total=   6.5s\n",
      "[CV] learning_rate=0.04, max_depth=8, n_estimators=500 ...............\n",
      "[CV]  learning_rate=0.04, max_depth=8, n_estimators=500, score=0.445, total=   6.4s\n",
      "[CV] learning_rate=0.04, max_depth=8, n_estimators=500 ...............\n",
      "[CV]  learning_rate=0.04, max_depth=8, n_estimators=500, score=0.442, total=   6.4s\n",
      "[CV] learning_rate=0.04, max_depth=8, n_estimators=500 ...............\n",
      "[CV]  learning_rate=0.04, max_depth=8, n_estimators=500, score=0.431, total=   6.4s\n",
      "[CV] learning_rate=0.04, max_depth=8, n_estimators=500 ...............\n",
      "[CV]  learning_rate=0.04, max_depth=8, n_estimators=500, score=0.452, total=   6.5s\n",
      "[CV] learning_rate=0.04, max_depth=8, n_estimators=1000 ..............\n",
      "[CV]  learning_rate=0.04, max_depth=8, n_estimators=1000, score=0.448, total=  13.4s\n",
      "[CV] learning_rate=0.04, max_depth=8, n_estimators=1000 ..............\n",
      "[CV]  learning_rate=0.04, max_depth=8, n_estimators=1000, score=0.434, total=  12.8s\n",
      "[CV] learning_rate=0.04, max_depth=8, n_estimators=1000 ..............\n",
      "[CV]  learning_rate=0.04, max_depth=8, n_estimators=1000, score=0.439, total=  12.9s\n",
      "[CV] learning_rate=0.04, max_depth=8, n_estimators=1000 ..............\n",
      "[CV]  learning_rate=0.04, max_depth=8, n_estimators=1000, score=0.429, total=  13.8s\n",
      "[CV] learning_rate=0.04, max_depth=8, n_estimators=1000 ..............\n",
      "[CV]  learning_rate=0.04, max_depth=8, n_estimators=1000, score=0.449, total=  12.8s\n",
      "[CV] learning_rate=0.04, max_depth=8, n_estimators=1500 ..............\n",
      "[CV]  learning_rate=0.04, max_depth=8, n_estimators=1500, score=0.448, total=  20.6s\n",
      "[CV] learning_rate=0.04, max_depth=8, n_estimators=1500 ..............\n",
      "[CV]  learning_rate=0.04, max_depth=8, n_estimators=1500, score=0.430, total=  19.4s\n",
      "[CV] learning_rate=0.04, max_depth=8, n_estimators=1500 ..............\n",
      "[CV]  learning_rate=0.04, max_depth=8, n_estimators=1500, score=0.439, total=  19.7s\n",
      "[CV] learning_rate=0.04, max_depth=8, n_estimators=1500 ..............\n",
      "[CV]  learning_rate=0.04, max_depth=8, n_estimators=1500, score=0.424, total=  19.4s\n",
      "[CV] learning_rate=0.04, max_depth=8, n_estimators=1500 ..............\n",
      "[CV]  learning_rate=0.04, max_depth=8, n_estimators=1500, score=0.451, total=  19.6s\n"
     ]
    },
    {
     "name": "stderr",
     "output_type": "stream",
     "text": [
      "[Parallel(n_jobs=1)]: Done 240 out of 240 | elapsed: 30.9min finished\n"
     ]
    },
    {
     "data": {
      "text/plain": [
       "GridSearchCV(estimator=GradientBoostingRegressor(),\n",
       "             param_grid={'learning_rate': [0.01, 0.02, 0.03, 0.04],\n",
       "                         'max_depth': [4, 6, 8],\n",
       "                         'n_estimators': [100, 500, 1000, 1500]},\n",
       "             verbose=3)"
      ]
     },
     "execution_count": 71,
     "metadata": {},
     "output_type": "execute_result"
    }
   ],
   "source": [
    "grad_grid_search.fit(X_train, y_train)"
   ]
  },
  {
   "cell_type": "code",
   "execution_count": 72,
   "metadata": {},
   "outputs": [
    {
     "name": "stdout",
     "output_type": "stream",
     "text": [
      "{'learning_rate': 0.04, 'max_depth': 4, 'n_estimators': 500}\n",
      "GradientBoostingRegressor(learning_rate=0.04, max_depth=4, n_estimators=500)\n"
     ]
    }
   ],
   "source": [
    "# print best parameter after tuning\n",
    "print(grad_grid_search.best_params_)\n",
    " \n",
    "# print how our model looks after hyper-parameter tuning\n",
    "print(grad_grid_search.best_estimator_)"
   ]
  },
  {
   "cell_type": "code",
   "execution_count": 79,
   "metadata": {},
   "outputs": [
    {
     "data": {
      "text/plain": [
       "0.5137149842185154"
      ]
     },
     "execution_count": 79,
     "metadata": {},
     "output_type": "execute_result"
    }
   ],
   "source": [
    "X_test = X_test.drop(columns = 'const')\n",
    "grad_grid_search.score(X_test, y_test)"
   ]
  },
  {
   "cell_type": "markdown",
   "metadata": {},
   "source": [
    "# 6 Model Evaluation"
   ]
  },
  {
   "cell_type": "markdown",
   "metadata": {},
   "source": [
    "## 6.1 Ridge"
   ]
  },
  {
   "cell_type": "code",
   "execution_count": 59,
   "metadata": {},
   "outputs": [
    {
     "name": "stdout",
     "output_type": "stream",
     "text": [
      "1156.3583155539002\n",
      "27.45250144599973\n"
     ]
    }
   ],
   "source": [
    "rg_pred_Y1 = rg_reg.predict(X_test)\n",
    "print(mean_squared_error(y_test, rg_pred_Y1))\n",
    "print(mean_absolute_error(y_test, rg_pred_Y1))"
   ]
  },
  {
   "cell_type": "markdown",
   "metadata": {},
   "source": [
    "As for ridge, the mean squared error of ridge regression is 1156.358, which mean the average squared distance between the true price and predicted price is 1156.358. As for the mean absolute error, it says the average distance between the true price and predicted price is 27.452. "
   ]
  },
  {
   "cell_type": "code",
   "execution_count": 60,
   "metadata": {},
   "outputs": [
    {
     "name": "stdout",
     "output_type": "stream",
     "text": [
      "1003.2329405669346\n",
      "24.991369816616444\n"
     ]
    }
   ],
   "source": [
    "rg_pred_Y2 = ridge_best.predict(X_test)\n",
    "print(mean_squared_error(y_test, rg_pred_Y2))\n",
    "print(mean_absolute_error(y_test, rg_pred_Y2))"
   ]
  },
  {
   "cell_type": "markdown",
   "metadata": {},
   "source": [
    "As for ridge_best, the mean squared error of ridge regression is 1003.233, which mean the average squared distance between the true price and predicted price is 1003.233. As for the mean absolute error, it says the average distance between the true price and predicted price is 24.991. "
   ]
  },
  {
   "cell_type": "markdown",
   "metadata": {},
   "source": [
    "Next I plot the predicted price distribution with RidgeCV since this model has better R^2 than Ridge."
   ]
  },
  {
   "cell_type": "code",
   "execution_count": 61,
   "metadata": {},
   "outputs": [
    {
     "data": {
      "image/png": "[encoded data removed]",
      "text/plain": [
       "<Figure size 360x360 with 1 Axes>"
      ]
     },
     "metadata": {},
     "output_type": "display_data"
    },
    {
     "data": {
      "image/png": "[encoded data removed]",
      "text/plain": [
       "<Figure size 360x360 with 1 Axes>"
      ]
     },
     "metadata": {},
     "output_type": "display_data"
    }
   ],
   "source": [
    "Title = 'Distribution  Plot of  Predicted Value Using Training Data vs Training Data Distribution'\n",
    "sns.set()\n",
    "#ax.displot(y_test,kind=\"kde\",color = 'y')\n",
    "sns.displot(y_test,kind=\"kde\",color = 'y')\n",
    "plt.title('Distribution  Plot of  True Value')\n",
    "#ax.displot(rg_pred_Y,kind=\"kde\",color = 'b')\n",
    "sns.displot(rg_pred_Y1,kind=\"kde\",color = 'b')\n",
    "plt.title('Distribution  Plot of  Predicted Value')\n",
    "plt.show()\n"
   ]
  },
  {
   "cell_type": "markdown",
   "metadata": {},
   "source": [
    "From the plots we see that the distribution of true price and predicted price have a big difference, especially in terms of the shape, and this echoes with the low R^2 and high MSE. The true y value has a longer right tail while the distribution of predicted values is more like a normal distribution."
   ]
  },
  {
   "cell_type": "markdown",
   "metadata": {},
   "source": [
    "## 6.2 Lasso"
   ]
  },
  {
   "cell_type": "code",
   "execution_count": 62,
   "metadata": {},
   "outputs": [
    {
     "name": "stdout",
     "output_type": "stream",
     "text": [
      "1202.552463842935\n",
      "27.85830225190317\n"
     ]
    }
   ],
   "source": [
    "ls_pred_Y1 = ls_reg.predict(X_test)\n",
    "print(mean_squared_error(y_test, ls_pred_Y1))\n",
    "print(mean_absolute_error(y_test, ls_pred_Y1))"
   ]
  },
  {
   "cell_type": "markdown",
   "metadata": {},
   "source": [
    "As for ls_reg, the mean squared error of lasso regression is 1202.552, which mean the average squared distance between the true price and predicted price is 1202.552. As for the mean absolute error, it says the average distance between the true price and predicted price is 27.858."
   ]
  },
  {
   "cell_type": "code",
   "execution_count": 63,
   "metadata": {},
   "outputs": [
    {
     "name": "stdout",
     "output_type": "stream",
     "text": [
      "1251.2820629989392\n",
      "28.600962405073112\n"
     ]
    }
   ],
   "source": [
    "ls_pred_Y2 = lasso_best.predict(X_test)\n",
    "print(mean_squared_error(y_test, ls_pred_Y2))\n",
    "print(mean_absolute_error(y_test, ls_pred_Y2))"
   ]
  },
  {
   "cell_type": "markdown",
   "metadata": {},
   "source": [
    "As for lassoCV, the mean squared error of lasso regression is 1251.282, which mean the average squared distance between the true price and predicted price is 1251.282. As for the mean absolute error, it says the average distance between the true price and predicted price is 28.601."
   ]
  },
  {
   "cell_type": "code",
   "execution_count": 64,
   "metadata": {},
   "outputs": [
    {
     "data": {
      "image/png": "[encoded data removed]",
      "text/plain": [
       "<Figure size 360x360 with 1 Axes>"
      ]
     },
     "metadata": {},
     "output_type": "display_data"
    },
    {
     "data": {
      "image/png": "[encoded data removed]",
      "text/plain": [
       "<Figure size 360x360 with 1 Axes>"
      ]
     },
     "metadata": {},
     "output_type": "display_data"
    }
   ],
   "source": [
    "Title = 'Distribution  Plot of  Predicted Value Using Training Data vs Training Data Distribution'\n",
    "sns.set()\n",
    "sns.displot(y_test,kind=\"kde\",color = 'y')\n",
    "plt.title('Distribution  Plot of  True Value')\n",
    "sns.displot(ls_pred_Y1,kind=\"kde\",color = 'b')\n",
    "plt.title('Distribution  Plot of  Predicted Value')\n",
    "plt.show()"
   ]
  },
  {
   "cell_type": "markdown",
   "metadata": {},
   "source": [
    "In terms of lasso regression, the distribution of true price and predicted price also have a big difference in terms of the shape, and this echoes with the low R^2 and high MSE."
   ]
  },
  {
   "cell_type": "markdown",
   "metadata": {},
   "source": [
    "## 6.3 OLS"
   ]
  },
  {
   "cell_type": "code",
   "execution_count": 65,
   "metadata": {},
   "outputs": [
    {
     "name": "stdout",
     "output_type": "stream",
     "text": [
      "1008.4111467340542\n",
      "24.940318522514502\n"
     ]
    }
   ],
   "source": [
    "lg_pred_Y = lg_reg.predict(X_test)\n",
    "print(mean_squared_error(y_test, lg_pred_Y))\n",
    "print(mean_absolute_error(y_test,lg_pred_Y))"
   ]
  },
  {
   "cell_type": "markdown",
   "metadata": {},
   "source": [
    "The calculated mean absolute error of OLS is 24.94 and mean squared error is 1008.411, which is pretty large. From these results we know that the model performs not well in prediction, which echoes the relatively low R^2. "
   ]
  },
  {
   "cell_type": "code",
   "execution_count": 66,
   "metadata": {},
   "outputs": [
    {
     "data": {
      "image/png": "[encoded data removed]",
      "text/plain": [
       "<Figure size 360x360 with 1 Axes>"
      ]
     },
     "metadata": {},
     "output_type": "display_data"
    },
    {
     "data": {
      "image/png": "[encoded data removed]",
      "text/plain": [
       "<Figure size 360x360 with 1 Axes>"
      ]
     },
     "metadata": {},
     "output_type": "display_data"
    }
   ],
   "source": [
    "Title = 'Distribution  Plot of  Predicted Value Using Training Data vs Training Data Distribution'\n",
    "sns.set()\n",
    "sns.displot(y_test,kind=\"kde\",color = 'y')\n",
    "plt.title('Distribution  Plot of  True Value')\n",
    "sns.displot(lg_pred_Y,kind=\"kde\",color = 'b')\n",
    "plt.title('Distribution  Plot of  Predicted Value')\n",
    "plt.show()"
   ]
  },
  {
   "cell_type": "markdown",
   "metadata": {},
   "source": [
    "In terms of OLS, the distribution of true price and predicted price are similar in shape. Both of them are like normal distribution, however, the crests are different. In the true price, the most frequent value is roughly 60, while in predicted price, the most frequent value is roughly 100. \n"
   ]
  },
  {
   "cell_type": "code",
   "execution_count": 67,
   "metadata": {},
   "outputs": [
    {
     "data": {
      "text/html": [
       "<table class=\"simpletable\">\n",
       "<caption>OLS Regression Results</caption>\n",
       "<tr>\n",
       "  <th>Dep. Variable:</th>            <td>y</td>        <th>  R-squared:         </th> <td>   0.513</td> \n",
       "</tr>\n",
       "<tr>\n",
       "  <th>Model:</th>                   <td>OLS</td>       <th>  Adj. R-squared:    </th> <td>   0.461</td> \n",
       "</tr>\n",
       "<tr>\n",
       "  <th>Method:</th>             <td>Least Squares</td>  <th>  F-statistic:       </th> <td>   9.957</td> \n",
       "</tr>\n",
       "<tr>\n",
       "  <th>Date:</th>             <td>Sun, 29 May 2022</td> <th>  Prob (F-statistic):</th> <td>3.34e-113</td>\n",
       "</tr>\n",
       "<tr>\n",
       "  <th>Time:</th>                 <td>21:24:24</td>     <th>  Log-Likelihood:    </th> <td> -6134.9</td> \n",
       "</tr>\n",
       "<tr>\n",
       "  <th>No. Observations:</th>      <td>  1277</td>      <th>  AIC:               </th> <td>1.252e+04</td>\n",
       "</tr>\n",
       "<tr>\n",
       "  <th>Df Residuals:</th>          <td>  1154</td>      <th>  BIC:               </th> <td>1.315e+04</td>\n",
       "</tr>\n",
       "<tr>\n",
       "  <th>Df Model:</th>              <td>   122</td>      <th>                     </th>     <td> </td>    \n",
       "</tr>\n",
       "<tr>\n",
       "  <th>Covariance Type:</th>      <td>nonrobust</td>    <th>                     </th>     <td> </td>    \n",
       "</tr>\n",
       "</table>\n",
       "<table class=\"simpletable\">\n",
       "<tr>\n",
       "                 <td></td>                   <th>coef</th>     <th>std err</th>      <th>t</th>      <th>P>|t|</th>  <th>[0.025</th>    <th>0.975]</th>  \n",
       "</tr>\n",
       "<tr>\n",
       "  <th>const</th>                          <td>   81.8288</td> <td>    6.391</td> <td>   12.803</td> <td> 0.000</td> <td>   69.289</td> <td>   94.369</td>\n",
       "</tr>\n",
       "<tr>\n",
       "  <th>latitude</th>                       <td>   21.5589</td> <td>    9.603</td> <td>    2.245</td> <td> 0.025</td> <td>    2.717</td> <td>   40.400</td>\n",
       "</tr>\n",
       "<tr>\n",
       "  <th>longitude</th>                      <td>   17.0390</td> <td>    4.339</td> <td>    3.927</td> <td> 0.000</td> <td>    8.526</td> <td>   25.552</td>\n",
       "</tr>\n",
       "<tr>\n",
       "  <th>minimum_nights</th>                 <td>   -0.5871</td> <td>    0.963</td> <td>   -0.609</td> <td> 0.542</td> <td>   -2.477</td> <td>    1.303</td>\n",
       "</tr>\n",
       "<tr>\n",
       "  <th>number_of_reviews</th>              <td>   -6.6913</td> <td>    1.164</td> <td>   -5.749</td> <td> 0.000</td> <td>   -8.975</td> <td>   -4.408</td>\n",
       "</tr>\n",
       "<tr>\n",
       "  <th>calculated_host_listings_count</th> <td>    0.2015</td> <td>    1.033</td> <td>    0.195</td> <td> 0.845</td> <td>   -1.825</td> <td>    2.228</td>\n",
       "</tr>\n",
       "<tr>\n",
       "  <th>availability_365</th>               <td>    4.8534</td> <td>    0.937</td> <td>    5.178</td> <td> 0.000</td> <td>    3.014</td> <td>    6.692</td>\n",
       "</tr>\n",
       "<tr>\n",
       "  <th>index</th>                          <td>   -0.0056</td> <td>    0.001</td> <td>   -6.048</td> <td> 0.000</td> <td>   -0.007</td> <td>   -0.004</td>\n",
       "</tr>\n",
       "<tr>\n",
       "  <th>loc_Albany Park</th>                <td>  -29.6605</td> <td>   18.426</td> <td>   -1.610</td> <td> 0.108</td> <td>  -65.812</td> <td>    6.491</td>\n",
       "</tr>\n",
       "<tr>\n",
       "  <th>loc_Archer Heights</th>             <td>   36.7486</td> <td>   23.661</td> <td>    1.553</td> <td> 0.121</td> <td>   -9.675</td> <td>   83.172</td>\n",
       "</tr>\n",
       "<tr>\n",
       "  <th>loc_Armour Square</th>              <td>   -0.2597</td> <td>    9.466</td> <td>   -0.027</td> <td> 0.978</td> <td>  -18.832</td> <td>   18.313</td>\n",
       "</tr>\n",
       "<tr>\n",
       "  <th>loc_Ashburn</th>                    <td>   53.0382</td> <td>   36.145</td> <td>    1.467</td> <td> 0.143</td> <td>  -17.880</td> <td>  123.956</td>\n",
       "</tr>\n",
       "<tr>\n",
       "  <th>loc_Auburn Gresham</th>             <td>   38.3731</td> <td>   26.706</td> <td>    1.437</td> <td> 0.151</td> <td>  -14.025</td> <td>   90.771</td>\n",
       "</tr>\n",
       "<tr>\n",
       "  <th>loc_Austin</th>                     <td>    8.4044</td> <td>   12.371</td> <td>    0.679</td> <td> 0.497</td> <td>  -15.868</td> <td>   32.676</td>\n",
       "</tr>\n",
       "<tr>\n",
       "  <th>loc_Avalon Park</th>                <td> 6.905e-14</td> <td> 6.23e-14</td> <td>    1.109</td> <td> 0.268</td> <td>-5.31e-14</td> <td> 1.91e-13</td>\n",
       "</tr>\n",
       "<tr>\n",
       "  <th>loc_Avondale</th>                   <td>  -11.1570</td> <td>   13.799</td> <td>   -0.809</td> <td> 0.419</td> <td>  -38.231</td> <td>   15.917</td>\n",
       "</tr>\n",
       "<tr>\n",
       "  <th>loc_Belmont Cragin</th>             <td>   25.0240</td> <td>   22.219</td> <td>    1.126</td> <td> 0.260</td> <td>  -18.570</td> <td>   68.618</td>\n",
       "</tr>\n",
       "<tr>\n",
       "  <th>loc_Beverly</th>                    <td>   30.6091</td> <td>   37.955</td> <td>    0.806</td> <td> 0.420</td> <td>  -43.859</td> <td>  105.077</td>\n",
       "</tr>\n",
       "<tr>\n",
       "  <th>loc_Bridgeport</th>                 <td>   -2.9624</td> <td>    9.184</td> <td>   -0.323</td> <td> 0.747</td> <td>  -20.981</td> <td>   15.056</td>\n",
       "</tr>\n",
       "<tr>\n",
       "  <th>loc_Brighton Park</th>              <td>    4.0174</td> <td>   12.577</td> <td>    0.319</td> <td> 0.749</td> <td>  -20.658</td> <td>   28.693</td>\n",
       "</tr>\n",
       "<tr>\n",
       "  <th>loc_Burnside</th>                   <td>-1.254e-13</td> <td> 1.83e-13</td> <td>   -0.684</td> <td> 0.494</td> <td>-4.85e-13</td> <td> 2.34e-13</td>\n",
       "</tr>\n",
       "<tr>\n",
       "  <th>loc_Calumet Heights</th>            <td>    3.4784</td> <td>   23.748</td> <td>    0.146</td> <td> 0.884</td> <td>  -43.116</td> <td>   50.073</td>\n",
       "</tr>\n",
       "<tr>\n",
       "  <th>loc_Chatham</th>                    <td>  -31.1056</td> <td>   24.344</td> <td>   -1.278</td> <td> 0.202</td> <td>  -78.869</td> <td>   16.658</td>\n",
       "</tr>\n",
       "<tr>\n",
       "  <th>loc_Chicago Lawn</th>               <td>   10.0992</td> <td>   21.534</td> <td>    0.469</td> <td> 0.639</td> <td>  -32.152</td> <td>   52.350</td>\n",
       "</tr>\n",
       "<tr>\n",
       "  <th>loc_Clearing</th>                   <td>   39.4682</td> <td>   26.545</td> <td>    1.487</td> <td> 0.137</td> <td>  -12.614</td> <td>   91.551</td>\n",
       "</tr>\n",
       "<tr>\n",
       "  <th>loc_Douglas</th>                    <td>    3.8904</td> <td>   10.772</td> <td>    0.361</td> <td> 0.718</td> <td>  -17.244</td> <td>   25.024</td>\n",
       "</tr>\n",
       "<tr>\n",
       "  <th>loc_Dunning</th>                    <td>   -4.3420</td> <td>   20.135</td> <td>   -0.216</td> <td> 0.829</td> <td>  -43.847</td> <td>   35.163</td>\n",
       "</tr>\n",
       "<tr>\n",
       "  <th>loc_East Garfield Park</th>         <td>    3.4910</td> <td>    7.969</td> <td>    0.438</td> <td> 0.661</td> <td>  -12.144</td> <td>   19.126</td>\n",
       "</tr>\n",
       "<tr>\n",
       "  <th>loc_East Side</th>                  <td>  -31.2302</td> <td>   38.067</td> <td>   -0.820</td> <td> 0.412</td> <td> -105.918</td> <td>   43.458</td>\n",
       "</tr>\n",
       "<tr>\n",
       "  <th>loc_Edgewater</th>                  <td>  -34.2152</td> <td>   20.911</td> <td>   -1.636</td> <td> 0.102</td> <td>  -75.244</td> <td>    6.814</td>\n",
       "</tr>\n",
       "<tr>\n",
       "  <th>loc_Edison Park</th>                <td>   28.1536</td> <td>   39.978</td> <td>    0.704</td> <td> 0.481</td> <td>  -50.283</td> <td>  106.590</td>\n",
       "</tr>\n",
       "<tr>\n",
       "  <th>loc_Englewood</th>                  <td>   -3.9834</td> <td>   20.669</td> <td>   -0.193</td> <td> 0.847</td> <td>  -44.536</td> <td>   36.569</td>\n",
       "</tr>\n",
       "<tr>\n",
       "  <th>loc_Forest Glen</th>                <td>  -24.1766</td> <td>   28.021</td> <td>   -0.863</td> <td> 0.388</td> <td>  -79.153</td> <td>   30.800</td>\n",
       "</tr>\n",
       "<tr>\n",
       "  <th>loc_Fuller Park</th>                <td>   -9.1502</td> <td>   23.629</td> <td>   -0.387</td> <td> 0.699</td> <td>  -55.510</td> <td>   37.210</td>\n",
       "</tr>\n",
       "<tr>\n",
       "  <th>loc_Gage Park</th>                  <td>   42.1902</td> <td>   33.096</td> <td>    1.275</td> <td> 0.203</td> <td>  -22.745</td> <td>  107.125</td>\n",
       "</tr>\n",
       "<tr>\n",
       "  <th>loc_Garfield Ridge</th>             <td>   39.0931</td> <td>   22.365</td> <td>    1.748</td> <td> 0.081</td> <td>   -4.787</td> <td>   82.973</td>\n",
       "</tr>\n",
       "<tr>\n",
       "  <th>loc_Grand Boulevard</th>            <td>  -11.9051</td> <td>   10.232</td> <td>   -1.164</td> <td> 0.245</td> <td>  -31.980</td> <td>    8.169</td>\n",
       "</tr>\n",
       "<tr>\n",
       "  <th>loc_Greater Grand Crossing</th>     <td>    2.4181</td> <td>   18.502</td> <td>    0.131</td> <td> 0.896</td> <td>  -33.884</td> <td>   38.720</td>\n",
       "</tr>\n",
       "<tr>\n",
       "  <th>loc_Hegewisch</th>                  <td>    5.2759</td> <td>   37.489</td> <td>    0.141</td> <td> 0.888</td> <td>  -68.279</td> <td>   78.831</td>\n",
       "</tr>\n",
       "<tr>\n",
       "  <th>loc_Hermosa</th>                    <td>  -23.3555</td> <td>   18.045</td> <td>   -1.294</td> <td> 0.196</td> <td>  -58.761</td> <td>   12.050</td>\n",
       "</tr>\n",
       "<tr>\n",
       "  <th>loc_Humboldt Park</th>              <td>    6.8852</td> <td>   10.838</td> <td>    0.635</td> <td> 0.525</td> <td>  -14.379</td> <td>   28.150</td>\n",
       "</tr>\n",
       "<tr>\n",
       "  <th>loc_Hyde Park</th>                  <td>   -7.0382</td> <td>   12.955</td> <td>   -0.543</td> <td> 0.587</td> <td>  -32.456</td> <td>   18.379</td>\n",
       "</tr>\n",
       "<tr>\n",
       "  <th>loc_Irving Park</th>                <td>   -6.1392</td> <td>   16.139</td> <td>   -0.380</td> <td> 0.704</td> <td>  -37.803</td> <td>   25.525</td>\n",
       "</tr>\n",
       "<tr>\n",
       "  <th>loc_Jefferson Park</th>             <td>   -6.3215</td> <td>   21.071</td> <td>   -0.300</td> <td> 0.764</td> <td>  -47.663</td> <td>   35.020</td>\n",
       "</tr>\n",
       "<tr>\n",
       "  <th>loc_Kenwood</th>                    <td>    9.2596</td> <td>   14.222</td> <td>    0.651</td> <td> 0.515</td> <td>  -18.644</td> <td>   37.163</td>\n",
       "</tr>\n",
       "<tr>\n",
       "  <th>loc_Lake View</th>                  <td>  -16.4366</td> <td>   15.047</td> <td>   -1.092</td> <td> 0.275</td> <td>  -45.960</td> <td>   13.087</td>\n",
       "</tr>\n",
       "<tr>\n",
       "  <th>loc_Lincoln Park</th>               <td>   -6.2895</td> <td>   12.827</td> <td>   -0.490</td> <td> 0.624</td> <td>  -31.457</td> <td>   18.878</td>\n",
       "</tr>\n",
       "<tr>\n",
       "  <th>loc_Lincoln Square</th>             <td>  -44.5919</td> <td>   19.165</td> <td>   -2.327</td> <td> 0.020</td> <td>  -82.194</td> <td>   -6.990</td>\n",
       "</tr>\n",
       "<tr>\n",
       "  <th>loc_Logan Square</th>               <td>    5.5052</td> <td>   10.931</td> <td>    0.504</td> <td> 0.615</td> <td>  -15.942</td> <td>   26.953</td>\n",
       "</tr>\n",
       "<tr>\n",
       "  <th>loc_Loop</th>                       <td>   11.6374</td> <td>    9.778</td> <td>    1.190</td> <td> 0.234</td> <td>   -7.547</td> <td>   30.822</td>\n",
       "</tr>\n",
       "<tr>\n",
       "  <th>loc_Lower West Side</th>            <td>   -3.2440</td> <td>    5.217</td> <td>   -0.622</td> <td> 0.534</td> <td>  -13.480</td> <td>    6.992</td>\n",
       "</tr>\n",
       "<tr>\n",
       "  <th>loc_Mckinley Park</th>              <td>  -11.3588</td> <td>   16.053</td> <td>   -0.708</td> <td> 0.479</td> <td>  -42.855</td> <td>   20.137</td>\n",
       "</tr>\n",
       "<tr>\n",
       "  <th>loc_Montclare</th>                  <td>   39.2220</td> <td>   26.452</td> <td>    1.483</td> <td> 0.138</td> <td>  -12.678</td> <td>   91.122</td>\n",
       "</tr>\n",
       "<tr>\n",
       "  <th>loc_Morgan Park</th>                <td> -6.98e-14</td> <td> 4.44e-14</td> <td>   -1.570</td> <td> 0.117</td> <td>-1.57e-13</td> <td> 1.74e-14</td>\n",
       "</tr>\n",
       "<tr>\n",
       "  <th>loc_Mount Greenwood</th>            <td>-3.603e-14</td> <td> 3.75e-14</td> <td>   -0.960</td> <td> 0.337</td> <td> -1.1e-13</td> <td> 3.76e-14</td>\n",
       "</tr>\n",
       "<tr>\n",
       "  <th>loc_Near North Side</th>            <td>   -0.6434</td> <td>   10.164</td> <td>   -0.063</td> <td> 0.950</td> <td>  -20.584</td> <td>   19.298</td>\n",
       "</tr>\n",
       "<tr>\n",
       "  <th>loc_Near South Side</th>            <td>    7.4302</td> <td>    8.473</td> <td>    0.877</td> <td> 0.381</td> <td>   -9.194</td> <td>   24.054</td>\n",
       "</tr>\n",
       "<tr>\n",
       "  <th>loc_Near West Side</th>             <td>    3.0327</td> <td>    6.710</td> <td>    0.452</td> <td> 0.651</td> <td>  -10.132</td> <td>   16.197</td>\n",
       "</tr>\n",
       "<tr>\n",
       "  <th>loc_New City</th>                   <td>  -16.3829</td> <td>   15.503</td> <td>   -1.057</td> <td> 0.291</td> <td>  -46.799</td> <td>   14.034</td>\n",
       "</tr>\n",
       "<tr>\n",
       "  <th>loc_North Center</th>               <td>   -7.4346</td> <td>   15.878</td> <td>   -0.468</td> <td> 0.640</td> <td>  -38.588</td> <td>   23.719</td>\n",
       "</tr>\n",
       "<tr>\n",
       "  <th>loc_North Lawndale</th>             <td>   -7.7301</td> <td>   10.385</td> <td>   -0.744</td> <td> 0.457</td> <td>  -28.105</td> <td>   12.645</td>\n",
       "</tr>\n",
       "<tr>\n",
       "  <th>loc_North Park</th>                 <td>  -41.6957</td> <td>   23.608</td> <td>   -1.766</td> <td> 0.078</td> <td>  -88.016</td> <td>    4.624</td>\n",
       "</tr>\n",
       "<tr>\n",
       "  <th>loc_Norwood Park</th>               <td>   -4.4105</td> <td>   23.122</td> <td>   -0.191</td> <td> 0.849</td> <td>  -49.777</td> <td>   40.956</td>\n",
       "</tr>\n",
       "<tr>\n",
       "  <th>loc_Oakland</th>                    <td>  -22.9827</td> <td>   17.425</td> <td>   -1.319</td> <td> 0.187</td> <td>  -57.171</td> <td>   11.205</td>\n",
       "</tr>\n",
       "<tr>\n",
       "  <th>loc_Ohare</th>                      <td>   27.6415</td> <td>   28.974</td> <td>    0.954</td> <td> 0.340</td> <td>  -29.206</td> <td>   84.489</td>\n",
       "</tr>\n",
       "<tr>\n",
       "  <th>loc_Portage Park</th>               <td>   -5.1996</td> <td>   17.614</td> <td>   -0.295</td> <td> 0.768</td> <td>  -39.759</td> <td>   29.360</td>\n",
       "</tr>\n",
       "<tr>\n",
       "  <th>loc_Pullman</th>                    <td>   47.4571</td> <td>   39.386</td> <td>    1.205</td> <td> 0.228</td> <td>  -29.820</td> <td>  124.734</td>\n",
       "</tr>\n",
       "<tr>\n",
       "  <th>loc_Riverdale</th>                  <td>-2.048e-14</td> <td> 3.52e-14</td> <td>   -0.582</td> <td> 0.561</td> <td>-8.95e-14</td> <td> 4.86e-14</td>\n",
       "</tr>\n",
       "<tr>\n",
       "  <th>loc_Rogers Park</th>                <td>  -48.6040</td> <td>   23.733</td> <td>   -2.048</td> <td> 0.041</td> <td>  -95.169</td> <td>   -2.039</td>\n",
       "</tr>\n",
       "<tr>\n",
       "  <th>loc_Roseland</th>                   <td>   45.0041</td> <td>   28.158</td> <td>    1.598</td> <td> 0.110</td> <td>  -10.242</td> <td>  100.250</td>\n",
       "</tr>\n",
       "<tr>\n",
       "  <th>loc_South Chicago</th>              <td>  -20.2108</td> <td>   22.723</td> <td>   -0.889</td> <td> 0.374</td> <td>  -64.794</td> <td>   24.372</td>\n",
       "</tr>\n",
       "<tr>\n",
       "  <th>loc_South Deering</th>              <td>  -15.3115</td> <td>   37.474</td> <td>   -0.409</td> <td> 0.683</td> <td>  -88.837</td> <td>   58.214</td>\n",
       "</tr>\n",
       "<tr>\n",
       "  <th>loc_South Lawndale</th>             <td>  -10.4523</td> <td>    9.037</td> <td>   -1.157</td> <td> 0.248</td> <td>  -28.184</td> <td>    7.279</td>\n",
       "</tr>\n",
       "<tr>\n",
       "  <th>loc_South Shore</th>                <td>  -29.1327</td> <td>   16.466</td> <td>   -1.769</td> <td> 0.077</td> <td>  -61.439</td> <td>    3.174</td>\n",
       "</tr>\n",
       "<tr>\n",
       "  <th>loc_Uptown</th>                     <td>  -31.5661</td> <td>   17.956</td> <td>   -1.758</td> <td> 0.079</td> <td>  -66.795</td> <td>    3.663</td>\n",
       "</tr>\n",
       "<tr>\n",
       "  <th>loc_Washington Heights</th>         <td>   74.6442</td> <td>   37.399</td> <td>    1.996</td> <td> 0.046</td> <td>    1.266</td> <td>  148.023</td>\n",
       "</tr>\n",
       "<tr>\n",
       "  <th>loc_Washington Park</th>            <td>   30.5135</td> <td>   17.093</td> <td>    1.785</td> <td> 0.074</td> <td>   -3.023</td> <td>   64.050</td>\n",
       "</tr>\n",
       "<tr>\n",
       "  <th>loc_West Elsdon</th>                <td>-1.692e-14</td> <td> 3.02e-14</td> <td>   -0.560</td> <td> 0.576</td> <td>-7.62e-14</td> <td> 4.24e-14</td>\n",
       "</tr>\n",
       "<tr>\n",
       "  <th>loc_West Englewood</th>             <td>   14.7022</td> <td>   25.766</td> <td>    0.571</td> <td> 0.568</td> <td>  -35.851</td> <td>   65.256</td>\n",
       "</tr>\n",
       "<tr>\n",
       "  <th>loc_West Garfield Park</th>         <td>    4.1748</td> <td>   16.622</td> <td>    0.251</td> <td> 0.802</td> <td>  -28.438</td> <td>   36.787</td>\n",
       "</tr>\n",
       "<tr>\n",
       "  <th>loc_West Lawn</th>                  <td>   22.8711</td> <td>   22.837</td> <td>    1.001</td> <td> 0.317</td> <td>  -21.936</td> <td>   67.678</td>\n",
       "</tr>\n",
       "<tr>\n",
       "  <th>loc_West Pullman</th>               <td> 8.479e-16</td> <td> 2.89e-14</td> <td>    0.029</td> <td> 0.977</td> <td>-5.59e-14</td> <td> 5.76e-14</td>\n",
       "</tr>\n",
       "<tr>\n",
       "  <th>loc_West Ridge</th>                 <td>  -52.8394</td> <td>   23.846</td> <td>   -2.216</td> <td> 0.027</td> <td>  -99.625</td> <td>   -6.053</td>\n",
       "</tr>\n",
       "<tr>\n",
       "  <th>loc_West Town</th>                  <td>    9.4250</td> <td>    7.926</td> <td>    1.189</td> <td> 0.235</td> <td>   -6.126</td> <td>   24.976</td>\n",
       "</tr>\n",
       "<tr>\n",
       "  <th>loc_Woodlawn</th>                   <td>  -17.8305</td> <td>   13.808</td> <td>   -1.291</td> <td> 0.197</td> <td>  -44.922</td> <td>    9.261</td>\n",
       "</tr>\n",
       "<tr>\n",
       "  <th>room_Entire home/apt</th>           <td>   47.8877</td> <td>    3.285</td> <td>   14.579</td> <td> 0.000</td> <td>   41.443</td> <td>   54.332</td>\n",
       "</tr>\n",
       "<tr>\n",
       "  <th>room_Hotel room</th>                <td>   54.6918</td> <td>    8.291</td> <td>    6.597</td> <td> 0.000</td> <td>   38.425</td> <td>   70.958</td>\n",
       "</tr>\n",
       "<tr>\n",
       "  <th>room_Private room</th>              <td>    4.8729</td> <td>    3.261</td> <td>    1.494</td> <td> 0.135</td> <td>   -1.526</td> <td>   11.271</td>\n",
       "</tr>\n",
       "<tr>\n",
       "  <th>room_Shared room</th>               <td>  -25.6236</td> <td>    6.214</td> <td>   -4.124</td> <td> 0.000</td> <td>  -37.816</td> <td>  -13.432</td>\n",
       "</tr>\n",
       "<tr>\n",
       "  <th>2br</th>                            <td>   -4.3300</td> <td>    5.303</td> <td>   -0.817</td> <td> 0.414</td> <td>  -14.734</td> <td>    6.075</td>\n",
       "</tr>\n",
       "<tr>\n",
       "  <th>apartment</th>                      <td>   -0.1658</td> <td>    3.157</td> <td>   -0.053</td> <td> 0.958</td> <td>   -6.359</td> <td>    6.028</td>\n",
       "</tr>\n",
       "<tr>\n",
       "  <th>apt</th>                            <td>   -3.9342</td> <td>    3.729</td> <td>   -1.055</td> <td> 0.292</td> <td>  -11.250</td> <td>    3.381</td>\n",
       "</tr>\n",
       "<tr>\n",
       "  <th>bath</th>                           <td>    8.9660</td> <td>    5.594</td> <td>    1.603</td> <td> 0.109</td> <td>   -2.009</td> <td>   19.941</td>\n",
       "</tr>\n",
       "<tr>\n",
       "  <th>beautiful</th>                      <td>    1.0834</td> <td>    5.203</td> <td>    0.208</td> <td> 0.835</td> <td>   -9.125</td> <td>   11.292</td>\n",
       "</tr>\n",
       "<tr>\n",
       "  <th>bed</th>                            <td>    6.1757</td> <td>    5.368</td> <td>    1.151</td> <td> 0.250</td> <td>   -4.355</td> <td>   16.707</td>\n",
       "</tr>\n",
       "<tr>\n",
       "  <th>bedroom</th>                        <td>   -3.9073</td> <td>    3.129</td> <td>   -1.249</td> <td> 0.212</td> <td>  -10.046</td> <td>    2.232</td>\n",
       "</tr>\n",
       "<tr>\n",
       "  <th>charming</th>                       <td>   -6.8794</td> <td>    7.005</td> <td>   -0.982</td> <td> 0.326</td> <td>  -20.624</td> <td>    6.865</td>\n",
       "</tr>\n",
       "<tr>\n",
       "  <th>chicago</th>                        <td>   -2.8533</td> <td>    2.992</td> <td>   -0.954</td> <td> 0.340</td> <td>   -8.723</td> <td>    3.017</td>\n",
       "</tr>\n",
       "<tr>\n",
       "  <th>clean</th>                          <td>  -11.2525</td> <td>    5.450</td> <td>   -2.065</td> <td> 0.039</td> <td>  -21.946</td> <td>   -0.559</td>\n",
       "</tr>\n",
       "<tr>\n",
       "  <th>close</th>                          <td>   -3.5490</td> <td>    5.470</td> <td>   -0.649</td> <td> 0.517</td> <td>  -14.281</td> <td>    7.183</td>\n",
       "</tr>\n",
       "<tr>\n",
       "  <th>condo</th>                          <td>   12.6194</td> <td>    4.677</td> <td>    2.698</td> <td> 0.007</td> <td>    3.443</td> <td>   21.796</td>\n",
       "</tr>\n",
       "<tr>\n",
       "  <th>cozy</th>                           <td>   -8.4143</td> <td>    3.325</td> <td>   -2.531</td> <td> 0.012</td> <td>  -14.938</td> <td>   -1.890</td>\n",
       "</tr>\n",
       "<tr>\n",
       "  <th>downtown</th>                       <td>   -6.4348</td> <td>    4.183</td> <td>   -1.538</td> <td> 0.124</td> <td>  -14.641</td> <td>    1.771</td>\n",
       "</tr>\n",
       "<tr>\n",
       "  <th>for</th>                            <td>  -13.9494</td> <td>    6.118</td> <td>   -2.280</td> <td> 0.023</td> <td>  -25.952</td> <td>   -1.946</td>\n",
       "</tr>\n",
       "<tr>\n",
       "  <th>free</th>                           <td>   -6.1770</td> <td>    6.035</td> <td>   -1.024</td> <td> 0.306</td> <td>  -18.018</td> <td>    5.664</td>\n",
       "</tr>\n",
       "<tr>\n",
       "  <th>garden</th>                         <td>   -8.8931</td> <td>    4.337</td> <td>   -2.050</td> <td> 0.041</td> <td>  -17.403</td> <td>   -0.383</td>\n",
       "</tr>\n",
       "<tr>\n",
       "  <th>great</th>                          <td>   -8.4298</td> <td>    5.391</td> <td>   -1.564</td> <td> 0.118</td> <td>  -19.007</td> <td>    2.148</td>\n",
       "</tr>\n",
       "<tr>\n",
       "  <th>heart</th>                          <td>    3.7268</td> <td>    5.260</td> <td>    0.709</td> <td> 0.479</td> <td>   -6.593</td> <td>   14.046</td>\n",
       "</tr>\n",
       "<tr>\n",
       "  <th>home</th>                           <td>   12.3654</td> <td>    3.411</td> <td>    3.625</td> <td> 0.000</td> <td>    5.673</td> <td>   19.058</td>\n",
       "</tr>\n",
       "<tr>\n",
       "  <th>house</th>                          <td>    1.5192</td> <td>    4.902</td> <td>    0.310</td> <td> 0.757</td> <td>   -8.098</td> <td>   11.136</td>\n",
       "</tr>\n",
       "<tr>\n",
       "  <th>in</th>                             <td>   -5.3508</td> <td>    2.247</td> <td>   -2.381</td> <td> 0.017</td> <td>   -9.760</td> <td>   -0.942</td>\n",
       "</tr>\n",
       "<tr>\n",
       "  <th>lakeview</th>                       <td>    8.9337</td> <td>    6.659</td> <td>    1.342</td> <td> 0.180</td> <td>   -4.131</td> <td>   21.998</td>\n",
       "</tr>\n",
       "<tr>\n",
       "  <th>lincoln</th>                        <td>   11.2631</td> <td>    7.249</td> <td>    1.554</td> <td> 0.121</td> <td>   -2.960</td> <td>   25.487</td>\n",
       "</tr>\n",
       "<tr>\n",
       "  <th>location</th>                       <td>  -10.5865</td> <td>    4.989</td> <td>   -2.122</td> <td> 0.034</td> <td>  -20.374</td> <td>   -0.799</td>\n",
       "</tr>\n",
       "<tr>\n",
       "  <th>loft</th>                           <td>    8.4582</td> <td>    5.631</td> <td>    1.502</td> <td> 0.133</td> <td>   -2.590</td> <td>   19.506</td>\n",
       "</tr>\n",
       "<tr>\n",
       "  <th>logan</th>                          <td>   -7.2917</td> <td>    8.192</td> <td>   -0.890</td> <td> 0.374</td> <td>  -23.366</td> <td>    8.782</td>\n",
       "</tr>\n",
       "<tr>\n",
       "  <th>modern</th>                         <td>    9.1875</td> <td>    4.470</td> <td>    2.055</td> <td> 0.040</td> <td>    0.417</td> <td>   17.958</td>\n",
       "</tr>\n",
       "<tr>\n",
       "  <th>near</th>                           <td>   -1.3594</td> <td>    3.559</td> <td>   -0.382</td> <td> 0.703</td> <td>   -8.342</td> <td>    5.623</td>\n",
       "</tr>\n",
       "<tr>\n",
       "  <th>park</th>                           <td>   -6.0339</td> <td>    3.967</td> <td>   -1.521</td> <td> 0.129</td> <td>  -13.817</td> <td>    1.750</td>\n",
       "</tr>\n",
       "<tr>\n",
       "  <th>parking</th>                        <td>    0.4763</td> <td>    5.066</td> <td>    0.094</td> <td> 0.925</td> <td>   -9.463</td> <td>   10.416</td>\n",
       "</tr>\n",
       "<tr>\n",
       "  <th>place</th>                          <td>    0.5201</td> <td>    5.104</td> <td>    0.102</td> <td> 0.919</td> <td>   -9.494</td> <td>   10.535</td>\n",
       "</tr>\n",
       "<tr>\n",
       "  <th>private</th>                        <td>   -4.8887</td> <td>    2.919</td> <td>   -1.675</td> <td> 0.094</td> <td>  -10.616</td> <td>    0.838</td>\n",
       "</tr>\n",
       "<tr>\n",
       "  <th>room</th>                           <td>   -1.9813</td> <td>    3.230</td> <td>   -0.613</td> <td> 0.540</td> <td>   -8.319</td> <td>    4.356</td>\n",
       "</tr>\n",
       "<tr>\n",
       "  <th>spacious</th>                       <td>   -4.2724</td> <td>    4.032</td> <td>   -1.060</td> <td> 0.290</td> <td>  -12.183</td> <td>    3.639</td>\n",
       "</tr>\n",
       "<tr>\n",
       "  <th>square</th>                         <td>    3.8435</td> <td>    7.532</td> <td>    0.510</td> <td> 0.610</td> <td>  -10.935</td> <td>   18.622</td>\n",
       "</tr>\n",
       "<tr>\n",
       "  <th>studio</th>                         <td>  -18.9228</td> <td>    4.300</td> <td>   -4.400</td> <td> 0.000</td> <td>  -27.360</td> <td>  -10.486</td>\n",
       "</tr>\n",
       "<tr>\n",
       "  <th>suite</th>                          <td>    5.5993</td> <td>    5.333</td> <td>    1.050</td> <td> 0.294</td> <td>   -4.865</td> <td>   16.063</td>\n",
       "</tr>\n",
       "<tr>\n",
       "  <th>village</th>                        <td>   -1.8283</td> <td>    7.255</td> <td>   -0.252</td> <td> 0.801</td> <td>  -16.062</td> <td>   12.405</td>\n",
       "</tr>\n",
       "<tr>\n",
       "  <th>walk</th>                           <td>   -6.5378</td> <td>    5.809</td> <td>   -1.125</td> <td> 0.261</td> <td>  -17.935</td> <td>    4.860</td>\n",
       "</tr>\n",
       "<tr>\n",
       "  <th>west</th>                           <td>    4.0515</td> <td>    6.382</td> <td>    0.635</td> <td> 0.526</td> <td>   -8.471</td> <td>   16.574</td>\n",
       "</tr>\n",
       "<tr>\n",
       "  <th>wicker</th>                         <td>   -2.5230</td> <td>    6.738</td> <td>   -0.374</td> <td> 0.708</td> <td>  -15.743</td> <td>   10.697</td>\n",
       "</tr>\n",
       "<tr>\n",
       "  <th>wrigley</th>                        <td>    0.3811</td> <td>    5.621</td> <td>    0.068</td> <td> 0.946</td> <td>  -10.648</td> <td>   11.410</td>\n",
       "</tr>\n",
       "</table>\n",
       "<table class=\"simpletable\">\n",
       "<tr>\n",
       "  <th>Omnibus:</th>       <td>79.216</td> <th>  Durbin-Watson:     </th> <td>   2.098</td>\n",
       "</tr>\n",
       "<tr>\n",
       "  <th>Prob(Omnibus):</th> <td> 0.000</td> <th>  Jarque-Bera (JB):  </th> <td>  96.710</td>\n",
       "</tr>\n",
       "<tr>\n",
       "  <th>Skew:</th>          <td> 0.593</td> <th>  Prob(JB):          </th> <td>9.99e-22</td>\n",
       "</tr>\n",
       "<tr>\n",
       "  <th>Kurtosis:</th>      <td> 3.642</td> <th>  Cond. No.          </th> <td>1.39e+18</td>\n",
       "</tr>\n",
       "</table><br/><br/>Notes:<br/>[1] Standard Errors assume that the covariance matrix of the errors is correctly specified.<br/>[2] The smallest eigenvalue is 3.91e-27. This might indicate that there are<br/>strong multicollinearity problems or that the design matrix is singular."
      ],
      "text/plain": [
       "<class 'statsmodels.iolib.summary.Summary'>\n",
       "\"\"\"\n",
       "                            OLS Regression Results                            \n",
       "==============================================================================\n",
       "Dep. Variable:                      y   R-squared:                       0.513\n",
       "Model:                            OLS   Adj. R-squared:                  0.461\n",
       "Method:                 Least Squares   F-statistic:                     9.957\n",
       "Date:                Sun, 29 May 2022   Prob (F-statistic):          3.34e-113\n",
       "Time:                        21:24:24   Log-Likelihood:                -6134.9\n",
       "No. Observations:                1277   AIC:                         1.252e+04\n",
       "Df Residuals:                    1154   BIC:                         1.315e+04\n",
       "Df Model:                         122                                         \n",
       "Covariance Type:            nonrobust                                         \n",
       "==================================================================================================\n",
       "                                     coef    std err          t      P>|t|      [0.025      0.975]\n",
       "--------------------------------------------------------------------------------------------------\n",
       "const                             81.8288      6.391     12.803      0.000      69.289      94.369\n",
       "latitude                          21.5589      9.603      2.245      0.025       2.717      40.400\n",
       "longitude                         17.0390      4.339      3.927      0.000       8.526      25.552\n",
       "minimum_nights                    -0.5871      0.963     -0.609      0.542      -2.477       1.303\n",
       "number_of_reviews                 -6.6913      1.164     -5.749      0.000      -8.975      -4.408\n",
       "calculated_host_listings_count     0.2015      1.033      0.195      0.845      -1.825       2.228\n",
       "availability_365                   4.8534      0.937      5.178      0.000       3.014       6.692\n",
       "index                             -0.0056      0.001     -6.048      0.000      -0.007      -0.004\n",
       "loc_Albany Park                  -29.6605     18.426     -1.610      0.108     -65.812       6.491\n",
       "loc_Archer Heights                36.7486     23.661      1.553      0.121      -9.675      83.172\n",
       "loc_Armour Square                 -0.2597      9.466     -0.027      0.978     -18.832      18.313\n",
       "loc_Ashburn                       53.0382     36.145      1.467      0.143     -17.880     123.956\n",
       "loc_Auburn Gresham                38.3731     26.706      1.437      0.151     -14.025      90.771\n",
       "loc_Austin                         8.4044     12.371      0.679      0.497     -15.868      32.676\n",
       "loc_Avalon Park                 6.905e-14   6.23e-14      1.109      0.268   -5.31e-14    1.91e-13\n",
       "loc_Avondale                     -11.1570     13.799     -0.809      0.419     -38.231      15.917\n",
       "loc_Belmont Cragin                25.0240     22.219      1.126      0.260     -18.570      68.618\n",
       "loc_Beverly                       30.6091     37.955      0.806      0.420     -43.859     105.077\n",
       "loc_Bridgeport                    -2.9624      9.184     -0.323      0.747     -20.981      15.056\n",
       "loc_Brighton Park                  4.0174     12.577      0.319      0.749     -20.658      28.693\n",
       "loc_Burnside                   -1.254e-13   1.83e-13     -0.684      0.494   -4.85e-13    2.34e-13\n",
       "loc_Calumet Heights                3.4784     23.748      0.146      0.884     -43.116      50.073\n",
       "loc_Chatham                      -31.1056     24.344     -1.278      0.202     -78.869      16.658\n",
       "loc_Chicago Lawn                  10.0992     21.534      0.469      0.639     -32.152      52.350\n",
       "loc_Clearing                      39.4682     26.545      1.487      0.137     -12.614      91.551\n",
       "loc_Douglas                        3.8904     10.772      0.361      0.718     -17.244      25.024\n",
       "loc_Dunning                       -4.3420     20.135     -0.216      0.829     -43.847      35.163\n",
       "loc_East Garfield Park             3.4910      7.969      0.438      0.661     -12.144      19.126\n",
       "loc_East Side                    -31.2302     38.067     -0.820      0.412    -105.918      43.458\n",
       "loc_Edgewater                    -34.2152     20.911     -1.636      0.102     -75.244       6.814\n",
       "loc_Edison Park                   28.1536     39.978      0.704      0.481     -50.283     106.590\n",
       "loc_Englewood                     -3.9834     20.669     -0.193      0.847     -44.536      36.569\n",
       "loc_Forest Glen                  -24.1766     28.021     -0.863      0.388     -79.153      30.800\n",
       "loc_Fuller Park                   -9.1502     23.629     -0.387      0.699     -55.510      37.210\n",
       "loc_Gage Park                     42.1902     33.096      1.275      0.203     -22.745     107.125\n",
       "loc_Garfield Ridge                39.0931     22.365      1.748      0.081      -4.787      82.973\n",
       "loc_Grand Boulevard              -11.9051     10.232     -1.164      0.245     -31.980       8.169\n",
       "loc_Greater Grand Crossing         2.4181     18.502      0.131      0.896     -33.884      38.720\n",
       "loc_Hegewisch                      5.2759     37.489      0.141      0.888     -68.279      78.831\n",
       "loc_Hermosa                      -23.3555     18.045     -1.294      0.196     -58.761      12.050\n",
       "loc_Humboldt Park                  6.8852     10.838      0.635      0.525     -14.379      28.150\n",
       "loc_Hyde Park                     -7.0382     12.955     -0.543      0.587     -32.456      18.379\n",
       "loc_Irving Park                   -6.1392     16.139     -0.380      0.704     -37.803      25.525\n",
       "loc_Jefferson Park                -6.3215     21.071     -0.300      0.764     -47.663      35.020\n",
       "loc_Kenwood                        9.2596     14.222      0.651      0.515     -18.644      37.163\n",
       "loc_Lake View                    -16.4366     15.047     -1.092      0.275     -45.960      13.087\n",
       "loc_Lincoln Park                  -6.2895     12.827     -0.490      0.624     -31.457      18.878\n",
       "loc_Lincoln Square               -44.5919     19.165     -2.327      0.020     -82.194      -6.990\n",
       "loc_Logan Square                   5.5052     10.931      0.504      0.615     -15.942      26.953\n",
       "loc_Loop                          11.6374      9.778      1.190      0.234      -7.547      30.822\n",
       "loc_Lower West Side               -3.2440      5.217     -0.622      0.534     -13.480       6.992\n",
       "loc_Mckinley Park                -11.3588     16.053     -0.708      0.479     -42.855      20.137\n",
       "loc_Montclare                     39.2220     26.452      1.483      0.138     -12.678      91.122\n",
       "loc_Morgan Park                 -6.98e-14   4.44e-14     -1.570      0.117   -1.57e-13    1.74e-14\n",
       "loc_Mount Greenwood            -3.603e-14   3.75e-14     -0.960      0.337    -1.1e-13    3.76e-14\n",
       "loc_Near North Side               -0.6434     10.164     -0.063      0.950     -20.584      19.298\n",
       "loc_Near South Side                7.4302      8.473      0.877      0.381      -9.194      24.054\n",
       "loc_Near West Side                 3.0327      6.710      0.452      0.651     -10.132      16.197\n",
       "loc_New City                     -16.3829     15.503     -1.057      0.291     -46.799      14.034\n",
       "loc_North Center                  -7.4346     15.878     -0.468      0.640     -38.588      23.719\n",
       "loc_North Lawndale                -7.7301     10.385     -0.744      0.457     -28.105      12.645\n",
       "loc_North Park                   -41.6957     23.608     -1.766      0.078     -88.016       4.624\n",
       "loc_Norwood Park                  -4.4105     23.122     -0.191      0.849     -49.777      40.956\n",
       "loc_Oakland                      -22.9827     17.425     -1.319      0.187     -57.171      11.205\n",
       "loc_Ohare                         27.6415     28.974      0.954      0.340     -29.206      84.489\n",
       "loc_Portage Park                  -5.1996     17.614     -0.295      0.768     -39.759      29.360\n",
       "loc_Pullman                       47.4571     39.386      1.205      0.228     -29.820     124.734\n",
       "loc_Riverdale                  -2.048e-14   3.52e-14     -0.582      0.561   -8.95e-14    4.86e-14\n",
       "loc_Rogers Park                  -48.6040     23.733     -2.048      0.041     -95.169      -2.039\n",
       "loc_Roseland                      45.0041     28.158      1.598      0.110     -10.242     100.250\n",
       "loc_South Chicago                -20.2108     22.723     -0.889      0.374     -64.794      24.372\n",
       "loc_South Deering                -15.3115     37.474     -0.409      0.683     -88.837      58.214\n",
       "loc_South Lawndale               -10.4523      9.037     -1.157      0.248     -28.184       7.279\n",
       "loc_South Shore                  -29.1327     16.466     -1.769      0.077     -61.439       3.174\n",
       "loc_Uptown                       -31.5661     17.956     -1.758      0.079     -66.795       3.663\n",
       "loc_Washington Heights            74.6442     37.399      1.996      0.046       1.266     148.023\n",
       "loc_Washington Park               30.5135     17.093      1.785      0.074      -3.023      64.050\n",
       "loc_West Elsdon                -1.692e-14   3.02e-14     -0.560      0.576   -7.62e-14    4.24e-14\n",
       "loc_West Englewood                14.7022     25.766      0.571      0.568     -35.851      65.256\n",
       "loc_West Garfield Park             4.1748     16.622      0.251      0.802     -28.438      36.787\n",
       "loc_West Lawn                     22.8711     22.837      1.001      0.317     -21.936      67.678\n",
       "loc_West Pullman                8.479e-16   2.89e-14      0.029      0.977   -5.59e-14    5.76e-14\n",
       "loc_West Ridge                   -52.8394     23.846     -2.216      0.027     -99.625      -6.053\n",
       "loc_West Town                      9.4250      7.926      1.189      0.235      -6.126      24.976\n",
       "loc_Woodlawn                     -17.8305     13.808     -1.291      0.197     -44.922       9.261\n",
       "room_Entire home/apt              47.8877      3.285     14.579      0.000      41.443      54.332\n",
       "room_Hotel room                   54.6918      8.291      6.597      0.000      38.425      70.958\n",
       "room_Private room                  4.8729      3.261      1.494      0.135      -1.526      11.271\n",
       "room_Shared room                 -25.6236      6.214     -4.124      0.000     -37.816     -13.432\n",
       "2br                               -4.3300      5.303     -0.817      0.414     -14.734       6.075\n",
       "apartment                         -0.1658      3.157     -0.053      0.958      -6.359       6.028\n",
       "apt                               -3.9342      3.729     -1.055      0.292     -11.250       3.381\n",
       "bath                               8.9660      5.594      1.603      0.109      -2.009      19.941\n",
       "beautiful                          1.0834      5.203      0.208      0.835      -9.125      11.292\n",
       "bed                                6.1757      5.368      1.151      0.250      -4.355      16.707\n",
       "bedroom                           -3.9073      3.129     -1.249      0.212     -10.046       2.232\n",
       "charming                          -6.8794      7.005     -0.982      0.326     -20.624       6.865\n",
       "chicago                           -2.8533      2.992     -0.954      0.340      -8.723       3.017\n",
       "clean                            -11.2525      5.450     -2.065      0.039     -21.946      -0.559\n",
       "close                             -3.5490      5.470     -0.649      0.517     -14.281       7.183\n",
       "condo                             12.6194      4.677      2.698      0.007       3.443      21.796\n",
       "cozy                              -8.4143      3.325     -2.531      0.012     -14.938      -1.890\n",
       "downtown                          -6.4348      4.183     -1.538      0.124     -14.641       1.771\n",
       "for                              -13.9494      6.118     -2.280      0.023     -25.952      -1.946\n",
       "free                              -6.1770      6.035     -1.024      0.306     -18.018       5.664\n",
       "garden                            -8.8931      4.337     -2.050      0.041     -17.403      -0.383\n",
       "great                             -8.4298      5.391     -1.564      0.118     -19.007       2.148\n",
       "heart                              3.7268      5.260      0.709      0.479      -6.593      14.046\n",
       "home                              12.3654      3.411      3.625      0.000       5.673      19.058\n",
       "house                              1.5192      4.902      0.310      0.757      -8.098      11.136\n",
       "in                                -5.3508      2.247     -2.381      0.017      -9.760      -0.942\n",
       "lakeview                           8.9337      6.659      1.342      0.180      -4.131      21.998\n",
       "lincoln                           11.2631      7.249      1.554      0.121      -2.960      25.487\n",
       "location                         -10.5865      4.989     -2.122      0.034     -20.374      -0.799\n",
       "loft                               8.4582      5.631      1.502      0.133      -2.590      19.506\n",
       "logan                             -7.2917      8.192     -0.890      0.374     -23.366       8.782\n",
       "modern                             9.1875      4.470      2.055      0.040       0.417      17.958\n",
       "near                              -1.3594      3.559     -0.382      0.703      -8.342       5.623\n",
       "park                              -6.0339      3.967     -1.521      0.129     -13.817       1.750\n",
       "parking                            0.4763      5.066      0.094      0.925      -9.463      10.416\n",
       "place                              0.5201      5.104      0.102      0.919      -9.494      10.535\n",
       "private                           -4.8887      2.919     -1.675      0.094     -10.616       0.838\n",
       "room                              -1.9813      3.230     -0.613      0.540      -8.319       4.356\n",
       "spacious                          -4.2724      4.032     -1.060      0.290     -12.183       3.639\n",
       "square                             3.8435      7.532      0.510      0.610     -10.935      18.622\n",
       "studio                           -18.9228      4.300     -4.400      0.000     -27.360     -10.486\n",
       "suite                              5.5993      5.333      1.050      0.294      -4.865      16.063\n",
       "village                           -1.8283      7.255     -0.252      0.801     -16.062      12.405\n",
       "walk                              -6.5378      5.809     -1.125      0.261     -17.935       4.860\n",
       "west                               4.0515      6.382      0.635      0.526      -8.471      16.574\n",
       "wicker                            -2.5230      6.738     -0.374      0.708     -15.743      10.697\n",
       "wrigley                            0.3811      5.621      0.068      0.946     -10.648      11.410\n",
       "==============================================================================\n",
       "Omnibus:                       79.216   Durbin-Watson:                   2.098\n",
       "Prob(Omnibus):                  0.000   Jarque-Bera (JB):               96.710\n",
       "Skew:                           0.593   Prob(JB):                     9.99e-22\n",
       "Kurtosis:                       3.642   Cond. No.                     1.39e+18\n",
       "==============================================================================\n",
       "\n",
       "Notes:\n",
       "[1] Standard Errors assume that the covariance matrix of the errors is correctly specified.\n",
       "[2] The smallest eigenvalue is 3.91e-27. This might indicate that there are\n",
       "strong multicollinearity problems or that the design matrix is singular.\n",
       "\"\"\""
      ]
     },
     "execution_count": 67,
     "metadata": {},
     "output_type": "execute_result"
    }
   ],
   "source": [
    "import statsmodels.api as sm\n",
    "from scipy import stats\n",
    "X_test = sm.add_constant(X_test)\n",
    "y_test_1 = y_test.values.ravel()\n",
    "model = sm.OLS(y_test_1,X_test)\n",
    "fitted_model = model.fit()\n",
    "fitted_model.summary()"
   ]
  },
  {
   "cell_type": "markdown",
   "metadata": {},
   "source": [
    "In the OLS model, I checked the significance of features, and loc_Avalon Park, loc_Burnside, loc_Morgan Park, loc_Mount Greenwood, loc_Riverdale, loc_West Elsdon, loc_West Pullman are statistically significant with p-value <= 0.05. "
   ]
  },
  {
   "cell_type": "markdown",
   "metadata": {},
   "source": [
    "### 6.4 Gradient Boosting Regression"
   ]
  },
  {
   "cell_type": "code",
   "execution_count": 80,
   "metadata": {},
   "outputs": [
    {
     "name": "stdout",
     "output_type": "stream",
     "text": [
      "870.0345152809041\n",
      "22.71801605479322\n"
     ]
    }
   ],
   "source": [
    "gd_pred_Y = grad_grid_search.predict(X_test)\n",
    "print(mean_squared_error(y_test, gd_pred_Y))\n",
    "print(mean_absolute_error(y_test,gd_pred_Y))"
   ]
  },
  {
   "cell_type": "markdown",
   "metadata": {},
   "source": [
    "In terms of Gradient Boosting Regression, the calculated mean absolute error of OLS is 22.718 and mean squared error is 870.034, which is better than lasso, ridge and OLS. "
   ]
  },
  {
   "cell_type": "code",
   "execution_count": 81,
   "metadata": {},
   "outputs": [
    {
     "data": {
      "image/png": "[encoded data removed]",
      "text/plain": [
       "<Figure size 360x360 with 1 Axes>"
      ]
     },
     "metadata": {},
     "output_type": "display_data"
    },
    {
     "data": {
      "image/png": "[encoded data removed]",
      "text/plain": [
       "<Figure size 360x360 with 1 Axes>"
      ]
     },
     "metadata": {},
     "output_type": "display_data"
    }
   ],
   "source": [
    "Title = 'Distribution  Plot of  Predicted Value Using Training Data vs Training Data Distribution'\n",
    "sns.set()\n",
    "sns.displot(y_test,kind=\"kde\",color = 'y')\n",
    "plt.title('Distribution  Plot of  True Value')\n",
    "sns.displot(gd_pred_Y,kind=\"kde\",color = 'b')\n",
    "plt.title('Distribution  Plot of  Predicted Value')\n",
    "plt.show()"
   ]
  },
  {
   "cell_type": "markdown",
   "metadata": {},
   "source": [
    "### 6.5 Model Comparison"
   ]
  },
  {
   "cell_type": "code",
   "execution_count": 92,
   "metadata": {},
   "outputs": [],
   "source": [
    "dict = {'Model': ['Ridge', 'RidgeCV', 'Lasso', 'LassoCV', 'OLS', 'Gradient Boosting Regression'],\n",
    "        'R_square': [0.354,0.439,0.328,0.301,0.436,0.514],\n",
    "        'Mean_square_error': [1156.358,1003.233,1202.552,1251.282,1008.411,870.035],\n",
    "        'Mean_absolute_error': [27.452,24.991,27.858,28.601,24.940,22.718]}\n"
   ]
  },
  {
   "cell_type": "code",
   "execution_count": 93,
   "metadata": {},
   "outputs": [
    {
     "data": {
      "text/html": [
       "<div>\n",
       "<style scoped>\n",
       "    .dataframe tbody tr th:only-of-type {\n",
       "        vertical-align: middle;\n",
       "    }\n",
       "\n",
       "    .dataframe tbody tr th {\n",
       "        vertical-align: top;\n",
       "    }\n",
       "\n",
       "    .dataframe thead th {\n",
       "        text-align: right;\n",
       "    }\n",
       "</style>\n",
       "<table border=\"1\" class=\"dataframe\">\n",
       "  <thead>\n",
       "    <tr style=\"text-align: right;\">\n",
       "      <th></th>\n",
       "      <th>Model</th>\n",
       "      <th>R_square</th>\n",
       "      <th>Mean_square_error</th>\n",
       "      <th>Mean_absolute_error</th>\n",
       "    </tr>\n",
       "  </thead>\n",
       "  <tbody>\n",
       "    <tr>\n",
       "      <th>0</th>\n",
       "      <td>Ridge</td>\n",
       "      <td>0.354</td>\n",
       "      <td>1156.358</td>\n",
       "      <td>27.452</td>\n",
       "    </tr>\n",
       "    <tr>\n",
       "      <th>1</th>\n",
       "      <td>RidgeCV</td>\n",
       "      <td>0.439</td>\n",
       "      <td>1003.233</td>\n",
       "      <td>24.991</td>\n",
       "    </tr>\n",
       "    <tr>\n",
       "      <th>2</th>\n",
       "      <td>Lasso</td>\n",
       "      <td>0.328</td>\n",
       "      <td>1202.552</td>\n",
       "      <td>27.858</td>\n",
       "    </tr>\n",
       "    <tr>\n",
       "      <th>3</th>\n",
       "      <td>LassoCV</td>\n",
       "      <td>0.301</td>\n",
       "      <td>1251.282</td>\n",
       "      <td>28.601</td>\n",
       "    </tr>\n",
       "    <tr>\n",
       "      <th>4</th>\n",
       "      <td>OLS</td>\n",
       "      <td>0.436</td>\n",
       "      <td>1008.411</td>\n",
       "      <td>24.940</td>\n",
       "    </tr>\n",
       "    <tr>\n",
       "      <th>5</th>\n",
       "      <td>Gradient Boosting Regression</td>\n",
       "      <td>0.514</td>\n",
       "      <td>870.035</td>\n",
       "      <td>22.718</td>\n",
       "    </tr>\n",
       "  </tbody>\n",
       "</table>\n",
       "</div>"
      ],
      "text/plain": [
       "                          Model  R_square  Mean_square_error  \\\n",
       "0                         Ridge     0.354           1156.358   \n",
       "1                       RidgeCV     0.439           1003.233   \n",
       "2                         Lasso     0.328           1202.552   \n",
       "3                       LassoCV     0.301           1251.282   \n",
       "4                           OLS     0.436           1008.411   \n",
       "5  Gradient Boosting Regression     0.514            870.035   \n",
       "\n",
       "   Mean_absolute_error  \n",
       "0               27.452  \n",
       "1               24.991  \n",
       "2               27.858  \n",
       "3               28.601  \n",
       "4               24.940  \n",
       "5               22.718  "
      ]
     },
     "execution_count": 93,
     "metadata": {},
     "output_type": "execute_result"
    }
   ],
   "source": [
    "df = pd.DataFrame (dict)\n",
    "df"
   ]
  },
  {
   "cell_type": "markdown",
   "metadata": {},
   "source": [
    "1) Gradient Boosting Regression has the best R^2 but it still does not match the true price perfectly.  From the distribution of true and predicted price, we can see that the shapes are the same, but the crest are different.\n",
    "\n",
    "2) We may try different test/train split and the R^2 may change\n",
    "\n",
    "3) We can also try more parameters in GridSearchCV so that it may return a better model\n",
    "\n",
    "4) In the data processing part, since the text feature contains too many values, there may still be some unimportant text values existing in the data set. \n"
   ]
  }
 ],
 "metadata": {
  "kernelspec": {
   "display_name": "Python 3",
   "language": "python",
   "name": "python3"
  },
  "language_info": {
   "codemirror_mode": {
    "name": "ipython",
    "version": 3
   },
   "file_extension": ".py",
   "mimetype": "text/x-python",
   "name": "python",
   "nbconvert_exporter": "python",
   "pygments_lexer": "ipython3",
   "version": "3.8.5"
  }
 },
 "nbformat": 4,
 "nbformat_minor": 4
}
